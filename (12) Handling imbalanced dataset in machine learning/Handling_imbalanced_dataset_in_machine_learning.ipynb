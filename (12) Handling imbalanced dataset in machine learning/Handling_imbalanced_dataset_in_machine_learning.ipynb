{
  "nbformat": 4,
  "nbformat_minor": 0,
  "metadata": {
    "colab": {
      "name": "Handling imbalanced dataset in machine learning.ipynb",
      "provenance": [],
      "collapsed_sections": []
    },
    "kernelspec": {
      "name": "python3",
      "display_name": "Python 3"
    },
    "language_info": {
      "name": "python"
    }
  },
  "cells": [
    {
      "cell_type": "markdown",
      "metadata": {
        "id": "Lj-INIpom_m7"
      },
      "source": [
        "Customer churn prediction is to measure why customers are leaving a business. In this tutorial we will be looking at customer churn in telecom business. We will build a deep learning model to predict the churn and use precision,recall, f1-score to measure performance of our model. We will then handle imbalance in data using various techniques and improve f1-score"
      ]
    },
    {
      "cell_type": "code",
      "metadata": {
        "id": "Y7Wrbhqkmogi"
      },
      "source": [
        "# Import essentila libraries\n",
        "\n",
        "import pandas as pd\n",
        "import numpy as np\n",
        "from matplotlib import pyplot as plt\n",
        "%matplotlib inline\n",
        "import warnings\n",
        "warnings.filterwarnings('ignore')"
      ],
      "execution_count": 1,
      "outputs": []
    },
    {
      "cell_type": "code",
      "metadata": {
        "colab": {
          "base_uri": "https://localhost:8080/",
          "height": 305
        },
        "id": "E_pCXKhRnWFj",
        "outputId": "7d01d4ab-f358-4090-fcb3-dcb3dd88f065"
      },
      "source": [
        "# Load dataset\n",
        "\n",
        "df = pd.read_csv(\"customer_churn.csv\")\n",
        "df.sample(5)"
      ],
      "execution_count": 2,
      "outputs": [
        {
          "output_type": "execute_result",
          "data": {
            "text/html": [
              "<div>\n",
              "<style scoped>\n",
              "    .dataframe tbody tr th:only-of-type {\n",
              "        vertical-align: middle;\n",
              "    }\n",
              "\n",
              "    .dataframe tbody tr th {\n",
              "        vertical-align: top;\n",
              "    }\n",
              "\n",
              "    .dataframe thead th {\n",
              "        text-align: right;\n",
              "    }\n",
              "</style>\n",
              "<table border=\"1\" class=\"dataframe\">\n",
              "  <thead>\n",
              "    <tr style=\"text-align: right;\">\n",
              "      <th></th>\n",
              "      <th>customerID</th>\n",
              "      <th>gender</th>\n",
              "      <th>SeniorCitizen</th>\n",
              "      <th>Partner</th>\n",
              "      <th>Dependents</th>\n",
              "      <th>tenure</th>\n",
              "      <th>PhoneService</th>\n",
              "      <th>MultipleLines</th>\n",
              "      <th>InternetService</th>\n",
              "      <th>OnlineSecurity</th>\n",
              "      <th>OnlineBackup</th>\n",
              "      <th>DeviceProtection</th>\n",
              "      <th>TechSupport</th>\n",
              "      <th>StreamingTV</th>\n",
              "      <th>StreamingMovies</th>\n",
              "      <th>Contract</th>\n",
              "      <th>PaperlessBilling</th>\n",
              "      <th>PaymentMethod</th>\n",
              "      <th>MonthlyCharges</th>\n",
              "      <th>TotalCharges</th>\n",
              "      <th>Churn</th>\n",
              "    </tr>\n",
              "  </thead>\n",
              "  <tbody>\n",
              "    <tr>\n",
              "      <th>228</th>\n",
              "      <td>4811-JBUVU</td>\n",
              "      <td>Male</td>\n",
              "      <td>0</td>\n",
              "      <td>No</td>\n",
              "      <td>No</td>\n",
              "      <td>30</td>\n",
              "      <td>Yes</td>\n",
              "      <td>Yes</td>\n",
              "      <td>Fiber optic</td>\n",
              "      <td>No</td>\n",
              "      <td>No</td>\n",
              "      <td>No</td>\n",
              "      <td>Yes</td>\n",
              "      <td>No</td>\n",
              "      <td>Yes</td>\n",
              "      <td>Month-to-month</td>\n",
              "      <td>Yes</td>\n",
              "      <td>Credit card (automatic)</td>\n",
              "      <td>89.90</td>\n",
              "      <td>2723.15</td>\n",
              "      <td>No</td>\n",
              "    </tr>\n",
              "    <tr>\n",
              "      <th>5593</th>\n",
              "      <td>4508-OEBEY</td>\n",
              "      <td>Male</td>\n",
              "      <td>0</td>\n",
              "      <td>Yes</td>\n",
              "      <td>No</td>\n",
              "      <td>31</td>\n",
              "      <td>Yes</td>\n",
              "      <td>No</td>\n",
              "      <td>DSL</td>\n",
              "      <td>Yes</td>\n",
              "      <td>Yes</td>\n",
              "      <td>Yes</td>\n",
              "      <td>Yes</td>\n",
              "      <td>No</td>\n",
              "      <td>Yes</td>\n",
              "      <td>One year</td>\n",
              "      <td>Yes</td>\n",
              "      <td>Credit card (automatic)</td>\n",
              "      <td>75.50</td>\n",
              "      <td>2424.45</td>\n",
              "      <td>No</td>\n",
              "    </tr>\n",
              "    <tr>\n",
              "      <th>6124</th>\n",
              "      <td>7153-CHRBV</td>\n",
              "      <td>Female</td>\n",
              "      <td>0</td>\n",
              "      <td>Yes</td>\n",
              "      <td>Yes</td>\n",
              "      <td>57</td>\n",
              "      <td>Yes</td>\n",
              "      <td>No</td>\n",
              "      <td>DSL</td>\n",
              "      <td>Yes</td>\n",
              "      <td>No</td>\n",
              "      <td>Yes</td>\n",
              "      <td>Yes</td>\n",
              "      <td>No</td>\n",
              "      <td>No</td>\n",
              "      <td>One year</td>\n",
              "      <td>Yes</td>\n",
              "      <td>Mailed check</td>\n",
              "      <td>59.30</td>\n",
              "      <td>3274.35</td>\n",
              "      <td>No</td>\n",
              "    </tr>\n",
              "    <tr>\n",
              "      <th>3893</th>\n",
              "      <td>5816-SCGFC</td>\n",
              "      <td>Female</td>\n",
              "      <td>1</td>\n",
              "      <td>No</td>\n",
              "      <td>No</td>\n",
              "      <td>7</td>\n",
              "      <td>Yes</td>\n",
              "      <td>No</td>\n",
              "      <td>DSL</td>\n",
              "      <td>No</td>\n",
              "      <td>Yes</td>\n",
              "      <td>No</td>\n",
              "      <td>No</td>\n",
              "      <td>No</td>\n",
              "      <td>No</td>\n",
              "      <td>Month-to-month</td>\n",
              "      <td>Yes</td>\n",
              "      <td>Mailed check</td>\n",
              "      <td>51.30</td>\n",
              "      <td>419.35</td>\n",
              "      <td>No</td>\n",
              "    </tr>\n",
              "    <tr>\n",
              "      <th>127</th>\n",
              "      <td>6734-PSBAW</td>\n",
              "      <td>Male</td>\n",
              "      <td>0</td>\n",
              "      <td>Yes</td>\n",
              "      <td>No</td>\n",
              "      <td>72</td>\n",
              "      <td>Yes</td>\n",
              "      <td>Yes</td>\n",
              "      <td>No</td>\n",
              "      <td>No internet service</td>\n",
              "      <td>No internet service</td>\n",
              "      <td>No internet service</td>\n",
              "      <td>No internet service</td>\n",
              "      <td>No internet service</td>\n",
              "      <td>No internet service</td>\n",
              "      <td>Two year</td>\n",
              "      <td>Yes</td>\n",
              "      <td>Bank transfer (automatic)</td>\n",
              "      <td>23.55</td>\n",
              "      <td>1723.95</td>\n",
              "      <td>No</td>\n",
              "    </tr>\n",
              "  </tbody>\n",
              "</table>\n",
              "</div>"
            ],
            "text/plain": [
              "      customerID  gender  SeniorCitizen  ... MonthlyCharges TotalCharges  Churn\n",
              "228   4811-JBUVU    Male              0  ...          89.90      2723.15     No\n",
              "5593  4508-OEBEY    Male              0  ...          75.50      2424.45     No\n",
              "6124  7153-CHRBV  Female              0  ...          59.30      3274.35     No\n",
              "3893  5816-SCGFC  Female              1  ...          51.30       419.35     No\n",
              "127   6734-PSBAW    Male              0  ...          23.55      1723.95     No\n",
              "\n",
              "[5 rows x 21 columns]"
            ]
          },
          "metadata": {
            "tags": []
          },
          "execution_count": 2
        }
      ]
    },
    {
      "cell_type": "code",
      "metadata": {
        "colab": {
          "base_uri": "https://localhost:8080/"
        },
        "id": "0FCKc8h0nbPh",
        "outputId": "abcf866c-2e0d-4628-99be-59ef6abb9263"
      },
      "source": [
        "df.Churn.value_counts()"
      ],
      "execution_count": 3,
      "outputs": [
        {
          "output_type": "execute_result",
          "data": {
            "text/plain": [
              "No     5174\n",
              "Yes    1869\n",
              "Name: Churn, dtype: int64"
            ]
          },
          "metadata": {
            "tags": []
          },
          "execution_count": 3
        }
      ]
    },
    {
      "cell_type": "code",
      "metadata": {
        "colab": {
          "base_uri": "https://localhost:8080/"
        },
        "id": "l4hhntVQnc4p",
        "outputId": "8ad568d9-9edb-47ae-d50d-82e4b079c293"
      },
      "source": [
        "517400/df.shape[0]"
      ],
      "execution_count": 4,
      "outputs": [
        {
          "output_type": "execute_result",
          "data": {
            "text/plain": [
              "73.46301292063042"
            ]
          },
          "metadata": {
            "tags": []
          },
          "execution_count": 4
        }
      ]
    },
    {
      "cell_type": "code",
      "metadata": {
        "id": "TcSlvTmXne8C"
      },
      "source": [
        "# First of all, drop customerID column as it is of no use\n",
        "\n",
        "df.drop('customerID',axis='columns',inplace=True)"
      ],
      "execution_count": 5,
      "outputs": []
    },
    {
      "cell_type": "code",
      "metadata": {
        "colab": {
          "base_uri": "https://localhost:8080/"
        },
        "id": "YmpxtWdgnjuo",
        "outputId": "9a8b2f1e-d644-401e-d67b-f85c06ad8845"
      },
      "source": [
        "df.dtypes"
      ],
      "execution_count": 6,
      "outputs": [
        {
          "output_type": "execute_result",
          "data": {
            "text/plain": [
              "gender               object\n",
              "SeniorCitizen         int64\n",
              "Partner              object\n",
              "Dependents           object\n",
              "tenure                int64\n",
              "PhoneService         object\n",
              "MultipleLines        object\n",
              "InternetService      object\n",
              "OnlineSecurity       object\n",
              "OnlineBackup         object\n",
              "DeviceProtection     object\n",
              "TechSupport          object\n",
              "StreamingTV          object\n",
              "StreamingMovies      object\n",
              "Contract             object\n",
              "PaperlessBilling     object\n",
              "PaymentMethod        object\n",
              "MonthlyCharges      float64\n",
              "TotalCharges         object\n",
              "Churn                object\n",
              "dtype: object"
            ]
          },
          "metadata": {
            "tags": []
          },
          "execution_count": 6
        }
      ]
    },
    {
      "cell_type": "code",
      "metadata": {
        "colab": {
          "base_uri": "https://localhost:8080/"
        },
        "id": "JZTM6lK8nlha",
        "outputId": "dd29cbbd-dc71-43f3-8678-fa5a1df541a5"
      },
      "source": [
        "# Quick glance at above makes me realize that TotalCharges should be float but it is an object. Let's check what's going on with this column\n",
        "\n",
        "df.TotalCharges.values"
      ],
      "execution_count": 7,
      "outputs": [
        {
          "output_type": "execute_result",
          "data": {
            "text/plain": [
              "array(['29.85', '1889.5', '108.15', ..., '346.45', '306.6', '6844.5'],\n",
              "      dtype=object)"
            ]
          },
          "metadata": {
            "tags": []
          },
          "execution_count": 7
        }
      ]
    },
    {
      "cell_type": "code",
      "metadata": {
        "colab": {
          "base_uri": "https://localhost:8080/"
        },
        "id": "iJu0xqP8nrba",
        "outputId": "7e013ea9-d618-450c-885e-728f8772e009"
      },
      "source": [
        "# it is string. Lets convert it to numbers\n",
        "\n",
        "pd.to_numeric(df.TotalCharges,errors='coerce').isnull()"
      ],
      "execution_count": 8,
      "outputs": [
        {
          "output_type": "execute_result",
          "data": {
            "text/plain": [
              "0       False\n",
              "1       False\n",
              "2       False\n",
              "3       False\n",
              "4       False\n",
              "        ...  \n",
              "7038    False\n",
              "7039    False\n",
              "7040    False\n",
              "7041    False\n",
              "7042    False\n",
              "Name: TotalCharges, Length: 7043, dtype: bool"
            ]
          },
          "metadata": {
            "tags": []
          },
          "execution_count": 8
        }
      ]
    },
    {
      "cell_type": "code",
      "metadata": {
        "colab": {
          "base_uri": "https://localhost:8080/",
          "height": 554
        },
        "id": "f2lUzciInvd6",
        "outputId": "e2cbc884-a6a5-4c9a-bf8d-093680444d72"
      },
      "source": [
        "df[pd.to_numeric(df.TotalCharges,errors='coerce').isnull()]"
      ],
      "execution_count": 9,
      "outputs": [
        {
          "output_type": "execute_result",
          "data": {
            "text/html": [
              "<div>\n",
              "<style scoped>\n",
              "    .dataframe tbody tr th:only-of-type {\n",
              "        vertical-align: middle;\n",
              "    }\n",
              "\n",
              "    .dataframe tbody tr th {\n",
              "        vertical-align: top;\n",
              "    }\n",
              "\n",
              "    .dataframe thead th {\n",
              "        text-align: right;\n",
              "    }\n",
              "</style>\n",
              "<table border=\"1\" class=\"dataframe\">\n",
              "  <thead>\n",
              "    <tr style=\"text-align: right;\">\n",
              "      <th></th>\n",
              "      <th>gender</th>\n",
              "      <th>SeniorCitizen</th>\n",
              "      <th>Partner</th>\n",
              "      <th>Dependents</th>\n",
              "      <th>tenure</th>\n",
              "      <th>PhoneService</th>\n",
              "      <th>MultipleLines</th>\n",
              "      <th>InternetService</th>\n",
              "      <th>OnlineSecurity</th>\n",
              "      <th>OnlineBackup</th>\n",
              "      <th>DeviceProtection</th>\n",
              "      <th>TechSupport</th>\n",
              "      <th>StreamingTV</th>\n",
              "      <th>StreamingMovies</th>\n",
              "      <th>Contract</th>\n",
              "      <th>PaperlessBilling</th>\n",
              "      <th>PaymentMethod</th>\n",
              "      <th>MonthlyCharges</th>\n",
              "      <th>TotalCharges</th>\n",
              "      <th>Churn</th>\n",
              "    </tr>\n",
              "  </thead>\n",
              "  <tbody>\n",
              "    <tr>\n",
              "      <th>488</th>\n",
              "      <td>Female</td>\n",
              "      <td>0</td>\n",
              "      <td>Yes</td>\n",
              "      <td>Yes</td>\n",
              "      <td>0</td>\n",
              "      <td>No</td>\n",
              "      <td>No phone service</td>\n",
              "      <td>DSL</td>\n",
              "      <td>Yes</td>\n",
              "      <td>No</td>\n",
              "      <td>Yes</td>\n",
              "      <td>Yes</td>\n",
              "      <td>Yes</td>\n",
              "      <td>No</td>\n",
              "      <td>Two year</td>\n",
              "      <td>Yes</td>\n",
              "      <td>Bank transfer (automatic)</td>\n",
              "      <td>52.55</td>\n",
              "      <td></td>\n",
              "      <td>No</td>\n",
              "    </tr>\n",
              "    <tr>\n",
              "      <th>753</th>\n",
              "      <td>Male</td>\n",
              "      <td>0</td>\n",
              "      <td>No</td>\n",
              "      <td>Yes</td>\n",
              "      <td>0</td>\n",
              "      <td>Yes</td>\n",
              "      <td>No</td>\n",
              "      <td>No</td>\n",
              "      <td>No internet service</td>\n",
              "      <td>No internet service</td>\n",
              "      <td>No internet service</td>\n",
              "      <td>No internet service</td>\n",
              "      <td>No internet service</td>\n",
              "      <td>No internet service</td>\n",
              "      <td>Two year</td>\n",
              "      <td>No</td>\n",
              "      <td>Mailed check</td>\n",
              "      <td>20.25</td>\n",
              "      <td></td>\n",
              "      <td>No</td>\n",
              "    </tr>\n",
              "    <tr>\n",
              "      <th>936</th>\n",
              "      <td>Female</td>\n",
              "      <td>0</td>\n",
              "      <td>Yes</td>\n",
              "      <td>Yes</td>\n",
              "      <td>0</td>\n",
              "      <td>Yes</td>\n",
              "      <td>No</td>\n",
              "      <td>DSL</td>\n",
              "      <td>Yes</td>\n",
              "      <td>Yes</td>\n",
              "      <td>Yes</td>\n",
              "      <td>No</td>\n",
              "      <td>Yes</td>\n",
              "      <td>Yes</td>\n",
              "      <td>Two year</td>\n",
              "      <td>No</td>\n",
              "      <td>Mailed check</td>\n",
              "      <td>80.85</td>\n",
              "      <td></td>\n",
              "      <td>No</td>\n",
              "    </tr>\n",
              "    <tr>\n",
              "      <th>1082</th>\n",
              "      <td>Male</td>\n",
              "      <td>0</td>\n",
              "      <td>Yes</td>\n",
              "      <td>Yes</td>\n",
              "      <td>0</td>\n",
              "      <td>Yes</td>\n",
              "      <td>Yes</td>\n",
              "      <td>No</td>\n",
              "      <td>No internet service</td>\n",
              "      <td>No internet service</td>\n",
              "      <td>No internet service</td>\n",
              "      <td>No internet service</td>\n",
              "      <td>No internet service</td>\n",
              "      <td>No internet service</td>\n",
              "      <td>Two year</td>\n",
              "      <td>No</td>\n",
              "      <td>Mailed check</td>\n",
              "      <td>25.75</td>\n",
              "      <td></td>\n",
              "      <td>No</td>\n",
              "    </tr>\n",
              "    <tr>\n",
              "      <th>1340</th>\n",
              "      <td>Female</td>\n",
              "      <td>0</td>\n",
              "      <td>Yes</td>\n",
              "      <td>Yes</td>\n",
              "      <td>0</td>\n",
              "      <td>No</td>\n",
              "      <td>No phone service</td>\n",
              "      <td>DSL</td>\n",
              "      <td>Yes</td>\n",
              "      <td>Yes</td>\n",
              "      <td>Yes</td>\n",
              "      <td>Yes</td>\n",
              "      <td>Yes</td>\n",
              "      <td>No</td>\n",
              "      <td>Two year</td>\n",
              "      <td>No</td>\n",
              "      <td>Credit card (automatic)</td>\n",
              "      <td>56.05</td>\n",
              "      <td></td>\n",
              "      <td>No</td>\n",
              "    </tr>\n",
              "    <tr>\n",
              "      <th>3331</th>\n",
              "      <td>Male</td>\n",
              "      <td>0</td>\n",
              "      <td>Yes</td>\n",
              "      <td>Yes</td>\n",
              "      <td>0</td>\n",
              "      <td>Yes</td>\n",
              "      <td>No</td>\n",
              "      <td>No</td>\n",
              "      <td>No internet service</td>\n",
              "      <td>No internet service</td>\n",
              "      <td>No internet service</td>\n",
              "      <td>No internet service</td>\n",
              "      <td>No internet service</td>\n",
              "      <td>No internet service</td>\n",
              "      <td>Two year</td>\n",
              "      <td>No</td>\n",
              "      <td>Mailed check</td>\n",
              "      <td>19.85</td>\n",
              "      <td></td>\n",
              "      <td>No</td>\n",
              "    </tr>\n",
              "    <tr>\n",
              "      <th>3826</th>\n",
              "      <td>Male</td>\n",
              "      <td>0</td>\n",
              "      <td>Yes</td>\n",
              "      <td>Yes</td>\n",
              "      <td>0</td>\n",
              "      <td>Yes</td>\n",
              "      <td>Yes</td>\n",
              "      <td>No</td>\n",
              "      <td>No internet service</td>\n",
              "      <td>No internet service</td>\n",
              "      <td>No internet service</td>\n",
              "      <td>No internet service</td>\n",
              "      <td>No internet service</td>\n",
              "      <td>No internet service</td>\n",
              "      <td>Two year</td>\n",
              "      <td>No</td>\n",
              "      <td>Mailed check</td>\n",
              "      <td>25.35</td>\n",
              "      <td></td>\n",
              "      <td>No</td>\n",
              "    </tr>\n",
              "    <tr>\n",
              "      <th>4380</th>\n",
              "      <td>Female</td>\n",
              "      <td>0</td>\n",
              "      <td>Yes</td>\n",
              "      <td>Yes</td>\n",
              "      <td>0</td>\n",
              "      <td>Yes</td>\n",
              "      <td>No</td>\n",
              "      <td>No</td>\n",
              "      <td>No internet service</td>\n",
              "      <td>No internet service</td>\n",
              "      <td>No internet service</td>\n",
              "      <td>No internet service</td>\n",
              "      <td>No internet service</td>\n",
              "      <td>No internet service</td>\n",
              "      <td>Two year</td>\n",
              "      <td>No</td>\n",
              "      <td>Mailed check</td>\n",
              "      <td>20.00</td>\n",
              "      <td></td>\n",
              "      <td>No</td>\n",
              "    </tr>\n",
              "    <tr>\n",
              "      <th>5218</th>\n",
              "      <td>Male</td>\n",
              "      <td>0</td>\n",
              "      <td>Yes</td>\n",
              "      <td>Yes</td>\n",
              "      <td>0</td>\n",
              "      <td>Yes</td>\n",
              "      <td>No</td>\n",
              "      <td>No</td>\n",
              "      <td>No internet service</td>\n",
              "      <td>No internet service</td>\n",
              "      <td>No internet service</td>\n",
              "      <td>No internet service</td>\n",
              "      <td>No internet service</td>\n",
              "      <td>No internet service</td>\n",
              "      <td>One year</td>\n",
              "      <td>Yes</td>\n",
              "      <td>Mailed check</td>\n",
              "      <td>19.70</td>\n",
              "      <td></td>\n",
              "      <td>No</td>\n",
              "    </tr>\n",
              "    <tr>\n",
              "      <th>6670</th>\n",
              "      <td>Female</td>\n",
              "      <td>0</td>\n",
              "      <td>Yes</td>\n",
              "      <td>Yes</td>\n",
              "      <td>0</td>\n",
              "      <td>Yes</td>\n",
              "      <td>Yes</td>\n",
              "      <td>DSL</td>\n",
              "      <td>No</td>\n",
              "      <td>Yes</td>\n",
              "      <td>Yes</td>\n",
              "      <td>Yes</td>\n",
              "      <td>Yes</td>\n",
              "      <td>No</td>\n",
              "      <td>Two year</td>\n",
              "      <td>No</td>\n",
              "      <td>Mailed check</td>\n",
              "      <td>73.35</td>\n",
              "      <td></td>\n",
              "      <td>No</td>\n",
              "    </tr>\n",
              "    <tr>\n",
              "      <th>6754</th>\n",
              "      <td>Male</td>\n",
              "      <td>0</td>\n",
              "      <td>No</td>\n",
              "      <td>Yes</td>\n",
              "      <td>0</td>\n",
              "      <td>Yes</td>\n",
              "      <td>Yes</td>\n",
              "      <td>DSL</td>\n",
              "      <td>Yes</td>\n",
              "      <td>Yes</td>\n",
              "      <td>No</td>\n",
              "      <td>Yes</td>\n",
              "      <td>No</td>\n",
              "      <td>No</td>\n",
              "      <td>Two year</td>\n",
              "      <td>Yes</td>\n",
              "      <td>Bank transfer (automatic)</td>\n",
              "      <td>61.90</td>\n",
              "      <td></td>\n",
              "      <td>No</td>\n",
              "    </tr>\n",
              "  </tbody>\n",
              "</table>\n",
              "</div>"
            ],
            "text/plain": [
              "      gender  SeniorCitizen Partner  ... MonthlyCharges  TotalCharges Churn\n",
              "488   Female              0     Yes  ...          52.55                  No\n",
              "753     Male              0      No  ...          20.25                  No\n",
              "936   Female              0     Yes  ...          80.85                  No\n",
              "1082    Male              0     Yes  ...          25.75                  No\n",
              "1340  Female              0     Yes  ...          56.05                  No\n",
              "3331    Male              0     Yes  ...          19.85                  No\n",
              "3826    Male              0     Yes  ...          25.35                  No\n",
              "4380  Female              0     Yes  ...          20.00                  No\n",
              "5218    Male              0     Yes  ...          19.70                  No\n",
              "6670  Female              0     Yes  ...          73.35                  No\n",
              "6754    Male              0      No  ...          61.90                  No\n",
              "\n",
              "[11 rows x 20 columns]"
            ]
          },
          "metadata": {
            "tags": []
          },
          "execution_count": 9
        }
      ]
    },
    {
      "cell_type": "code",
      "metadata": {
        "colab": {
          "base_uri": "https://localhost:8080/"
        },
        "id": "MSdSXERbnzH6",
        "outputId": "aeb6f06b-7698-4638-b94b-230e4c5bec02"
      },
      "source": [
        "df.shape"
      ],
      "execution_count": 10,
      "outputs": [
        {
          "output_type": "execute_result",
          "data": {
            "text/plain": [
              "(7043, 20)"
            ]
          },
          "metadata": {
            "tags": []
          },
          "execution_count": 10
        }
      ]
    },
    {
      "cell_type": "code",
      "metadata": {
        "colab": {
          "base_uri": "https://localhost:8080/",
          "height": 34
        },
        "id": "2r9SboRKn0qx",
        "outputId": "d6a9ad0e-7a1f-4d3f-d326-7d228cdda8a5"
      },
      "source": [
        "df.iloc[488].TotalCharges"
      ],
      "execution_count": 11,
      "outputs": [
        {
          "output_type": "execute_result",
          "data": {
            "application/vnd.google.colaboratory.intrinsic+json": {
              "type": "string"
            },
            "text/plain": [
              "' '"
            ]
          },
          "metadata": {
            "tags": []
          },
          "execution_count": 11
        }
      ]
    },
    {
      "cell_type": "code",
      "metadata": {
        "colab": {
          "base_uri": "https://localhost:8080/"
        },
        "id": "o3rEvHh_n2Ah",
        "outputId": "cb287845-48f1-4d6b-8c79-ba779bf1b68f"
      },
      "source": [
        "df[df.TotalCharges!=' '].shape"
      ],
      "execution_count": 12,
      "outputs": [
        {
          "output_type": "execute_result",
          "data": {
            "text/plain": [
              "(7032, 20)"
            ]
          },
          "metadata": {
            "tags": []
          },
          "execution_count": 12
        }
      ]
    },
    {
      "cell_type": "code",
      "metadata": {
        "colab": {
          "base_uri": "https://localhost:8080/"
        },
        "id": "e0ZyXPCqn3gy",
        "outputId": "4c440cb6-e8bb-457d-a3e5-883014c85927"
      },
      "source": [
        "# Remove rows with space in TotalCharges\n",
        "\n",
        "df1 = df[df.TotalCharges!=' ']\n",
        "df1.shape"
      ],
      "execution_count": 13,
      "outputs": [
        {
          "output_type": "execute_result",
          "data": {
            "text/plain": [
              "(7032, 20)"
            ]
          },
          "metadata": {
            "tags": []
          },
          "execution_count": 13
        }
      ]
    },
    {
      "cell_type": "code",
      "metadata": {
        "colab": {
          "base_uri": "https://localhost:8080/"
        },
        "id": "9LRGj0v1n6sR",
        "outputId": "c0313bed-a0e2-45a3-b827-04e0730056be"
      },
      "source": [
        "df1.dtypes"
      ],
      "execution_count": 14,
      "outputs": [
        {
          "output_type": "execute_result",
          "data": {
            "text/plain": [
              "gender               object\n",
              "SeniorCitizen         int64\n",
              "Partner              object\n",
              "Dependents           object\n",
              "tenure                int64\n",
              "PhoneService         object\n",
              "MultipleLines        object\n",
              "InternetService      object\n",
              "OnlineSecurity       object\n",
              "OnlineBackup         object\n",
              "DeviceProtection     object\n",
              "TechSupport          object\n",
              "StreamingTV          object\n",
              "StreamingMovies      object\n",
              "Contract             object\n",
              "PaperlessBilling     object\n",
              "PaymentMethod        object\n",
              "MonthlyCharges      float64\n",
              "TotalCharges         object\n",
              "Churn                object\n",
              "dtype: object"
            ]
          },
          "metadata": {
            "tags": []
          },
          "execution_count": 14
        }
      ]
    },
    {
      "cell_type": "code",
      "metadata": {
        "id": "eQWdi1vYn8Pa"
      },
      "source": [
        "df1.TotalCharges = pd.to_numeric(df1.TotalCharges)"
      ],
      "execution_count": 15,
      "outputs": []
    },
    {
      "cell_type": "code",
      "metadata": {
        "colab": {
          "base_uri": "https://localhost:8080/"
        },
        "id": "Lj_8UhE2n-SS",
        "outputId": "d966a79f-315c-4851-ef03-2e3ec9cc1199"
      },
      "source": [
        "df1.TotalCharges.values"
      ],
      "execution_count": 16,
      "outputs": [
        {
          "output_type": "execute_result",
          "data": {
            "text/plain": [
              "array([  29.85, 1889.5 ,  108.15, ...,  346.45,  306.6 , 6844.5 ])"
            ]
          },
          "metadata": {
            "tags": []
          },
          "execution_count": 16
        }
      ]
    },
    {
      "cell_type": "code",
      "metadata": {
        "colab": {
          "base_uri": "https://localhost:8080/",
          "height": 566
        },
        "id": "VtnVqyWFoALp",
        "outputId": "a11bf93a-c029-4444-a775-6f7112a8783e"
      },
      "source": [
        "df1[df1.Churn=='No']"
      ],
      "execution_count": 17,
      "outputs": [
        {
          "output_type": "execute_result",
          "data": {
            "text/html": [
              "<div>\n",
              "<style scoped>\n",
              "    .dataframe tbody tr th:only-of-type {\n",
              "        vertical-align: middle;\n",
              "    }\n",
              "\n",
              "    .dataframe tbody tr th {\n",
              "        vertical-align: top;\n",
              "    }\n",
              "\n",
              "    .dataframe thead th {\n",
              "        text-align: right;\n",
              "    }\n",
              "</style>\n",
              "<table border=\"1\" class=\"dataframe\">\n",
              "  <thead>\n",
              "    <tr style=\"text-align: right;\">\n",
              "      <th></th>\n",
              "      <th>gender</th>\n",
              "      <th>SeniorCitizen</th>\n",
              "      <th>Partner</th>\n",
              "      <th>Dependents</th>\n",
              "      <th>tenure</th>\n",
              "      <th>PhoneService</th>\n",
              "      <th>MultipleLines</th>\n",
              "      <th>InternetService</th>\n",
              "      <th>OnlineSecurity</th>\n",
              "      <th>OnlineBackup</th>\n",
              "      <th>DeviceProtection</th>\n",
              "      <th>TechSupport</th>\n",
              "      <th>StreamingTV</th>\n",
              "      <th>StreamingMovies</th>\n",
              "      <th>Contract</th>\n",
              "      <th>PaperlessBilling</th>\n",
              "      <th>PaymentMethod</th>\n",
              "      <th>MonthlyCharges</th>\n",
              "      <th>TotalCharges</th>\n",
              "      <th>Churn</th>\n",
              "    </tr>\n",
              "  </thead>\n",
              "  <tbody>\n",
              "    <tr>\n",
              "      <th>0</th>\n",
              "      <td>Female</td>\n",
              "      <td>0</td>\n",
              "      <td>Yes</td>\n",
              "      <td>No</td>\n",
              "      <td>1</td>\n",
              "      <td>No</td>\n",
              "      <td>No phone service</td>\n",
              "      <td>DSL</td>\n",
              "      <td>No</td>\n",
              "      <td>Yes</td>\n",
              "      <td>No</td>\n",
              "      <td>No</td>\n",
              "      <td>No</td>\n",
              "      <td>No</td>\n",
              "      <td>Month-to-month</td>\n",
              "      <td>Yes</td>\n",
              "      <td>Electronic check</td>\n",
              "      <td>29.85</td>\n",
              "      <td>29.85</td>\n",
              "      <td>No</td>\n",
              "    </tr>\n",
              "    <tr>\n",
              "      <th>1</th>\n",
              "      <td>Male</td>\n",
              "      <td>0</td>\n",
              "      <td>No</td>\n",
              "      <td>No</td>\n",
              "      <td>34</td>\n",
              "      <td>Yes</td>\n",
              "      <td>No</td>\n",
              "      <td>DSL</td>\n",
              "      <td>Yes</td>\n",
              "      <td>No</td>\n",
              "      <td>Yes</td>\n",
              "      <td>No</td>\n",
              "      <td>No</td>\n",
              "      <td>No</td>\n",
              "      <td>One year</td>\n",
              "      <td>No</td>\n",
              "      <td>Mailed check</td>\n",
              "      <td>56.95</td>\n",
              "      <td>1889.50</td>\n",
              "      <td>No</td>\n",
              "    </tr>\n",
              "    <tr>\n",
              "      <th>3</th>\n",
              "      <td>Male</td>\n",
              "      <td>0</td>\n",
              "      <td>No</td>\n",
              "      <td>No</td>\n",
              "      <td>45</td>\n",
              "      <td>No</td>\n",
              "      <td>No phone service</td>\n",
              "      <td>DSL</td>\n",
              "      <td>Yes</td>\n",
              "      <td>No</td>\n",
              "      <td>Yes</td>\n",
              "      <td>Yes</td>\n",
              "      <td>No</td>\n",
              "      <td>No</td>\n",
              "      <td>One year</td>\n",
              "      <td>No</td>\n",
              "      <td>Bank transfer (automatic)</td>\n",
              "      <td>42.30</td>\n",
              "      <td>1840.75</td>\n",
              "      <td>No</td>\n",
              "    </tr>\n",
              "    <tr>\n",
              "      <th>6</th>\n",
              "      <td>Male</td>\n",
              "      <td>0</td>\n",
              "      <td>No</td>\n",
              "      <td>Yes</td>\n",
              "      <td>22</td>\n",
              "      <td>Yes</td>\n",
              "      <td>Yes</td>\n",
              "      <td>Fiber optic</td>\n",
              "      <td>No</td>\n",
              "      <td>Yes</td>\n",
              "      <td>No</td>\n",
              "      <td>No</td>\n",
              "      <td>Yes</td>\n",
              "      <td>No</td>\n",
              "      <td>Month-to-month</td>\n",
              "      <td>Yes</td>\n",
              "      <td>Credit card (automatic)</td>\n",
              "      <td>89.10</td>\n",
              "      <td>1949.40</td>\n",
              "      <td>No</td>\n",
              "    </tr>\n",
              "    <tr>\n",
              "      <th>7</th>\n",
              "      <td>Female</td>\n",
              "      <td>0</td>\n",
              "      <td>No</td>\n",
              "      <td>No</td>\n",
              "      <td>10</td>\n",
              "      <td>No</td>\n",
              "      <td>No phone service</td>\n",
              "      <td>DSL</td>\n",
              "      <td>Yes</td>\n",
              "      <td>No</td>\n",
              "      <td>No</td>\n",
              "      <td>No</td>\n",
              "      <td>No</td>\n",
              "      <td>No</td>\n",
              "      <td>Month-to-month</td>\n",
              "      <td>No</td>\n",
              "      <td>Mailed check</td>\n",
              "      <td>29.75</td>\n",
              "      <td>301.90</td>\n",
              "      <td>No</td>\n",
              "    </tr>\n",
              "    <tr>\n",
              "      <th>...</th>\n",
              "      <td>...</td>\n",
              "      <td>...</td>\n",
              "      <td>...</td>\n",
              "      <td>...</td>\n",
              "      <td>...</td>\n",
              "      <td>...</td>\n",
              "      <td>...</td>\n",
              "      <td>...</td>\n",
              "      <td>...</td>\n",
              "      <td>...</td>\n",
              "      <td>...</td>\n",
              "      <td>...</td>\n",
              "      <td>...</td>\n",
              "      <td>...</td>\n",
              "      <td>...</td>\n",
              "      <td>...</td>\n",
              "      <td>...</td>\n",
              "      <td>...</td>\n",
              "      <td>...</td>\n",
              "      <td>...</td>\n",
              "    </tr>\n",
              "    <tr>\n",
              "      <th>7037</th>\n",
              "      <td>Female</td>\n",
              "      <td>0</td>\n",
              "      <td>No</td>\n",
              "      <td>No</td>\n",
              "      <td>72</td>\n",
              "      <td>Yes</td>\n",
              "      <td>No</td>\n",
              "      <td>No</td>\n",
              "      <td>No internet service</td>\n",
              "      <td>No internet service</td>\n",
              "      <td>No internet service</td>\n",
              "      <td>No internet service</td>\n",
              "      <td>No internet service</td>\n",
              "      <td>No internet service</td>\n",
              "      <td>Two year</td>\n",
              "      <td>Yes</td>\n",
              "      <td>Bank transfer (automatic)</td>\n",
              "      <td>21.15</td>\n",
              "      <td>1419.40</td>\n",
              "      <td>No</td>\n",
              "    </tr>\n",
              "    <tr>\n",
              "      <th>7038</th>\n",
              "      <td>Male</td>\n",
              "      <td>0</td>\n",
              "      <td>Yes</td>\n",
              "      <td>Yes</td>\n",
              "      <td>24</td>\n",
              "      <td>Yes</td>\n",
              "      <td>Yes</td>\n",
              "      <td>DSL</td>\n",
              "      <td>Yes</td>\n",
              "      <td>No</td>\n",
              "      <td>Yes</td>\n",
              "      <td>Yes</td>\n",
              "      <td>Yes</td>\n",
              "      <td>Yes</td>\n",
              "      <td>One year</td>\n",
              "      <td>Yes</td>\n",
              "      <td>Mailed check</td>\n",
              "      <td>84.80</td>\n",
              "      <td>1990.50</td>\n",
              "      <td>No</td>\n",
              "    </tr>\n",
              "    <tr>\n",
              "      <th>7039</th>\n",
              "      <td>Female</td>\n",
              "      <td>0</td>\n",
              "      <td>Yes</td>\n",
              "      <td>Yes</td>\n",
              "      <td>72</td>\n",
              "      <td>Yes</td>\n",
              "      <td>Yes</td>\n",
              "      <td>Fiber optic</td>\n",
              "      <td>No</td>\n",
              "      <td>Yes</td>\n",
              "      <td>Yes</td>\n",
              "      <td>No</td>\n",
              "      <td>Yes</td>\n",
              "      <td>Yes</td>\n",
              "      <td>One year</td>\n",
              "      <td>Yes</td>\n",
              "      <td>Credit card (automatic)</td>\n",
              "      <td>103.20</td>\n",
              "      <td>7362.90</td>\n",
              "      <td>No</td>\n",
              "    </tr>\n",
              "    <tr>\n",
              "      <th>7040</th>\n",
              "      <td>Female</td>\n",
              "      <td>0</td>\n",
              "      <td>Yes</td>\n",
              "      <td>Yes</td>\n",
              "      <td>11</td>\n",
              "      <td>No</td>\n",
              "      <td>No phone service</td>\n",
              "      <td>DSL</td>\n",
              "      <td>Yes</td>\n",
              "      <td>No</td>\n",
              "      <td>No</td>\n",
              "      <td>No</td>\n",
              "      <td>No</td>\n",
              "      <td>No</td>\n",
              "      <td>Month-to-month</td>\n",
              "      <td>Yes</td>\n",
              "      <td>Electronic check</td>\n",
              "      <td>29.60</td>\n",
              "      <td>346.45</td>\n",
              "      <td>No</td>\n",
              "    </tr>\n",
              "    <tr>\n",
              "      <th>7042</th>\n",
              "      <td>Male</td>\n",
              "      <td>0</td>\n",
              "      <td>No</td>\n",
              "      <td>No</td>\n",
              "      <td>66</td>\n",
              "      <td>Yes</td>\n",
              "      <td>No</td>\n",
              "      <td>Fiber optic</td>\n",
              "      <td>Yes</td>\n",
              "      <td>No</td>\n",
              "      <td>Yes</td>\n",
              "      <td>Yes</td>\n",
              "      <td>Yes</td>\n",
              "      <td>Yes</td>\n",
              "      <td>Two year</td>\n",
              "      <td>Yes</td>\n",
              "      <td>Bank transfer (automatic)</td>\n",
              "      <td>105.65</td>\n",
              "      <td>6844.50</td>\n",
              "      <td>No</td>\n",
              "    </tr>\n",
              "  </tbody>\n",
              "</table>\n",
              "<p>5163 rows × 20 columns</p>\n",
              "</div>"
            ],
            "text/plain": [
              "      gender  SeniorCitizen Partner  ... MonthlyCharges  TotalCharges Churn\n",
              "0     Female              0     Yes  ...          29.85         29.85    No\n",
              "1       Male              0      No  ...          56.95       1889.50    No\n",
              "3       Male              0      No  ...          42.30       1840.75    No\n",
              "6       Male              0      No  ...          89.10       1949.40    No\n",
              "7     Female              0      No  ...          29.75        301.90    No\n",
              "...      ...            ...     ...  ...            ...           ...   ...\n",
              "7037  Female              0      No  ...          21.15       1419.40    No\n",
              "7038    Male              0     Yes  ...          84.80       1990.50    No\n",
              "7039  Female              0     Yes  ...         103.20       7362.90    No\n",
              "7040  Female              0     Yes  ...          29.60        346.45    No\n",
              "7042    Male              0      No  ...         105.65       6844.50    No\n",
              "\n",
              "[5163 rows x 20 columns]"
            ]
          },
          "metadata": {
            "tags": []
          },
          "execution_count": 17
        }
      ]
    },
    {
      "cell_type": "code",
      "metadata": {
        "colab": {
          "base_uri": "https://localhost:8080/",
          "height": 312
        },
        "id": "8qLsjVPuoB1C",
        "outputId": "2589af7b-22e1-4c9b-ea3f-b840343d0ff3"
      },
      "source": [
        "# Data Visualization\n",
        "\n",
        "tenure_churn_no = df1[df1.Churn=='No'].tenure\n",
        "tenure_churn_yes = df1[df1.Churn=='Yes'].tenure\n",
        "\n",
        "plt.xlabel(\"tenure\")\n",
        "plt.ylabel(\"Number Of Customers\")\n",
        "plt.title(\"Customer Churn Prediction Visualiztion\")\n",
        "\n",
        "blood_sugar_men = [113, 85, 90, 150, 149, 88, 93, 115, 135, 80, 77, 82, 129]\n",
        "blood_sugar_women = [67, 98, 89, 120, 133, 150, 84, 69, 89, 79, 120, 112, 100]\n",
        "\n",
        "plt.hist([tenure_churn_yes, tenure_churn_no], rwidth=0.95, color=['red','green'],label=['Churn=Yes','Churn=No'])\n",
        "plt.legend()"
      ],
      "execution_count": 18,
      "outputs": [
        {
          "output_type": "execute_result",
          "data": {
            "text/plain": [
              "<matplotlib.legend.Legend at 0x7f4d8776b150>"
            ]
          },
          "metadata": {
            "tags": []
          },
          "execution_count": 18
        },
        {
          "output_type": "display_data",
          "data": {
            "image/png": "[encoded data removed]",
            "text/plain": [
              "<Figure size 432x288 with 1 Axes>"
            ]
          },
          "metadata": {
            "tags": [],
            "needs_background": "light"
          }
        }
      ]
    },
    {
      "cell_type": "code",
      "metadata": {
        "colab": {
          "base_uri": "https://localhost:8080/",
          "height": 312
        },
        "id": "w_I_tETloJFS",
        "outputId": "3ab80bdd-efd6-43d4-ad5a-1317f0306b5d"
      },
      "source": [
        "mc_churn_no = df1[df1.Churn=='No'].MonthlyCharges      \n",
        "mc_churn_yes = df1[df1.Churn=='Yes'].MonthlyCharges      \n",
        "\n",
        "plt.xlabel(\"Monthly Charges\")\n",
        "plt.ylabel(\"Number Of Customers\")\n",
        "plt.title(\"Customer Churn Prediction Visualiztion\")\n",
        "\n",
        "blood_sugar_men = [113, 85, 90, 150, 149, 88, 93, 115, 135, 80, 77, 82, 129]\n",
        "blood_sugar_women = [67, 98, 89, 120, 133, 150, 84, 69, 89, 79, 120, 112, 100]\n",
        "\n",
        "plt.hist([mc_churn_yes, mc_churn_no], rwidth=0.95, color=['green','red'],label=['Churn=NO','Churn=YES'])\n",
        "plt.legend()"
      ],
      "execution_count": 20,
      "outputs": [
        {
          "output_type": "execute_result",
          "data": {
            "text/plain": [
              "<matplotlib.legend.Legend at 0x7f4d87033410>"
            ]
          },
          "metadata": {
            "tags": []
          },
          "execution_count": 20
        },
        {
          "output_type": "display_data",
          "data": {
            "image/png": "[encoded data removed]",
            "text/plain": [
              "<Figure size 432x288 with 1 Axes>"
            ]
          },
          "metadata": {
            "tags": [],
            "needs_background": "light"
          }
        }
      ]
    },
    {
      "cell_type": "code",
      "metadata": {
        "id": "Mj88YrD_oNJ5"
      },
      "source": [
        "def print_unique_col_values(df):\n",
        "       for column in df:\n",
        "            if df[column].dtypes=='object':\n",
        "                print(f'{column}: {df[column].unique()}')"
      ],
      "execution_count": 21,
      "outputs": []
    },
    {
      "cell_type": "code",
      "metadata": {
        "colab": {
          "base_uri": "https://localhost:8080/"
        },
        "id": "POWiJtX7oY9J",
        "outputId": "10756b65-1645-47b8-aa92-9c00a038d595"
      },
      "source": [
        "print_unique_col_values(df1)"
      ],
      "execution_count": 22,
      "outputs": [
        {
          "output_type": "stream",
          "text": [
            "gender: ['Female' 'Male']\n",
            "Partner: ['Yes' 'No']\n",
            "Dependents: ['No' 'Yes']\n",
            "PhoneService: ['No' 'Yes']\n",
            "MultipleLines: ['No phone service' 'No' 'Yes']\n",
            "InternetService: ['DSL' 'Fiber optic' 'No']\n",
            "OnlineSecurity: ['No' 'Yes' 'No internet service']\n",
            "OnlineBackup: ['Yes' 'No' 'No internet service']\n",
            "DeviceProtection: ['No' 'Yes' 'No internet service']\n",
            "TechSupport: ['No' 'Yes' 'No internet service']\n",
            "StreamingTV: ['No' 'Yes' 'No internet service']\n",
            "StreamingMovies: ['No' 'Yes' 'No internet service']\n",
            "Contract: ['Month-to-month' 'One year' 'Two year']\n",
            "PaperlessBilling: ['Yes' 'No']\n",
            "PaymentMethod: ['Electronic check' 'Mailed check' 'Bank transfer (automatic)'\n",
            " 'Credit card (automatic)']\n",
            "Churn: ['No' 'Yes']\n"
          ],
          "name": "stdout"
        }
      ]
    },
    {
      "cell_type": "code",
      "metadata": {
        "id": "uFPB9fAaobdB"
      },
      "source": [
        "# Some of the columns have no internet service or no phone service, that can be replaced with a simple No\n",
        "\n",
        "df1.replace('No internet service','No',inplace=True)\n",
        "df1.replace('No phone service','No',inplace=True)"
      ],
      "execution_count": 23,
      "outputs": []
    },
    {
      "cell_type": "code",
      "metadata": {
        "colab": {
          "base_uri": "https://localhost:8080/"
        },
        "id": "gkSVAWbyogDp",
        "outputId": "2c052c29-fdf5-4a29-84f1-bcdb83081f63"
      },
      "source": [
        "print_unique_col_values(df1)"
      ],
      "execution_count": 24,
      "outputs": [
        {
          "output_type": "stream",
          "text": [
            "gender: ['Female' 'Male']\n",
            "Partner: ['Yes' 'No']\n",
            "Dependents: ['No' 'Yes']\n",
            "PhoneService: ['No' 'Yes']\n",
            "MultipleLines: ['No' 'Yes']\n",
            "InternetService: ['DSL' 'Fiber optic' 'No']\n",
            "OnlineSecurity: ['No' 'Yes']\n",
            "OnlineBackup: ['Yes' 'No']\n",
            "DeviceProtection: ['No' 'Yes']\n",
            "TechSupport: ['No' 'Yes']\n",
            "StreamingTV: ['No' 'Yes']\n",
            "StreamingMovies: ['No' 'Yes']\n",
            "Contract: ['Month-to-month' 'One year' 'Two year']\n",
            "PaperlessBilling: ['Yes' 'No']\n",
            "PaymentMethod: ['Electronic check' 'Mailed check' 'Bank transfer (automatic)'\n",
            " 'Credit card (automatic)']\n",
            "Churn: ['No' 'Yes']\n"
          ],
          "name": "stdout"
        }
      ]
    },
    {
      "cell_type": "code",
      "metadata": {
        "id": "lnrXzwZooiN5"
      },
      "source": [
        "# Convert Yes and No to 1 or 0\n",
        "\n",
        "yes_no_columns = ['Partner','Dependents','PhoneService','MultipleLines','OnlineSecurity','OnlineBackup',\n",
        "                  'DeviceProtection','TechSupport','StreamingTV','StreamingMovies','PaperlessBilling','Churn']\n",
        "for col in yes_no_columns:\n",
        "    df1[col].replace({'Yes': 1,'No': 0},inplace=True)"
      ],
      "execution_count": 25,
      "outputs": []
    },
    {
      "cell_type": "code",
      "metadata": {
        "colab": {
          "base_uri": "https://localhost:8080/"
        },
        "id": "3iyhHAHBons5",
        "outputId": "f2fefea2-c7ab-4e4c-cdde-011565cc8961"
      },
      "source": [
        "for col in df1:\n",
        "    print(f'{col}: {df1[col].unique()}')"
      ],
      "execution_count": 26,
      "outputs": [
        {
          "output_type": "stream",
          "text": [
            "gender: ['Female' 'Male']\n",
            "SeniorCitizen: [0 1]\n",
            "Partner: [1 0]\n",
            "Dependents: [0 1]\n",
            "tenure: [ 1 34  2 45  8 22 10 28 62 13 16 58 49 25 69 52 71 21 12 30 47 72 17 27\n",
            "  5 46 11 70 63 43 15 60 18 66  9  3 31 50 64 56  7 42 35 48 29 65 38 68\n",
            " 32 55 37 36 41  6  4 33 67 23 57 61 14 20 53 40 59 24 44 19 54 51 26 39]\n",
            "PhoneService: [0 1]\n",
            "MultipleLines: [0 1]\n",
            "InternetService: ['DSL' 'Fiber optic' 'No']\n",
            "OnlineSecurity: [0 1]\n",
            "OnlineBackup: [1 0]\n",
            "DeviceProtection: [0 1]\n",
            "TechSupport: [0 1]\n",
            "StreamingTV: [0 1]\n",
            "StreamingMovies: [0 1]\n",
            "Contract: ['Month-to-month' 'One year' 'Two year']\n",
            "PaperlessBilling: [1 0]\n",
            "PaymentMethod: ['Electronic check' 'Mailed check' 'Bank transfer (automatic)'\n",
            " 'Credit card (automatic)']\n",
            "MonthlyCharges: [29.85 56.95 53.85 ... 63.1  44.2  78.7 ]\n",
            "TotalCharges: [  29.85 1889.5   108.15 ...  346.45  306.6  6844.5 ]\n",
            "Churn: [0 1]\n"
          ],
          "name": "stdout"
        }
      ]
    },
    {
      "cell_type": "code",
      "metadata": {
        "id": "pj9fuY_Uop0R"
      },
      "source": [
        "df1['gender'].replace({'Female':1,'Male':0},inplace=True)"
      ],
      "execution_count": 27,
      "outputs": []
    },
    {
      "cell_type": "code",
      "metadata": {
        "colab": {
          "base_uri": "https://localhost:8080/"
        },
        "id": "1NLyxsiTosFK",
        "outputId": "7d16bd48-cd01-456a-81ff-47e703aaf83e"
      },
      "source": [
        "df1.gender.unique()"
      ],
      "execution_count": 28,
      "outputs": [
        {
          "output_type": "execute_result",
          "data": {
            "text/plain": [
              "array([1, 0])"
            ]
          },
          "metadata": {
            "tags": []
          },
          "execution_count": 28
        }
      ]
    },
    {
      "cell_type": "code",
      "metadata": {
        "colab": {
          "base_uri": "https://localhost:8080/"
        },
        "id": "XWGyWAiQotcK",
        "outputId": "e98dcb46-edd1-45db-be4b-097132677e94"
      },
      "source": [
        "# One hot encoding for categorical columns\n",
        "\n",
        "df2 = pd.get_dummies(data=df1, columns=['InternetService','Contract','PaymentMethod'])\n",
        "df2.columns"
      ],
      "execution_count": 29,
      "outputs": [
        {
          "output_type": "execute_result",
          "data": {
            "text/plain": [
              "Index(['gender', 'SeniorCitizen', 'Partner', 'Dependents', 'tenure',\n",
              "       'PhoneService', 'MultipleLines', 'OnlineSecurity', 'OnlineBackup',\n",
              "       'DeviceProtection', 'TechSupport', 'StreamingTV', 'StreamingMovies',\n",
              "       'PaperlessBilling', 'MonthlyCharges', 'TotalCharges', 'Churn',\n",
              "       'InternetService_DSL', 'InternetService_Fiber optic',\n",
              "       'InternetService_No', 'Contract_Month-to-month', 'Contract_One year',\n",
              "       'Contract_Two year', 'PaymentMethod_Bank transfer (automatic)',\n",
              "       'PaymentMethod_Credit card (automatic)',\n",
              "       'PaymentMethod_Electronic check', 'PaymentMethod_Mailed check'],\n",
              "      dtype='object')"
            ]
          },
          "metadata": {
            "tags": []
          },
          "execution_count": 29
        }
      ]
    },
    {
      "cell_type": "code",
      "metadata": {
        "colab": {
          "base_uri": "https://localhost:8080/",
          "height": 253
        },
        "id": "9AShgltzowjC",
        "outputId": "50e299c1-4757-469f-bb21-a36b610a9bdd"
      },
      "source": [
        "df2.sample(5)"
      ],
      "execution_count": 30,
      "outputs": [
        {
          "output_type": "execute_result",
          "data": {
            "text/html": [
              "<div>\n",
              "<style scoped>\n",
              "    .dataframe tbody tr th:only-of-type {\n",
              "        vertical-align: middle;\n",
              "    }\n",
              "\n",
              "    .dataframe tbody tr th {\n",
              "        vertical-align: top;\n",
              "    }\n",
              "\n",
              "    .dataframe thead th {\n",
              "        text-align: right;\n",
              "    }\n",
              "</style>\n",
              "<table border=\"1\" class=\"dataframe\">\n",
              "  <thead>\n",
              "    <tr style=\"text-align: right;\">\n",
              "      <th></th>\n",
              "      <th>gender</th>\n",
              "      <th>SeniorCitizen</th>\n",
              "      <th>Partner</th>\n",
              "      <th>Dependents</th>\n",
              "      <th>tenure</th>\n",
              "      <th>PhoneService</th>\n",
              "      <th>MultipleLines</th>\n",
              "      <th>OnlineSecurity</th>\n",
              "      <th>OnlineBackup</th>\n",
              "      <th>DeviceProtection</th>\n",
              "      <th>TechSupport</th>\n",
              "      <th>StreamingTV</th>\n",
              "      <th>StreamingMovies</th>\n",
              "      <th>PaperlessBilling</th>\n",
              "      <th>MonthlyCharges</th>\n",
              "      <th>TotalCharges</th>\n",
              "      <th>Churn</th>\n",
              "      <th>InternetService_DSL</th>\n",
              "      <th>InternetService_Fiber optic</th>\n",
              "      <th>InternetService_No</th>\n",
              "      <th>Contract_Month-to-month</th>\n",
              "      <th>Contract_One year</th>\n",
              "      <th>Contract_Two year</th>\n",
              "      <th>PaymentMethod_Bank transfer (automatic)</th>\n",
              "      <th>PaymentMethod_Credit card (automatic)</th>\n",
              "      <th>PaymentMethod_Electronic check</th>\n",
              "      <th>PaymentMethod_Mailed check</th>\n",
              "    </tr>\n",
              "  </thead>\n",
              "  <tbody>\n",
              "    <tr>\n",
              "      <th>1614</th>\n",
              "      <td>0</td>\n",
              "      <td>0</td>\n",
              "      <td>1</td>\n",
              "      <td>0</td>\n",
              "      <td>67</td>\n",
              "      <td>0</td>\n",
              "      <td>0</td>\n",
              "      <td>1</td>\n",
              "      <td>1</td>\n",
              "      <td>0</td>\n",
              "      <td>1</td>\n",
              "      <td>0</td>\n",
              "      <td>1</td>\n",
              "      <td>1</td>\n",
              "      <td>50.95</td>\n",
              "      <td>3521.70</td>\n",
              "      <td>0</td>\n",
              "      <td>1</td>\n",
              "      <td>0</td>\n",
              "      <td>0</td>\n",
              "      <td>0</td>\n",
              "      <td>0</td>\n",
              "      <td>1</td>\n",
              "      <td>1</td>\n",
              "      <td>0</td>\n",
              "      <td>0</td>\n",
              "      <td>0</td>\n",
              "    </tr>\n",
              "    <tr>\n",
              "      <th>1480</th>\n",
              "      <td>0</td>\n",
              "      <td>0</td>\n",
              "      <td>0</td>\n",
              "      <td>0</td>\n",
              "      <td>39</td>\n",
              "      <td>0</td>\n",
              "      <td>0</td>\n",
              "      <td>0</td>\n",
              "      <td>0</td>\n",
              "      <td>1</td>\n",
              "      <td>1</td>\n",
              "      <td>0</td>\n",
              "      <td>0</td>\n",
              "      <td>0</td>\n",
              "      <td>35.55</td>\n",
              "      <td>1309.15</td>\n",
              "      <td>0</td>\n",
              "      <td>1</td>\n",
              "      <td>0</td>\n",
              "      <td>0</td>\n",
              "      <td>0</td>\n",
              "      <td>1</td>\n",
              "      <td>0</td>\n",
              "      <td>0</td>\n",
              "      <td>0</td>\n",
              "      <td>0</td>\n",
              "      <td>1</td>\n",
              "    </tr>\n",
              "    <tr>\n",
              "      <th>3591</th>\n",
              "      <td>1</td>\n",
              "      <td>0</td>\n",
              "      <td>0</td>\n",
              "      <td>0</td>\n",
              "      <td>2</td>\n",
              "      <td>1</td>\n",
              "      <td>0</td>\n",
              "      <td>1</td>\n",
              "      <td>1</td>\n",
              "      <td>0</td>\n",
              "      <td>1</td>\n",
              "      <td>0</td>\n",
              "      <td>0</td>\n",
              "      <td>1</td>\n",
              "      <td>86.25</td>\n",
              "      <td>181.65</td>\n",
              "      <td>1</td>\n",
              "      <td>0</td>\n",
              "      <td>1</td>\n",
              "      <td>0</td>\n",
              "      <td>1</td>\n",
              "      <td>0</td>\n",
              "      <td>0</td>\n",
              "      <td>0</td>\n",
              "      <td>0</td>\n",
              "      <td>1</td>\n",
              "      <td>0</td>\n",
              "    </tr>\n",
              "    <tr>\n",
              "      <th>2045</th>\n",
              "      <td>1</td>\n",
              "      <td>0</td>\n",
              "      <td>0</td>\n",
              "      <td>0</td>\n",
              "      <td>69</td>\n",
              "      <td>1</td>\n",
              "      <td>1</td>\n",
              "      <td>0</td>\n",
              "      <td>1</td>\n",
              "      <td>1</td>\n",
              "      <td>1</td>\n",
              "      <td>1</td>\n",
              "      <td>1</td>\n",
              "      <td>1</td>\n",
              "      <td>110.50</td>\n",
              "      <td>7455.45</td>\n",
              "      <td>0</td>\n",
              "      <td>0</td>\n",
              "      <td>1</td>\n",
              "      <td>0</td>\n",
              "      <td>0</td>\n",
              "      <td>0</td>\n",
              "      <td>1</td>\n",
              "      <td>1</td>\n",
              "      <td>0</td>\n",
              "      <td>0</td>\n",
              "      <td>0</td>\n",
              "    </tr>\n",
              "    <tr>\n",
              "      <th>1846</th>\n",
              "      <td>0</td>\n",
              "      <td>0</td>\n",
              "      <td>0</td>\n",
              "      <td>0</td>\n",
              "      <td>19</td>\n",
              "      <td>1</td>\n",
              "      <td>0</td>\n",
              "      <td>0</td>\n",
              "      <td>0</td>\n",
              "      <td>0</td>\n",
              "      <td>0</td>\n",
              "      <td>0</td>\n",
              "      <td>0</td>\n",
              "      <td>0</td>\n",
              "      <td>18.80</td>\n",
              "      <td>279.20</td>\n",
              "      <td>0</td>\n",
              "      <td>0</td>\n",
              "      <td>0</td>\n",
              "      <td>1</td>\n",
              "      <td>0</td>\n",
              "      <td>1</td>\n",
              "      <td>0</td>\n",
              "      <td>0</td>\n",
              "      <td>0</td>\n",
              "      <td>0</td>\n",
              "      <td>1</td>\n",
              "    </tr>\n",
              "  </tbody>\n",
              "</table>\n",
              "</div>"
            ],
            "text/plain": [
              "      gender  ...  PaymentMethod_Mailed check\n",
              "1614       0  ...                           0\n",
              "1480       0  ...                           1\n",
              "3591       1  ...                           0\n",
              "2045       1  ...                           0\n",
              "1846       0  ...                           1\n",
              "\n",
              "[5 rows x 27 columns]"
            ]
          },
          "metadata": {
            "tags": []
          },
          "execution_count": 30
        }
      ]
    },
    {
      "cell_type": "code",
      "metadata": {
        "colab": {
          "base_uri": "https://localhost:8080/"
        },
        "id": "Z7A7sslRoyX6",
        "outputId": "7883f521-88af-4399-a54b-d22506b20824"
      },
      "source": [
        "df2.dtypes"
      ],
      "execution_count": 31,
      "outputs": [
        {
          "output_type": "execute_result",
          "data": {
            "text/plain": [
              "gender                                       int64\n",
              "SeniorCitizen                                int64\n",
              "Partner                                      int64\n",
              "Dependents                                   int64\n",
              "tenure                                       int64\n",
              "PhoneService                                 int64\n",
              "MultipleLines                                int64\n",
              "OnlineSecurity                               int64\n",
              "OnlineBackup                                 int64\n",
              "DeviceProtection                             int64\n",
              "TechSupport                                  int64\n",
              "StreamingTV                                  int64\n",
              "StreamingMovies                              int64\n",
              "PaperlessBilling                             int64\n",
              "MonthlyCharges                             float64\n",
              "TotalCharges                               float64\n",
              "Churn                                        int64\n",
              "InternetService_DSL                          uint8\n",
              "InternetService_Fiber optic                  uint8\n",
              "InternetService_No                           uint8\n",
              "Contract_Month-to-month                      uint8\n",
              "Contract_One year                            uint8\n",
              "Contract_Two year                            uint8\n",
              "PaymentMethod_Bank transfer (automatic)      uint8\n",
              "PaymentMethod_Credit card (automatic)        uint8\n",
              "PaymentMethod_Electronic check               uint8\n",
              "PaymentMethod_Mailed check                   uint8\n",
              "dtype: object"
            ]
          },
          "metadata": {
            "tags": []
          },
          "execution_count": 31
        }
      ]
    },
    {
      "cell_type": "code",
      "metadata": {
        "id": "qCMXR_cCo1qJ"
      },
      "source": [
        "cols_to_scale = ['tenure','MonthlyCharges','TotalCharges']\n",
        "\n",
        "from sklearn.preprocessing import MinMaxScaler\n",
        "scaler = MinMaxScaler()\n",
        "df2[cols_to_scale] = scaler.fit_transform(df2[cols_to_scale])"
      ],
      "execution_count": 32,
      "outputs": []
    },
    {
      "cell_type": "code",
      "metadata": {
        "colab": {
          "base_uri": "https://localhost:8080/"
        },
        "id": "IMaYLqUco3_T",
        "outputId": "09484ef7-b93f-4b8a-fffc-1696fb117c1e"
      },
      "source": [
        "for col in df2:\n",
        "    print(f'{col}: {df2[col].unique()}')"
      ],
      "execution_count": 33,
      "outputs": [
        {
          "output_type": "stream",
          "text": [
            "gender: [1 0]\n",
            "SeniorCitizen: [0 1]\n",
            "Partner: [1 0]\n",
            "Dependents: [0 1]\n",
            "tenure: [0.         0.46478873 0.01408451 0.61971831 0.09859155 0.29577465\n",
            " 0.12676056 0.38028169 0.85915493 0.16901408 0.21126761 0.8028169\n",
            " 0.67605634 0.33802817 0.95774648 0.71830986 0.98591549 0.28169014\n",
            " 0.15492958 0.4084507  0.64788732 1.         0.22535211 0.36619718\n",
            " 0.05633803 0.63380282 0.14084507 0.97183099 0.87323944 0.5915493\n",
            " 0.1971831  0.83098592 0.23943662 0.91549296 0.11267606 0.02816901\n",
            " 0.42253521 0.69014085 0.88732394 0.77464789 0.08450704 0.57746479\n",
            " 0.47887324 0.66197183 0.3943662  0.90140845 0.52112676 0.94366197\n",
            " 0.43661972 0.76056338 0.50704225 0.49295775 0.56338028 0.07042254\n",
            " 0.04225352 0.45070423 0.92957746 0.30985915 0.78873239 0.84507042\n",
            " 0.18309859 0.26760563 0.73239437 0.54929577 0.81690141 0.32394366\n",
            " 0.6056338  0.25352113 0.74647887 0.70422535 0.35211268 0.53521127]\n",
            "PhoneService: [0 1]\n",
            "MultipleLines: [0 1]\n",
            "OnlineSecurity: [0 1]\n",
            "OnlineBackup: [1 0]\n",
            "DeviceProtection: [0 1]\n",
            "TechSupport: [0 1]\n",
            "StreamingTV: [0 1]\n",
            "StreamingMovies: [0 1]\n",
            "PaperlessBilling: [1 0]\n",
            "MonthlyCharges: [0.11542289 0.38507463 0.35422886 ... 0.44626866 0.25820896 0.60149254]\n",
            "TotalCharges: [0.0012751  0.21586661 0.01031041 ... 0.03780868 0.03321025 0.78764136]\n",
            "Churn: [0 1]\n",
            "InternetService_DSL: [1 0]\n",
            "InternetService_Fiber optic: [0 1]\n",
            "InternetService_No: [0 1]\n",
            "Contract_Month-to-month: [1 0]\n",
            "Contract_One year: [0 1]\n",
            "Contract_Two year: [0 1]\n",
            "PaymentMethod_Bank transfer (automatic): [0 1]\n",
            "PaymentMethod_Credit card (automatic): [0 1]\n",
            "PaymentMethod_Electronic check: [1 0]\n",
            "PaymentMethod_Mailed check: [0 1]\n"
          ],
          "name": "stdout"
        }
      ]
    },
    {
      "cell_type": "code",
      "metadata": {
        "id": "pYvJUyGGo5nK"
      },
      "source": [
        "# Train Test & split\n",
        "\n",
        "\n",
        "X = df2.drop('Churn',axis='columns')\n",
        "y = testLabels = df2.Churn.astype(np.float32)\n",
        "\n",
        "from sklearn.model_selection import train_test_split\n",
        "X_train, X_test, y_train, y_test = train_test_split(X, y, test_size=0.2, random_state=15, stratify=y)"
      ],
      "execution_count": 34,
      "outputs": []
    },
    {
      "cell_type": "code",
      "metadata": {
        "colab": {
          "base_uri": "https://localhost:8080/"
        },
        "id": "fEeNEoryo_BZ",
        "outputId": "a9b863f2-b472-4c18-bf70-184d29563653"
      },
      "source": [
        "y_train.value_counts()"
      ],
      "execution_count": 35,
      "outputs": [
        {
          "output_type": "execute_result",
          "data": {
            "text/plain": [
              "0.0    4130\n",
              "1.0    1495\n",
              "Name: Churn, dtype: int64"
            ]
          },
          "metadata": {
            "tags": []
          },
          "execution_count": 35
        }
      ]
    },
    {
      "cell_type": "code",
      "metadata": {
        "colab": {
          "base_uri": "https://localhost:8080/"
        },
        "id": "qv8b3L8cpCQ6",
        "outputId": "ffa01d1a-0442-4be6-8a96-53621c9bcb74"
      },
      "source": [
        "y.value_counts()"
      ],
      "execution_count": 37,
      "outputs": [
        {
          "output_type": "execute_result",
          "data": {
            "text/plain": [
              "0.0    5163\n",
              "1.0    1869\n",
              "Name: Churn, dtype: int64"
            ]
          },
          "metadata": {
            "tags": []
          },
          "execution_count": 37
        }
      ]
    },
    {
      "cell_type": "code",
      "metadata": {
        "colab": {
          "base_uri": "https://localhost:8080/"
        },
        "id": "-QzzwtlFpD6j",
        "outputId": "7d4942b9-5f62-4c1a-c9c2-4f25329f8dfb"
      },
      "source": [
        "5163/1869"
      ],
      "execution_count": 38,
      "outputs": [
        {
          "output_type": "execute_result",
          "data": {
            "text/plain": [
              "2.7624398073836276"
            ]
          },
          "metadata": {
            "tags": []
          },
          "execution_count": 38
        }
      ]
    },
    {
      "cell_type": "code",
      "metadata": {
        "colab": {
          "base_uri": "https://localhost:8080/"
        },
        "id": "D7SFzoaapGN6",
        "outputId": "83c76a59-86fb-46b5-bba9-8e562a2fe385"
      },
      "source": [
        "y_test.value_counts()"
      ],
      "execution_count": 39,
      "outputs": [
        {
          "output_type": "execute_result",
          "data": {
            "text/plain": [
              "0.0    1033\n",
              "1.0     374\n",
              "Name: Churn, dtype: int64"
            ]
          },
          "metadata": {
            "tags": []
          },
          "execution_count": 39
        }
      ]
    },
    {
      "cell_type": "code",
      "metadata": {
        "colab": {
          "base_uri": "https://localhost:8080/"
        },
        "id": "TxxZVUQxpHvC",
        "outputId": "e64adcee-d29b-454f-e0ee-65a9642ee764"
      },
      "source": [
        "X_train.shape"
      ],
      "execution_count": 40,
      "outputs": [
        {
          "output_type": "execute_result",
          "data": {
            "text/plain": [
              "(5625, 26)"
            ]
          },
          "metadata": {
            "tags": []
          },
          "execution_count": 40
        }
      ]
    },
    {
      "cell_type": "code",
      "metadata": {
        "colab": {
          "base_uri": "https://localhost:8080/"
        },
        "id": "RFJcjALepJYi",
        "outputId": "df180082-515c-4603-e383-cd5cf5169ada"
      },
      "source": [
        "X_test.shape"
      ],
      "execution_count": 41,
      "outputs": [
        {
          "output_type": "execute_result",
          "data": {
            "text/plain": [
              "(1407, 26)"
            ]
          },
          "metadata": {
            "tags": []
          },
          "execution_count": 41
        }
      ]
    },
    {
      "cell_type": "code",
      "metadata": {
        "colab": {
          "base_uri": "https://localhost:8080/",
          "height": 403
        },
        "id": "tC0aJrwKpKwq",
        "outputId": "bd1624f0-e2b7-4990-f008-cf3097bb5066"
      },
      "source": [
        "X_train[:10]"
      ],
      "execution_count": 42,
      "outputs": [
        {
          "output_type": "execute_result",
          "data": {
            "text/html": [
              "<div>\n",
              "<style scoped>\n",
              "    .dataframe tbody tr th:only-of-type {\n",
              "        vertical-align: middle;\n",
              "    }\n",
              "\n",
              "    .dataframe tbody tr th {\n",
              "        vertical-align: top;\n",
              "    }\n",
              "\n",
              "    .dataframe thead th {\n",
              "        text-align: right;\n",
              "    }\n",
              "</style>\n",
              "<table border=\"1\" class=\"dataframe\">\n",
              "  <thead>\n",
              "    <tr style=\"text-align: right;\">\n",
              "      <th></th>\n",
              "      <th>gender</th>\n",
              "      <th>SeniorCitizen</th>\n",
              "      <th>Partner</th>\n",
              "      <th>Dependents</th>\n",
              "      <th>tenure</th>\n",
              "      <th>PhoneService</th>\n",
              "      <th>MultipleLines</th>\n",
              "      <th>OnlineSecurity</th>\n",
              "      <th>OnlineBackup</th>\n",
              "      <th>DeviceProtection</th>\n",
              "      <th>TechSupport</th>\n",
              "      <th>StreamingTV</th>\n",
              "      <th>StreamingMovies</th>\n",
              "      <th>PaperlessBilling</th>\n",
              "      <th>MonthlyCharges</th>\n",
              "      <th>TotalCharges</th>\n",
              "      <th>InternetService_DSL</th>\n",
              "      <th>InternetService_Fiber optic</th>\n",
              "      <th>InternetService_No</th>\n",
              "      <th>Contract_Month-to-month</th>\n",
              "      <th>Contract_One year</th>\n",
              "      <th>Contract_Two year</th>\n",
              "      <th>PaymentMethod_Bank transfer (automatic)</th>\n",
              "      <th>PaymentMethod_Credit card (automatic)</th>\n",
              "      <th>PaymentMethod_Electronic check</th>\n",
              "      <th>PaymentMethod_Mailed check</th>\n",
              "    </tr>\n",
              "  </thead>\n",
              "  <tbody>\n",
              "    <tr>\n",
              "      <th>684</th>\n",
              "      <td>1</td>\n",
              "      <td>0</td>\n",
              "      <td>0</td>\n",
              "      <td>0</td>\n",
              "      <td>0.000000</td>\n",
              "      <td>1</td>\n",
              "      <td>0</td>\n",
              "      <td>0</td>\n",
              "      <td>0</td>\n",
              "      <td>0</td>\n",
              "      <td>0</td>\n",
              "      <td>0</td>\n",
              "      <td>0</td>\n",
              "      <td>0</td>\n",
              "      <td>0.525871</td>\n",
              "      <td>0.006035</td>\n",
              "      <td>0</td>\n",
              "      <td>1</td>\n",
              "      <td>0</td>\n",
              "      <td>1</td>\n",
              "      <td>0</td>\n",
              "      <td>0</td>\n",
              "      <td>0</td>\n",
              "      <td>0</td>\n",
              "      <td>0</td>\n",
              "      <td>1</td>\n",
              "    </tr>\n",
              "    <tr>\n",
              "      <th>2446</th>\n",
              "      <td>1</td>\n",
              "      <td>0</td>\n",
              "      <td>0</td>\n",
              "      <td>0</td>\n",
              "      <td>0.239437</td>\n",
              "      <td>1</td>\n",
              "      <td>1</td>\n",
              "      <td>0</td>\n",
              "      <td>1</td>\n",
              "      <td>0</td>\n",
              "      <td>0</td>\n",
              "      <td>1</td>\n",
              "      <td>0</td>\n",
              "      <td>1</td>\n",
              "      <td>0.713930</td>\n",
              "      <td>0.174077</td>\n",
              "      <td>0</td>\n",
              "      <td>1</td>\n",
              "      <td>0</td>\n",
              "      <td>1</td>\n",
              "      <td>0</td>\n",
              "      <td>0</td>\n",
              "      <td>0</td>\n",
              "      <td>1</td>\n",
              "      <td>0</td>\n",
              "      <td>0</td>\n",
              "    </tr>\n",
              "    <tr>\n",
              "      <th>1680</th>\n",
              "      <td>0</td>\n",
              "      <td>0</td>\n",
              "      <td>1</td>\n",
              "      <td>1</td>\n",
              "      <td>0.774648</td>\n",
              "      <td>1</td>\n",
              "      <td>1</td>\n",
              "      <td>0</td>\n",
              "      <td>0</td>\n",
              "      <td>0</td>\n",
              "      <td>0</td>\n",
              "      <td>0</td>\n",
              "      <td>0</td>\n",
              "      <td>1</td>\n",
              "      <td>0.061692</td>\n",
              "      <td>0.163034</td>\n",
              "      <td>0</td>\n",
              "      <td>0</td>\n",
              "      <td>1</td>\n",
              "      <td>0</td>\n",
              "      <td>1</td>\n",
              "      <td>0</td>\n",
              "      <td>0</td>\n",
              "      <td>0</td>\n",
              "      <td>0</td>\n",
              "      <td>1</td>\n",
              "    </tr>\n",
              "    <tr>\n",
              "      <th>2220</th>\n",
              "      <td>0</td>\n",
              "      <td>0</td>\n",
              "      <td>1</td>\n",
              "      <td>0</td>\n",
              "      <td>1.000000</td>\n",
              "      <td>1</td>\n",
              "      <td>0</td>\n",
              "      <td>1</td>\n",
              "      <td>1</td>\n",
              "      <td>0</td>\n",
              "      <td>1</td>\n",
              "      <td>1</td>\n",
              "      <td>1</td>\n",
              "      <td>1</td>\n",
              "      <td>0.607960</td>\n",
              "      <td>0.661718</td>\n",
              "      <td>1</td>\n",
              "      <td>0</td>\n",
              "      <td>0</td>\n",
              "      <td>0</td>\n",
              "      <td>0</td>\n",
              "      <td>1</td>\n",
              "      <td>1</td>\n",
              "      <td>0</td>\n",
              "      <td>0</td>\n",
              "      <td>0</td>\n",
              "    </tr>\n",
              "    <tr>\n",
              "      <th>2842</th>\n",
              "      <td>1</td>\n",
              "      <td>0</td>\n",
              "      <td>0</td>\n",
              "      <td>0</td>\n",
              "      <td>0.042254</td>\n",
              "      <td>0</td>\n",
              "      <td>0</td>\n",
              "      <td>1</td>\n",
              "      <td>0</td>\n",
              "      <td>1</td>\n",
              "      <td>1</td>\n",
              "      <td>0</td>\n",
              "      <td>1</td>\n",
              "      <td>0</td>\n",
              "      <td>0.298507</td>\n",
              "      <td>0.021169</td>\n",
              "      <td>1</td>\n",
              "      <td>0</td>\n",
              "      <td>0</td>\n",
              "      <td>1</td>\n",
              "      <td>0</td>\n",
              "      <td>0</td>\n",
              "      <td>0</td>\n",
              "      <td>0</td>\n",
              "      <td>0</td>\n",
              "      <td>1</td>\n",
              "    </tr>\n",
              "    <tr>\n",
              "      <th>5131</th>\n",
              "      <td>1</td>\n",
              "      <td>0</td>\n",
              "      <td>1</td>\n",
              "      <td>0</td>\n",
              "      <td>0.605634</td>\n",
              "      <td>1</td>\n",
              "      <td>1</td>\n",
              "      <td>0</td>\n",
              "      <td>0</td>\n",
              "      <td>0</td>\n",
              "      <td>0</td>\n",
              "      <td>1</td>\n",
              "      <td>1</td>\n",
              "      <td>1</td>\n",
              "      <td>0.774627</td>\n",
              "      <td>0.501419</td>\n",
              "      <td>0</td>\n",
              "      <td>1</td>\n",
              "      <td>0</td>\n",
              "      <td>1</td>\n",
              "      <td>0</td>\n",
              "      <td>0</td>\n",
              "      <td>0</td>\n",
              "      <td>0</td>\n",
              "      <td>1</td>\n",
              "      <td>0</td>\n",
              "    </tr>\n",
              "    <tr>\n",
              "      <th>4372</th>\n",
              "      <td>0</td>\n",
              "      <td>0</td>\n",
              "      <td>1</td>\n",
              "      <td>1</td>\n",
              "      <td>0.000000</td>\n",
              "      <td>1</td>\n",
              "      <td>0</td>\n",
              "      <td>0</td>\n",
              "      <td>0</td>\n",
              "      <td>0</td>\n",
              "      <td>0</td>\n",
              "      <td>0</td>\n",
              "      <td>0</td>\n",
              "      <td>1</td>\n",
              "      <td>0.018905</td>\n",
              "      <td>0.000156</td>\n",
              "      <td>0</td>\n",
              "      <td>0</td>\n",
              "      <td>1</td>\n",
              "      <td>1</td>\n",
              "      <td>0</td>\n",
              "      <td>0</td>\n",
              "      <td>1</td>\n",
              "      <td>0</td>\n",
              "      <td>0</td>\n",
              "      <td>0</td>\n",
              "    </tr>\n",
              "    <tr>\n",
              "      <th>4687</th>\n",
              "      <td>0</td>\n",
              "      <td>0</td>\n",
              "      <td>1</td>\n",
              "      <td>0</td>\n",
              "      <td>0.295775</td>\n",
              "      <td>1</td>\n",
              "      <td>0</td>\n",
              "      <td>0</td>\n",
              "      <td>0</td>\n",
              "      <td>1</td>\n",
              "      <td>0</td>\n",
              "      <td>1</td>\n",
              "      <td>1</td>\n",
              "      <td>1</td>\n",
              "      <td>0.760697</td>\n",
              "      <td>0.218798</td>\n",
              "      <td>0</td>\n",
              "      <td>1</td>\n",
              "      <td>0</td>\n",
              "      <td>1</td>\n",
              "      <td>0</td>\n",
              "      <td>0</td>\n",
              "      <td>0</td>\n",
              "      <td>1</td>\n",
              "      <td>0</td>\n",
              "      <td>0</td>\n",
              "    </tr>\n",
              "    <tr>\n",
              "      <th>2385</th>\n",
              "      <td>1</td>\n",
              "      <td>0</td>\n",
              "      <td>0</td>\n",
              "      <td>1</td>\n",
              "      <td>0.028169</td>\n",
              "      <td>0</td>\n",
              "      <td>0</td>\n",
              "      <td>0</td>\n",
              "      <td>1</td>\n",
              "      <td>0</td>\n",
              "      <td>0</td>\n",
              "      <td>0</td>\n",
              "      <td>0</td>\n",
              "      <td>0</td>\n",
              "      <td>0.113433</td>\n",
              "      <td>0.008222</td>\n",
              "      <td>1</td>\n",
              "      <td>0</td>\n",
              "      <td>0</td>\n",
              "      <td>1</td>\n",
              "      <td>0</td>\n",
              "      <td>0</td>\n",
              "      <td>0</td>\n",
              "      <td>0</td>\n",
              "      <td>0</td>\n",
              "      <td>1</td>\n",
              "    </tr>\n",
              "    <tr>\n",
              "      <th>6773</th>\n",
              "      <td>0</td>\n",
              "      <td>1</td>\n",
              "      <td>1</td>\n",
              "      <td>0</td>\n",
              "      <td>0.507042</td>\n",
              "      <td>1</td>\n",
              "      <td>1</td>\n",
              "      <td>0</td>\n",
              "      <td>0</td>\n",
              "      <td>0</td>\n",
              "      <td>0</td>\n",
              "      <td>1</td>\n",
              "      <td>1</td>\n",
              "      <td>1</td>\n",
              "      <td>0.738806</td>\n",
              "      <td>0.398638</td>\n",
              "      <td>0</td>\n",
              "      <td>1</td>\n",
              "      <td>0</td>\n",
              "      <td>1</td>\n",
              "      <td>0</td>\n",
              "      <td>0</td>\n",
              "      <td>0</td>\n",
              "      <td>0</td>\n",
              "      <td>1</td>\n",
              "      <td>0</td>\n",
              "    </tr>\n",
              "  </tbody>\n",
              "</table>\n",
              "</div>"
            ],
            "text/plain": [
              "      gender  ...  PaymentMethod_Mailed check\n",
              "684        1  ...                           1\n",
              "2446       1  ...                           0\n",
              "1680       0  ...                           1\n",
              "2220       0  ...                           0\n",
              "2842       1  ...                           1\n",
              "5131       1  ...                           0\n",
              "4372       0  ...                           0\n",
              "4687       0  ...                           0\n",
              "2385       1  ...                           1\n",
              "6773       0  ...                           0\n",
              "\n",
              "[10 rows x 26 columns]"
            ]
          },
          "metadata": {
            "tags": []
          },
          "execution_count": 42
        }
      ]
    },
    {
      "cell_type": "code",
      "metadata": {
        "colab": {
          "base_uri": "https://localhost:8080/"
        },
        "id": "XL0joR07pMD6",
        "outputId": "04705015-9aa3-4ea7-cc2c-249c71ce86c2"
      },
      "source": [
        "len(X_train.columns)"
      ],
      "execution_count": 43,
      "outputs": [
        {
          "output_type": "execute_result",
          "data": {
            "text/plain": [
              "26"
            ]
          },
          "metadata": {
            "tags": []
          },
          "execution_count": 43
        }
      ]
    },
    {
      "cell_type": "code",
      "metadata": {
        "colab": {
          "base_uri": "https://localhost:8080/"
        },
        "id": "sLWCEC_Hpume",
        "outputId": "54e84085-865a-49ef-e3fa-88504beac151"
      },
      "source": [
        "!pip install tensorflow-addons"
      ],
      "execution_count": 46,
      "outputs": [
        {
          "output_type": "stream",
          "text": [
            "Collecting tensorflow-addons\n",
            "\u001b[?25l  Downloading https://files.pythonhosted.org/packages/66/4b/e893d194e626c24b3df2253066aa418f46a432fdb68250cde14bf9bb0700/tensorflow_addons-0.13.0-cp37-cp37m-manylinux2010_x86_64.whl (679kB)\n",
            "\r\u001b[K     |▌                               | 10kB 19.4MB/s eta 0:00:01\r\u001b[K     |█                               | 20kB 27.9MB/s eta 0:00:01\r\u001b[K     |█▌                              | 30kB 21.2MB/s eta 0:00:01\r\u001b[K     |██                              | 40kB 22.9MB/s eta 0:00:01\r\u001b[K     |██▍                             | 51kB 13.8MB/s eta 0:00:01\r\u001b[K     |███                             | 61kB 9.6MB/s eta 0:00:01\r\u001b[K     |███▍                            | 71kB 10.6MB/s eta 0:00:01\r\u001b[K     |███▉                            | 81kB 11.7MB/s eta 0:00:01\r\u001b[K     |████▍                           | 92kB 11.4MB/s eta 0:00:01\r\u001b[K     |████▉                           | 102kB 12.2MB/s eta 0:00:01\r\u001b[K     |█████▎                          | 112kB 12.2MB/s eta 0:00:01\r\u001b[K     |█████▉                          | 122kB 12.2MB/s eta 0:00:01\r\u001b[K     |██████▎                         | 133kB 12.2MB/s eta 0:00:01\r\u001b[K     |██████▊                         | 143kB 12.2MB/s eta 0:00:01\r\u001b[K     |███████▎                        | 153kB 12.2MB/s eta 0:00:01\r\u001b[K     |███████▊                        | 163kB 12.2MB/s eta 0:00:01\r\u001b[K     |████████▏                       | 174kB 12.2MB/s eta 0:00:01\r\u001b[K     |████████▊                       | 184kB 12.2MB/s eta 0:00:01\r\u001b[K     |█████████▏                      | 194kB 12.2MB/s eta 0:00:01\r\u001b[K     |█████████▋                      | 204kB 12.2MB/s eta 0:00:01\r\u001b[K     |██████████▏                     | 215kB 12.2MB/s eta 0:00:01\r\u001b[K     |██████████▋                     | 225kB 12.2MB/s eta 0:00:01\r\u001b[K     |███████████                     | 235kB 12.2MB/s eta 0:00:01\r\u001b[K     |███████████▋                    | 245kB 12.2MB/s eta 0:00:01\r\u001b[K     |████████████                    | 256kB 12.2MB/s eta 0:00:01\r\u001b[K     |████████████▌                   | 266kB 12.2MB/s eta 0:00:01\r\u001b[K     |█████████████                   | 276kB 12.2MB/s eta 0:00:01\r\u001b[K     |█████████████▌                  | 286kB 12.2MB/s eta 0:00:01\r\u001b[K     |██████████████                  | 296kB 12.2MB/s eta 0:00:01\r\u001b[K     |██████████████▌                 | 307kB 12.2MB/s eta 0:00:01\r\u001b[K     |███████████████                 | 317kB 12.2MB/s eta 0:00:01\r\u001b[K     |███████████████▍                | 327kB 12.2MB/s eta 0:00:01\r\u001b[K     |████████████████                | 337kB 12.2MB/s eta 0:00:01\r\u001b[K     |████████████████▍               | 348kB 12.2MB/s eta 0:00:01\r\u001b[K     |████████████████▉               | 358kB 12.2MB/s eta 0:00:01\r\u001b[K     |█████████████████▍              | 368kB 12.2MB/s eta 0:00:01\r\u001b[K     |█████████████████▉              | 378kB 12.2MB/s eta 0:00:01\r\u001b[K     |██████████████████▎             | 389kB 12.2MB/s eta 0:00:01\r\u001b[K     |██████████████████▉             | 399kB 12.2MB/s eta 0:00:01\r\u001b[K     |███████████████████▎            | 409kB 12.2MB/s eta 0:00:01\r\u001b[K     |███████████████████▊            | 419kB 12.2MB/s eta 0:00:01\r\u001b[K     |████████████████████▎           | 430kB 12.2MB/s eta 0:00:01\r\u001b[K     |████████████████████▊           | 440kB 12.2MB/s eta 0:00:01\r\u001b[K     |█████████████████████▏          | 450kB 12.2MB/s eta 0:00:01\r\u001b[K     |█████████████████████▊          | 460kB 12.2MB/s eta 0:00:01\r\u001b[K     |██████████████████████▏         | 471kB 12.2MB/s eta 0:00:01\r\u001b[K     |██████████████████████▋         | 481kB 12.2MB/s eta 0:00:01\r\u001b[K     |███████████████████████▏        | 491kB 12.2MB/s eta 0:00:01\r\u001b[K     |███████████████████████▋        | 501kB 12.2MB/s eta 0:00:01\r\u001b[K     |████████████████████████        | 512kB 12.2MB/s eta 0:00:01\r\u001b[K     |████████████████████████▋       | 522kB 12.2MB/s eta 0:00:01\r\u001b[K     |█████████████████████████       | 532kB 12.2MB/s eta 0:00:01\r\u001b[K     |█████████████████████████▌      | 542kB 12.2MB/s eta 0:00:01\r\u001b[K     |██████████████████████████      | 552kB 12.2MB/s eta 0:00:01\r\u001b[K     |██████████████████████████▌     | 563kB 12.2MB/s eta 0:00:01\r\u001b[K     |███████████████████████████     | 573kB 12.2MB/s eta 0:00:01\r\u001b[K     |███████████████████████████▌    | 583kB 12.2MB/s eta 0:00:01\r\u001b[K     |████████████████████████████    | 593kB 12.2MB/s eta 0:00:01\r\u001b[K     |████████████████████████████▍   | 604kB 12.2MB/s eta 0:00:01\r\u001b[K     |█████████████████████████████   | 614kB 12.2MB/s eta 0:00:01\r\u001b[K     |█████████████████████████████▍  | 624kB 12.2MB/s eta 0:00:01\r\u001b[K     |█████████████████████████████▉  | 634kB 12.2MB/s eta 0:00:01\r\u001b[K     |██████████████████████████████▍ | 645kB 12.2MB/s eta 0:00:01\r\u001b[K     |██████████████████████████████▉ | 655kB 12.2MB/s eta 0:00:01\r\u001b[K     |███████████████████████████████▎| 665kB 12.2MB/s eta 0:00:01\r\u001b[K     |███████████████████████████████▉| 675kB 12.2MB/s eta 0:00:01\r\u001b[K     |████████████████████████████████| 686kB 12.2MB/s \n",
            "\u001b[?25hRequirement already satisfied: typeguard>=2.7 in /usr/local/lib/python3.7/dist-packages (from tensorflow-addons) (2.7.1)\n",
            "Installing collected packages: tensorflow-addons\n",
            "Successfully installed tensorflow-addons-0.13.0\n"
          ],
          "name": "stdout"
        }
      ]
    },
    {
      "cell_type": "code",
      "metadata": {
        "id": "ncckQqcXpN0Z"
      },
      "source": [
        "# Build a model (ANN) in tensorflow/keras\n",
        "\n",
        "from tensorflow_addons import losses\n",
        "\n",
        "import tensorflow as tf\n",
        "from tensorflow import keras\n",
        "from sklearn.metrics import confusion_matrix , classification_report"
      ],
      "execution_count": 47,
      "outputs": []
    },
    {
      "cell_type": "code",
      "metadata": {
        "id": "5wunl5W8pbQi"
      },
      "source": [
        "def ANN(X_train, y_train, X_test, y_test, loss, weights):\n",
        "    model = keras.Sequential([\n",
        "        keras.layers.Dense(26, input_dim=26, activation='relu'),\n",
        "        keras.layers.Dense(15, activation='relu'),\n",
        "        keras.layers.Dense(1, activation='sigmoid')\n",
        "    ])\n",
        "\n",
        "    model.compile(optimizer='adam', loss=loss, metrics=['accuracy'])\n",
        "    \n",
        "    if weights == -1:\n",
        "        model.fit(X_train, y_train, epochs=100)\n",
        "    else:\n",
        "        model.fit(X_train, y_train, epochs=100, class_weight = weights)\n",
        "    \n",
        "    print(model.evaluate(X_test, y_test))\n",
        "    \n",
        "    y_preds = model.predict(X_test)\n",
        "    y_preds = np.round(y_preds)\n",
        "    \n",
        "    print(\"Classification Report: \\n\", classification_report(y_test, y_preds))\n",
        "    \n",
        "    return y_preds"
      ],
      "execution_count": 48,
      "outputs": []
    },
    {
      "cell_type": "code",
      "metadata": {
        "colab": {
          "base_uri": "https://localhost:8080/"
        },
        "id": "8y9MN98Bp_0D",
        "outputId": "b9740919-cf1b-4f2d-c062-f1896cd6cb9d"
      },
      "source": [
        "y_preds = ANN(X_train, y_train, X_test, y_test, 'binary_crossentropy', -1)"
      ],
      "execution_count": 49,
      "outputs": [
        {
          "output_type": "stream",
          "text": [
            "Epoch 1/100\n",
            "176/176 [==============================] - 1s 861us/step - loss: 0.5441 - accuracy: 0.7408\n",
            "Epoch 2/100\n",
            "176/176 [==============================] - 0s 901us/step - loss: 0.4257 - accuracy: 0.7871\n",
            "Epoch 3/100\n",
            "176/176 [==============================] - 0s 851us/step - loss: 0.4293 - accuracy: 0.7890\n",
            "Epoch 4/100\n",
            "176/176 [==============================] - 0s 950us/step - loss: 0.4193 - accuracy: 0.7960\n",
            "Epoch 5/100\n",
            "176/176 [==============================] - 0s 965us/step - loss: 0.4109 - accuracy: 0.8053\n",
            "Epoch 6/100\n",
            "176/176 [==============================] - 0s 984us/step - loss: 0.4037 - accuracy: 0.8065\n",
            "Epoch 7/100\n",
            "176/176 [==============================] - 0s 1ms/step - loss: 0.4186 - accuracy: 0.7974\n",
            "Epoch 8/100\n",
            "176/176 [==============================] - 0s 933us/step - loss: 0.4082 - accuracy: 0.8060\n",
            "Epoch 9/100\n",
            "176/176 [==============================] - 0s 877us/step - loss: 0.4087 - accuracy: 0.8065\n",
            "Epoch 10/100\n",
            "176/176 [==============================] - 0s 853us/step - loss: 0.4039 - accuracy: 0.8113\n",
            "Epoch 11/100\n",
            "176/176 [==============================] - 0s 940us/step - loss: 0.4133 - accuracy: 0.8001\n",
            "Epoch 12/100\n",
            "176/176 [==============================] - 0s 848us/step - loss: 0.4008 - accuracy: 0.8145\n",
            "Epoch 13/100\n",
            "176/176 [==============================] - 0s 926us/step - loss: 0.3868 - accuracy: 0.8161\n",
            "Epoch 14/100\n",
            "176/176 [==============================] - 0s 922us/step - loss: 0.4120 - accuracy: 0.8021\n",
            "Epoch 15/100\n",
            "176/176 [==============================] - 0s 836us/step - loss: 0.3958 - accuracy: 0.8123\n",
            "Epoch 16/100\n",
            "176/176 [==============================] - 0s 827us/step - loss: 0.4167 - accuracy: 0.8037\n",
            "Epoch 17/100\n",
            "176/176 [==============================] - 0s 974us/step - loss: 0.3917 - accuracy: 0.8114\n",
            "Epoch 18/100\n",
            "176/176 [==============================] - 0s 911us/step - loss: 0.4012 - accuracy: 0.8192\n",
            "Epoch 19/100\n",
            "176/176 [==============================] - 0s 910us/step - loss: 0.3925 - accuracy: 0.8129\n",
            "Epoch 20/100\n",
            "176/176 [==============================] - 0s 1ms/step - loss: 0.3905 - accuracy: 0.8123\n",
            "Epoch 21/100\n",
            "176/176 [==============================] - 0s 876us/step - loss: 0.4005 - accuracy: 0.8084\n",
            "Epoch 22/100\n",
            "176/176 [==============================] - 0s 817us/step - loss: 0.3848 - accuracy: 0.8175\n",
            "Epoch 23/100\n",
            "176/176 [==============================] - 0s 952us/step - loss: 0.3969 - accuracy: 0.8167\n",
            "Epoch 24/100\n",
            "176/176 [==============================] - 0s 920us/step - loss: 0.3830 - accuracy: 0.8216\n",
            "Epoch 25/100\n",
            "176/176 [==============================] - 0s 935us/step - loss: 0.3990 - accuracy: 0.8111\n",
            "Epoch 26/100\n",
            "176/176 [==============================] - 0s 847us/step - loss: 0.3849 - accuracy: 0.8201\n",
            "Epoch 27/100\n",
            "176/176 [==============================] - 0s 839us/step - loss: 0.3856 - accuracy: 0.8124\n",
            "Epoch 28/100\n",
            "176/176 [==============================] - 0s 894us/step - loss: 0.3756 - accuracy: 0.8210\n",
            "Epoch 29/100\n",
            "176/176 [==============================] - 0s 981us/step - loss: 0.3769 - accuracy: 0.8232\n",
            "Epoch 30/100\n",
            "176/176 [==============================] - 0s 860us/step - loss: 0.3831 - accuracy: 0.8174\n",
            "Epoch 31/100\n",
            "176/176 [==============================] - 0s 928us/step - loss: 0.3773 - accuracy: 0.8246\n",
            "Epoch 32/100\n",
            "176/176 [==============================] - 0s 930us/step - loss: 0.3819 - accuracy: 0.8199\n",
            "Epoch 33/100\n",
            "176/176 [==============================] - 0s 937us/step - loss: 0.3857 - accuracy: 0.8206\n",
            "Epoch 34/100\n",
            "176/176 [==============================] - 0s 927us/step - loss: 0.3885 - accuracy: 0.8197\n",
            "Epoch 35/100\n",
            "176/176 [==============================] - 0s 929us/step - loss: 0.3884 - accuracy: 0.8158\n",
            "Epoch 36/100\n",
            "176/176 [==============================] - 0s 970us/step - loss: 0.3732 - accuracy: 0.8316\n",
            "Epoch 37/100\n",
            "176/176 [==============================] - 0s 842us/step - loss: 0.3883 - accuracy: 0.8161\n",
            "Epoch 38/100\n",
            "176/176 [==============================] - 0s 926us/step - loss: 0.3692 - accuracy: 0.8269\n",
            "Epoch 39/100\n",
            "176/176 [==============================] - 0s 980us/step - loss: 0.3733 - accuracy: 0.8242\n",
            "Epoch 40/100\n",
            "176/176 [==============================] - 0s 1ms/step - loss: 0.3693 - accuracy: 0.8258\n",
            "Epoch 41/100\n",
            "176/176 [==============================] - 0s 986us/step - loss: 0.3852 - accuracy: 0.8161\n",
            "Epoch 42/100\n",
            "176/176 [==============================] - 0s 1ms/step - loss: 0.3733 - accuracy: 0.8265\n",
            "Epoch 43/100\n",
            "176/176 [==============================] - 0s 944us/step - loss: 0.3693 - accuracy: 0.8252\n",
            "Epoch 44/100\n",
            "176/176 [==============================] - 0s 917us/step - loss: 0.3666 - accuracy: 0.8286\n",
            "Epoch 45/100\n",
            "176/176 [==============================] - 0s 905us/step - loss: 0.3764 - accuracy: 0.8198\n",
            "Epoch 46/100\n",
            "176/176 [==============================] - 0s 871us/step - loss: 0.3781 - accuracy: 0.8258\n",
            "Epoch 47/100\n",
            "176/176 [==============================] - 0s 930us/step - loss: 0.3684 - accuracy: 0.8246\n",
            "Epoch 48/100\n",
            "176/176 [==============================] - 0s 935us/step - loss: 0.3809 - accuracy: 0.8184\n",
            "Epoch 49/100\n",
            "176/176 [==============================] - 0s 870us/step - loss: 0.3823 - accuracy: 0.8147\n",
            "Epoch 50/100\n",
            "176/176 [==============================] - 0s 1000us/step - loss: 0.3663 - accuracy: 0.8268\n",
            "Epoch 51/100\n",
            "176/176 [==============================] - 0s 898us/step - loss: 0.3752 - accuracy: 0.8231\n",
            "Epoch 52/100\n",
            "176/176 [==============================] - 0s 963us/step - loss: 0.3841 - accuracy: 0.8181\n",
            "Epoch 53/100\n",
            "176/176 [==============================] - 0s 1000us/step - loss: 0.3906 - accuracy: 0.8142\n",
            "Epoch 54/100\n",
            "176/176 [==============================] - 0s 952us/step - loss: 0.3655 - accuracy: 0.8275\n",
            "Epoch 55/100\n",
            "176/176 [==============================] - 0s 896us/step - loss: 0.3705 - accuracy: 0.8245\n",
            "Epoch 56/100\n",
            "176/176 [==============================] - 0s 963us/step - loss: 0.3867 - accuracy: 0.8175\n",
            "Epoch 57/100\n",
            "176/176 [==============================] - 0s 857us/step - loss: 0.3640 - accuracy: 0.8250\n",
            "Epoch 58/100\n",
            "176/176 [==============================] - 0s 949us/step - loss: 0.3780 - accuracy: 0.8271\n",
            "Epoch 59/100\n",
            "176/176 [==============================] - 0s 938us/step - loss: 0.3750 - accuracy: 0.8201\n",
            "Epoch 60/100\n",
            "176/176 [==============================] - 0s 972us/step - loss: 0.3832 - accuracy: 0.8193\n",
            "Epoch 61/100\n",
            "176/176 [==============================] - 0s 851us/step - loss: 0.3755 - accuracy: 0.8211\n",
            "Epoch 62/100\n",
            "176/176 [==============================] - 0s 936us/step - loss: 0.3765 - accuracy: 0.8221\n",
            "Epoch 63/100\n",
            "176/176 [==============================] - 0s 971us/step - loss: 0.3693 - accuracy: 0.8207\n",
            "Epoch 64/100\n",
            "176/176 [==============================] - 0s 925us/step - loss: 0.3624 - accuracy: 0.8270\n",
            "Epoch 65/100\n",
            "176/176 [==============================] - 0s 946us/step - loss: 0.3708 - accuracy: 0.8266\n",
            "Epoch 66/100\n",
            "176/176 [==============================] - 0s 916us/step - loss: 0.3807 - accuracy: 0.8179\n",
            "Epoch 67/100\n",
            "176/176 [==============================] - 0s 954us/step - loss: 0.3638 - accuracy: 0.8272\n",
            "Epoch 68/100\n",
            "176/176 [==============================] - 0s 944us/step - loss: 0.3629 - accuracy: 0.8242\n",
            "Epoch 69/100\n",
            "176/176 [==============================] - 0s 851us/step - loss: 0.3546 - accuracy: 0.8326\n",
            "Epoch 70/100\n",
            "176/176 [==============================] - 0s 923us/step - loss: 0.3685 - accuracy: 0.8269\n",
            "Epoch 71/100\n",
            "176/176 [==============================] - 0s 950us/step - loss: 0.3511 - accuracy: 0.8344\n",
            "Epoch 72/100\n",
            "176/176 [==============================] - 0s 935us/step - loss: 0.3669 - accuracy: 0.8292\n",
            "Epoch 73/100\n",
            "176/176 [==============================] - 0s 928us/step - loss: 0.3667 - accuracy: 0.8361\n",
            "Epoch 74/100\n",
            "176/176 [==============================] - 0s 861us/step - loss: 0.3668 - accuracy: 0.8304\n",
            "Epoch 75/100\n",
            "176/176 [==============================] - 0s 858us/step - loss: 0.3580 - accuracy: 0.8297\n",
            "Epoch 76/100\n",
            "176/176 [==============================] - 0s 944us/step - loss: 0.3513 - accuracy: 0.8372\n",
            "Epoch 77/100\n",
            "176/176 [==============================] - 0s 938us/step - loss: 0.3599 - accuracy: 0.8284\n",
            "Epoch 78/100\n",
            "176/176 [==============================] - 0s 891us/step - loss: 0.3604 - accuracy: 0.8326\n",
            "Epoch 79/100\n",
            "176/176 [==============================] - 0s 869us/step - loss: 0.3545 - accuracy: 0.8312\n",
            "Epoch 80/100\n",
            "176/176 [==============================] - 0s 935us/step - loss: 0.3575 - accuracy: 0.8308\n",
            "Epoch 81/100\n",
            "176/176 [==============================] - 0s 838us/step - loss: 0.3697 - accuracy: 0.8173\n",
            "Epoch 82/100\n",
            "176/176 [==============================] - 0s 918us/step - loss: 0.3638 - accuracy: 0.8320\n",
            "Epoch 83/100\n",
            "176/176 [==============================] - 0s 938us/step - loss: 0.3445 - accuracy: 0.8324\n",
            "Epoch 84/100\n",
            "176/176 [==============================] - 0s 885us/step - loss: 0.3604 - accuracy: 0.8281\n",
            "Epoch 85/100\n",
            "176/176 [==============================] - 0s 907us/step - loss: 0.3688 - accuracy: 0.8271\n",
            "Epoch 86/100\n",
            "176/176 [==============================] - 0s 913us/step - loss: 0.3562 - accuracy: 0.8307\n",
            "Epoch 87/100\n",
            "176/176 [==============================] - 0s 856us/step - loss: 0.3424 - accuracy: 0.8423\n",
            "Epoch 88/100\n",
            "176/176 [==============================] - 0s 880us/step - loss: 0.3593 - accuracy: 0.8365\n",
            "Epoch 89/100\n",
            "176/176 [==============================] - 0s 971us/step - loss: 0.3518 - accuracy: 0.8330\n",
            "Epoch 90/100\n",
            "176/176 [==============================] - 0s 933us/step - loss: 0.3454 - accuracy: 0.8360\n",
            "Epoch 91/100\n",
            "176/176 [==============================] - 0s 944us/step - loss: 0.3539 - accuracy: 0.8348\n",
            "Epoch 92/100\n",
            "176/176 [==============================] - 0s 906us/step - loss: 0.3549 - accuracy: 0.8300\n",
            "Epoch 93/100\n",
            "176/176 [==============================] - 0s 928us/step - loss: 0.3544 - accuracy: 0.8306\n",
            "Epoch 94/100\n",
            "176/176 [==============================] - 0s 899us/step - loss: 0.3541 - accuracy: 0.8245\n",
            "Epoch 95/100\n",
            "176/176 [==============================] - 0s 944us/step - loss: 0.3601 - accuracy: 0.8291\n",
            "Epoch 96/100\n",
            "176/176 [==============================] - 0s 937us/step - loss: 0.3420 - accuracy: 0.8391\n",
            "Epoch 97/100\n",
            "176/176 [==============================] - 0s 849us/step - loss: 0.3588 - accuracy: 0.8360\n",
            "Epoch 98/100\n",
            "176/176 [==============================] - 0s 937us/step - loss: 0.3566 - accuracy: 0.8256\n",
            "Epoch 99/100\n",
            "176/176 [==============================] - 0s 919us/step - loss: 0.3530 - accuracy: 0.8313\n",
            "Epoch 100/100\n",
            "176/176 [==============================] - 0s 972us/step - loss: 0.3417 - accuracy: 0.8386\n",
            "44/44 [==============================] - 0s 717us/step - loss: 0.4831 - accuracy: 0.7783\n",
            "[0.4830765724182129, 0.778251588344574]\n",
            "Classification Report: \n",
            "               precision    recall  f1-score   support\n",
            "\n",
            "         0.0       0.84      0.86      0.85      1033\n",
            "         1.0       0.59      0.55      0.57       374\n",
            "\n",
            "    accuracy                           0.78      1407\n",
            "   macro avg       0.71      0.71      0.71      1407\n",
            "weighted avg       0.77      0.78      0.78      1407\n",
            "\n"
          ],
          "name": "stdout"
        }
      ]
    },
    {
      "cell_type": "markdown",
      "metadata": {
        "id": "8RNvOvbQqgSN"
      },
      "source": [
        "## Mitigating Skewdness of Data\n",
        "\n"
      ]
    },
    {
      "cell_type": "markdown",
      "metadata": {
        "id": "Y3Zp3RGlqpsa"
      },
      "source": [
        "Undersampling"
      ]
    },
    {
      "cell_type": "code",
      "metadata": {
        "id": "HSbFHSm6qB4B"
      },
      "source": [
        "# Class count\n",
        "count_class_0, count_class_1 = df1.Churn.value_counts()\n",
        "\n",
        "# Divide by class\n",
        "df_class_0 = df2[df2['Churn'] == 0]\n",
        "df_class_1 = df2[df2['Churn'] == 1]"
      ],
      "execution_count": 50,
      "outputs": []
    },
    {
      "cell_type": "code",
      "metadata": {
        "colab": {
          "base_uri": "https://localhost:8080/"
        },
        "id": "cjhkMCk7quDK",
        "outputId": "7f3796bb-342b-4d76-f56e-d9016156f680"
      },
      "source": [
        "\n",
        "# Undersample 0-class and concat the DataFrames of both class\n",
        "df_class_0_under = df_class_0.sample(count_class_1)\n",
        "df_test_under = pd.concat([df_class_0_under, df_class_1], axis=0)\n",
        "\n",
        "print('Random under-sampling:')\n",
        "print(df_test_under.Churn.value_counts())"
      ],
      "execution_count": 51,
      "outputs": [
        {
          "output_type": "stream",
          "text": [
            "Random under-sampling:\n",
            "1    1869\n",
            "0    1869\n",
            "Name: Churn, dtype: int64\n"
          ],
          "name": "stdout"
        }
      ]
    },
    {
      "cell_type": "code",
      "metadata": {
        "id": "xh4sm3kTqwxp"
      },
      "source": [
        "# Train Test & Split\n",
        "\n",
        "X = df_test_under.drop('Churn',axis='columns')\n",
        "y = df_test_under['Churn']\n",
        "\n",
        "from sklearn.model_selection import train_test_split\n",
        "X_train, X_test, y_train, y_test = train_test_split(X, y, test_size=0.2, random_state=15, stratify=y)"
      ],
      "execution_count": 52,
      "outputs": []
    },
    {
      "cell_type": "code",
      "metadata": {
        "colab": {
          "base_uri": "https://localhost:8080/"
        },
        "id": "HBGJhVPfq3Fa",
        "outputId": "031faf22-0758-432d-dfcb-ff7a0f15a32b"
      },
      "source": [
        "# Number of classes in training Data\n",
        "\n",
        "y_train.value_counts()"
      ],
      "execution_count": 53,
      "outputs": [
        {
          "output_type": "execute_result",
          "data": {
            "text/plain": [
              "1    1495\n",
              "0    1495\n",
              "Name: Churn, dtype: int64"
            ]
          },
          "metadata": {
            "tags": []
          },
          "execution_count": 53
        }
      ]
    },
    {
      "cell_type": "code",
      "metadata": {
        "colab": {
          "base_uri": "https://localhost:8080/"
        },
        "id": "kyHyXYnXq5Da",
        "outputId": "0fd2782a-b011-479b-a364-cc37d52eb949"
      },
      "source": [
        "# Printing Classification in the last, Scroll down till the last epoch to watch the classification repor\n",
        "\n",
        "y_preds = ANN(X_train, y_train, X_test, y_test, 'binary_crossentropy', -1)"
      ],
      "execution_count": 54,
      "outputs": [
        {
          "output_type": "stream",
          "text": [
            "Epoch 1/100\n",
            "94/94 [==============================] - 0s 910us/step - loss: 0.6941 - accuracy: 0.5016\n",
            "Epoch 2/100\n",
            "94/94 [==============================] - 0s 838us/step - loss: 0.5359 - accuracy: 0.7591\n",
            "Epoch 3/100\n",
            "94/94 [==============================] - 0s 825us/step - loss: 0.4970 - accuracy: 0.7716\n",
            "Epoch 4/100\n",
            "94/94 [==============================] - 0s 896us/step - loss: 0.4800 - accuracy: 0.7764\n",
            "Epoch 5/100\n",
            "94/94 [==============================] - 0s 896us/step - loss: 0.4864 - accuracy: 0.7612\n",
            "Epoch 6/100\n",
            "94/94 [==============================] - 0s 845us/step - loss: 0.4785 - accuracy: 0.7737\n",
            "Epoch 7/100\n",
            "94/94 [==============================] - 0s 951us/step - loss: 0.4818 - accuracy: 0.7624\n",
            "Epoch 8/100\n",
            "94/94 [==============================] - 0s 920us/step - loss: 0.4803 - accuracy: 0.7664\n",
            "Epoch 9/100\n",
            "94/94 [==============================] - 0s 925us/step - loss: 0.4952 - accuracy: 0.7591\n",
            "Epoch 10/100\n",
            "94/94 [==============================] - 0s 837us/step - loss: 0.4720 - accuracy: 0.7748\n",
            "Epoch 11/100\n",
            "94/94 [==============================] - 0s 868us/step - loss: 0.4800 - accuracy: 0.7695\n",
            "Epoch 12/100\n",
            "94/94 [==============================] - 0s 908us/step - loss: 0.4788 - accuracy: 0.7732\n",
            "Epoch 13/100\n",
            "94/94 [==============================] - 0s 855us/step - loss: 0.4721 - accuracy: 0.7806\n",
            "Epoch 14/100\n",
            "94/94 [==============================] - 0s 845us/step - loss: 0.4566 - accuracy: 0.7830\n",
            "Epoch 15/100\n",
            "94/94 [==============================] - 0s 827us/step - loss: 0.4666 - accuracy: 0.7776\n",
            "Epoch 16/100\n",
            "94/94 [==============================] - 0s 845us/step - loss: 0.4697 - accuracy: 0.7741\n",
            "Epoch 17/100\n",
            "94/94 [==============================] - 0s 842us/step - loss: 0.4701 - accuracy: 0.7761\n",
            "Epoch 18/100\n",
            "94/94 [==============================] - 0s 969us/step - loss: 0.4570 - accuracy: 0.7917\n",
            "Epoch 19/100\n",
            "94/94 [==============================] - 0s 973us/step - loss: 0.4757 - accuracy: 0.7652\n",
            "Epoch 20/100\n",
            "94/94 [==============================] - 0s 1ms/step - loss: 0.4540 - accuracy: 0.7799\n",
            "Epoch 21/100\n",
            "94/94 [==============================] - 0s 905us/step - loss: 0.4692 - accuracy: 0.7731\n",
            "Epoch 22/100\n",
            "94/94 [==============================] - 0s 953us/step - loss: 0.4419 - accuracy: 0.7880\n",
            "Epoch 23/100\n",
            "94/94 [==============================] - 0s 953us/step - loss: 0.4520 - accuracy: 0.7914\n",
            "Epoch 24/100\n",
            "94/94 [==============================] - 0s 869us/step - loss: 0.4527 - accuracy: 0.7806\n",
            "Epoch 25/100\n",
            "94/94 [==============================] - 0s 1ms/step - loss: 0.4487 - accuracy: 0.7820\n",
            "Epoch 26/100\n",
            "94/94 [==============================] - 0s 972us/step - loss: 0.4422 - accuracy: 0.7859\n",
            "Epoch 27/100\n",
            "94/94 [==============================] - 0s 914us/step - loss: 0.4664 - accuracy: 0.7731\n",
            "Epoch 28/100\n",
            "94/94 [==============================] - 0s 975us/step - loss: 0.4520 - accuracy: 0.7805\n",
            "Epoch 29/100\n",
            "94/94 [==============================] - 0s 1000us/step - loss: 0.4572 - accuracy: 0.7861\n",
            "Epoch 30/100\n",
            "94/94 [==============================] - 0s 940us/step - loss: 0.4315 - accuracy: 0.8034\n",
            "Epoch 31/100\n",
            "94/94 [==============================] - 0s 974us/step - loss: 0.4509 - accuracy: 0.7861\n",
            "Epoch 32/100\n",
            "94/94 [==============================] - 0s 938us/step - loss: 0.4348 - accuracy: 0.7870\n",
            "Epoch 33/100\n",
            "94/94 [==============================] - 0s 845us/step - loss: 0.4312 - accuracy: 0.7844\n",
            "Epoch 34/100\n",
            "94/94 [==============================] - 0s 885us/step - loss: 0.4322 - accuracy: 0.7977\n",
            "Epoch 35/100\n",
            "94/94 [==============================] - 0s 849us/step - loss: 0.4242 - accuracy: 0.8103\n",
            "Epoch 36/100\n",
            "94/94 [==============================] - 0s 924us/step - loss: 0.4494 - accuracy: 0.7829\n",
            "Epoch 37/100\n",
            "94/94 [==============================] - 0s 1ms/step - loss: 0.4412 - accuracy: 0.7905\n",
            "Epoch 38/100\n",
            "94/94 [==============================] - 0s 905us/step - loss: 0.4515 - accuracy: 0.7809\n",
            "Epoch 39/100\n",
            "94/94 [==============================] - 0s 893us/step - loss: 0.4198 - accuracy: 0.8049\n",
            "Epoch 40/100\n",
            "94/94 [==============================] - 0s 956us/step - loss: 0.4361 - accuracy: 0.7877\n",
            "Epoch 41/100\n",
            "94/94 [==============================] - 0s 1ms/step - loss: 0.4147 - accuracy: 0.8025\n",
            "Epoch 42/100\n",
            "94/94 [==============================] - 0s 879us/step - loss: 0.4264 - accuracy: 0.7987\n",
            "Epoch 43/100\n",
            "94/94 [==============================] - 0s 946us/step - loss: 0.4128 - accuracy: 0.8135\n",
            "Epoch 44/100\n",
            "94/94 [==============================] - 0s 944us/step - loss: 0.4335 - accuracy: 0.7984\n",
            "Epoch 45/100\n",
            "94/94 [==============================] - 0s 875us/step - loss: 0.4242 - accuracy: 0.7983\n",
            "Epoch 46/100\n",
            "94/94 [==============================] - 0s 1ms/step - loss: 0.4038 - accuracy: 0.8125\n",
            "Epoch 47/100\n",
            "94/94 [==============================] - 0s 999us/step - loss: 0.4120 - accuracy: 0.8170\n",
            "Epoch 48/100\n",
            "94/94 [==============================] - 0s 916us/step - loss: 0.4168 - accuracy: 0.8038\n",
            "Epoch 49/100\n",
            "94/94 [==============================] - 0s 867us/step - loss: 0.4135 - accuracy: 0.8043\n",
            "Epoch 50/100\n",
            "94/94 [==============================] - 0s 922us/step - loss: 0.4060 - accuracy: 0.8083\n",
            "Epoch 51/100\n",
            "94/94 [==============================] - 0s 954us/step - loss: 0.4160 - accuracy: 0.7998\n",
            "Epoch 52/100\n",
            "94/94 [==============================] - 0s 906us/step - loss: 0.4081 - accuracy: 0.8090\n",
            "Epoch 53/100\n",
            "94/94 [==============================] - 0s 941us/step - loss: 0.4101 - accuracy: 0.8151\n",
            "Epoch 54/100\n",
            "94/94 [==============================] - 0s 1ms/step - loss: 0.4149 - accuracy: 0.8172\n",
            "Epoch 55/100\n",
            "94/94 [==============================] - 0s 1ms/step - loss: 0.4161 - accuracy: 0.8042\n",
            "Epoch 56/100\n",
            "94/94 [==============================] - 0s 855us/step - loss: 0.3921 - accuracy: 0.8229\n",
            "Epoch 57/100\n",
            "94/94 [==============================] - 0s 906us/step - loss: 0.3841 - accuracy: 0.8173\n",
            "Epoch 58/100\n",
            "94/94 [==============================] - 0s 1ms/step - loss: 0.4137 - accuracy: 0.8017\n",
            "Epoch 59/100\n",
            "94/94 [==============================] - 0s 1ms/step - loss: 0.4241 - accuracy: 0.8064\n",
            "Epoch 60/100\n",
            "94/94 [==============================] - 0s 1ms/step - loss: 0.4013 - accuracy: 0.8123\n",
            "Epoch 61/100\n",
            "94/94 [==============================] - 0s 863us/step - loss: 0.4070 - accuracy: 0.8178\n",
            "Epoch 62/100\n",
            "94/94 [==============================] - 0s 917us/step - loss: 0.4015 - accuracy: 0.8166\n",
            "Epoch 63/100\n",
            "94/94 [==============================] - 0s 892us/step - loss: 0.4042 - accuracy: 0.8063\n",
            "Epoch 64/100\n",
            "94/94 [==============================] - 0s 878us/step - loss: 0.3885 - accuracy: 0.8148\n",
            "Epoch 65/100\n",
            "94/94 [==============================] - 0s 937us/step - loss: 0.4049 - accuracy: 0.8048\n",
            "Epoch 66/100\n",
            "94/94 [==============================] - 0s 880us/step - loss: 0.3940 - accuracy: 0.8191\n",
            "Epoch 67/100\n",
            "94/94 [==============================] - 0s 967us/step - loss: 0.4077 - accuracy: 0.8089\n",
            "Epoch 68/100\n",
            "94/94 [==============================] - 0s 893us/step - loss: 0.4036 - accuracy: 0.8151\n",
            "Epoch 69/100\n",
            "94/94 [==============================] - 0s 847us/step - loss: 0.3793 - accuracy: 0.8285\n",
            "Epoch 70/100\n",
            "94/94 [==============================] - 0s 923us/step - loss: 0.3798 - accuracy: 0.8264\n",
            "Epoch 71/100\n",
            "94/94 [==============================] - 0s 942us/step - loss: 0.3814 - accuracy: 0.8261\n",
            "Epoch 72/100\n",
            "94/94 [==============================] - 0s 982us/step - loss: 0.4057 - accuracy: 0.8112\n",
            "Epoch 73/100\n",
            "94/94 [==============================] - 0s 919us/step - loss: 0.3828 - accuracy: 0.8222\n",
            "Epoch 74/100\n",
            "94/94 [==============================] - 0s 896us/step - loss: 0.3894 - accuracy: 0.8309\n",
            "Epoch 75/100\n",
            "94/94 [==============================] - 0s 911us/step - loss: 0.3871 - accuracy: 0.8233\n",
            "Epoch 76/100\n",
            "94/94 [==============================] - 0s 870us/step - loss: 0.3970 - accuracy: 0.8138\n",
            "Epoch 77/100\n",
            "94/94 [==============================] - 0s 879us/step - loss: 0.3998 - accuracy: 0.8200\n",
            "Epoch 78/100\n",
            "94/94 [==============================] - 0s 1ms/step - loss: 0.3826 - accuracy: 0.8230\n",
            "Epoch 79/100\n",
            "94/94 [==============================] - 0s 950us/step - loss: 0.3961 - accuracy: 0.8135\n",
            "Epoch 80/100\n",
            "94/94 [==============================] - 0s 1ms/step - loss: 0.3835 - accuracy: 0.8198\n",
            "Epoch 81/100\n",
            "94/94 [==============================] - 0s 940us/step - loss: 0.3834 - accuracy: 0.8234\n",
            "Epoch 82/100\n",
            "94/94 [==============================] - 0s 979us/step - loss: 0.3824 - accuracy: 0.8270\n",
            "Epoch 83/100\n",
            "94/94 [==============================] - 0s 888us/step - loss: 0.3953 - accuracy: 0.8102\n",
            "Epoch 84/100\n",
            "94/94 [==============================] - 0s 901us/step - loss: 0.3812 - accuracy: 0.8202\n",
            "Epoch 85/100\n",
            "94/94 [==============================] - 0s 894us/step - loss: 0.3831 - accuracy: 0.8157\n",
            "Epoch 86/100\n",
            "94/94 [==============================] - 0s 973us/step - loss: 0.3964 - accuracy: 0.8060\n",
            "Epoch 87/100\n",
            "94/94 [==============================] - 0s 979us/step - loss: 0.3754 - accuracy: 0.8303\n",
            "Epoch 88/100\n",
            "94/94 [==============================] - 0s 896us/step - loss: 0.3800 - accuracy: 0.8227\n",
            "Epoch 89/100\n",
            "94/94 [==============================] - 0s 918us/step - loss: 0.3825 - accuracy: 0.8212\n",
            "Epoch 90/100\n",
            "94/94 [==============================] - 0s 901us/step - loss: 0.3708 - accuracy: 0.8344\n",
            "Epoch 91/100\n",
            "94/94 [==============================] - 0s 905us/step - loss: 0.3669 - accuracy: 0.8320\n",
            "Epoch 92/100\n",
            "94/94 [==============================] - 0s 1ms/step - loss: 0.3749 - accuracy: 0.8228\n",
            "Epoch 93/100\n",
            "94/94 [==============================] - 0s 904us/step - loss: 0.3780 - accuracy: 0.8243\n",
            "Epoch 94/100\n",
            "94/94 [==============================] - 0s 908us/step - loss: 0.3759 - accuracy: 0.8262\n",
            "Epoch 95/100\n",
            "94/94 [==============================] - 0s 983us/step - loss: 0.3718 - accuracy: 0.8304\n",
            "Epoch 96/100\n",
            "94/94 [==============================] - 0s 950us/step - loss: 0.3699 - accuracy: 0.8374\n",
            "Epoch 97/100\n",
            "94/94 [==============================] - 0s 954us/step - loss: 0.3587 - accuracy: 0.8426\n",
            "Epoch 98/100\n",
            "94/94 [==============================] - 0s 884us/step - loss: 0.3844 - accuracy: 0.8138\n",
            "Epoch 99/100\n",
            "94/94 [==============================] - 0s 1ms/step - loss: 0.3751 - accuracy: 0.8264\n",
            "Epoch 100/100\n",
            "94/94 [==============================] - 0s 904us/step - loss: 0.3759 - accuracy: 0.8192\n",
            "24/24 [==============================] - 0s 854us/step - loss: 0.5378 - accuracy: 0.7393\n",
            "[0.5377946496009827, 0.7393048405647278]\n",
            "Classification Report: \n",
            "               precision    recall  f1-score   support\n",
            "\n",
            "           0       0.75      0.71      0.73       374\n",
            "           1       0.73      0.76      0.75       374\n",
            "\n",
            "    accuracy                           0.74       748\n",
            "   macro avg       0.74      0.74      0.74       748\n",
            "weighted avg       0.74      0.74      0.74       748\n",
            "\n"
          ],
          "name": "stdout"
        }
      ]
    },
    {
      "cell_type": "markdown",
      "metadata": {
        "id": "DljCkFlnrOSl"
      },
      "source": [
        "Check classification report above. f1-score for minority class 1 improved from 0.57 to 0.75. Score for class 0 reduced to 0.73 from 0.85 but that's ok. We have more generalized classifier which classifies both classes with similar prediction score"
      ]
    },
    {
      "cell_type": "markdown",
      "metadata": {
        "id": "So_0CkMLrvD-"
      },
      "source": [
        "Oversampling"
      ]
    },
    {
      "cell_type": "code",
      "metadata": {
        "colab": {
          "base_uri": "https://localhost:8080/"
        },
        "id": "1CIdg3gdrCSh",
        "outputId": "f0045f46-1eba-4fcb-8eda-3ebc711551bd"
      },
      "source": [
        "# Oversample 1-class and concat the DataFrames of both classes\n",
        "\n",
        "df_class_1_over = df_class_1.sample(count_class_0, replace=True)\n",
        "df_test_over = pd.concat([df_class_0, df_class_1_over], axis=0)\n",
        "\n",
        "print('Random over-sampling:')\n",
        "print(df_test_over.Churn.value_counts())"
      ],
      "execution_count": 56,
      "outputs": [
        {
          "output_type": "stream",
          "text": [
            "Random over-sampling:\n",
            "1    5163\n",
            "0    5163\n",
            "Name: Churn, dtype: int64\n"
          ],
          "name": "stdout"
        }
      ]
    },
    {
      "cell_type": "code",
      "metadata": {
        "id": "BarsoXvtrxdz"
      },
      "source": [
        "# Train Test Split\n",
        "\n",
        "X = df_test_over.drop('Churn',axis='columns')\n",
        "y = df_test_over['Churn']\n",
        "\n",
        "from sklearn.model_selection import train_test_split\n",
        "X_train, X_test, y_train, y_test = train_test_split(X, y, test_size=0.2, random_state=15, stratify=y)"
      ],
      "execution_count": 57,
      "outputs": []
    },
    {
      "cell_type": "code",
      "metadata": {
        "colab": {
          "base_uri": "https://localhost:8080/"
        },
        "id": "2J0mIMgvr20b",
        "outputId": "73351cc1-2b75-4634-ff34-efb827a6780a"
      },
      "source": [
        "# Number of classes in training Data\n",
        "\n",
        "y_train.value_counts()"
      ],
      "execution_count": 58,
      "outputs": [
        {
          "output_type": "execute_result",
          "data": {
            "text/plain": [
              "1    4130\n",
              "0    4130\n",
              "Name: Churn, dtype: int64"
            ]
          },
          "metadata": {
            "tags": []
          },
          "execution_count": 58
        }
      ]
    },
    {
      "cell_type": "code",
      "metadata": {
        "colab": {
          "base_uri": "https://localhost:8080/"
        },
        "id": "s8VZhvddr497",
        "outputId": "d3d921cd-b4f3-48e2-e991-4b97b755b813"
      },
      "source": [
        "loss = keras.losses.BinaryCrossentropy()\n",
        "weights = -1\n",
        "y_preds = ANN(X_train, y_train, X_test, y_test, 'binary_crossentropy', -1)"
      ],
      "execution_count": 59,
      "outputs": [
        {
          "output_type": "stream",
          "text": [
            "Epoch 1/100\n",
            "259/259 [==============================] - 1s 809us/step - loss: 0.5952 - accuracy: 0.6873\n",
            "Epoch 2/100\n",
            "259/259 [==============================] - 0s 859us/step - loss: 0.4978 - accuracy: 0.7611\n",
            "Epoch 3/100\n",
            "259/259 [==============================] - 0s 901us/step - loss: 0.4830 - accuracy: 0.7678\n",
            "Epoch 4/100\n",
            "259/259 [==============================] - 0s 825us/step - loss: 0.4789 - accuracy: 0.7651\n",
            "Epoch 5/100\n",
            "259/259 [==============================] - 0s 865us/step - loss: 0.4699 - accuracy: 0.7728\n",
            "Epoch 6/100\n",
            "259/259 [==============================] - 0s 920us/step - loss: 0.4689 - accuracy: 0.7739\n",
            "Epoch 7/100\n",
            "259/259 [==============================] - 0s 903us/step - loss: 0.4667 - accuracy: 0.7726\n",
            "Epoch 8/100\n",
            "259/259 [==============================] - 0s 880us/step - loss: 0.4533 - accuracy: 0.7880\n",
            "Epoch 9/100\n",
            "259/259 [==============================] - 0s 884us/step - loss: 0.4591 - accuracy: 0.7771\n",
            "Epoch 10/100\n",
            "259/259 [==============================] - 0s 883us/step - loss: 0.4538 - accuracy: 0.7816\n",
            "Epoch 11/100\n",
            "259/259 [==============================] - 0s 900us/step - loss: 0.4665 - accuracy: 0.7663\n",
            "Epoch 12/100\n",
            "259/259 [==============================] - 0s 886us/step - loss: 0.4454 - accuracy: 0.7821\n",
            "Epoch 13/100\n",
            "259/259 [==============================] - 0s 899us/step - loss: 0.4548 - accuracy: 0.7885\n",
            "Epoch 14/100\n",
            "259/259 [==============================] - 0s 871us/step - loss: 0.4504 - accuracy: 0.7804\n",
            "Epoch 15/100\n",
            "259/259 [==============================] - 0s 888us/step - loss: 0.4574 - accuracy: 0.7847\n",
            "Epoch 16/100\n",
            "259/259 [==============================] - 0s 936us/step - loss: 0.4441 - accuracy: 0.7984\n",
            "Epoch 17/100\n",
            "259/259 [==============================] - 0s 861us/step - loss: 0.4482 - accuracy: 0.7893\n",
            "Epoch 18/100\n",
            "259/259 [==============================] - 0s 876us/step - loss: 0.4466 - accuracy: 0.7891\n",
            "Epoch 19/100\n",
            "259/259 [==============================] - 0s 857us/step - loss: 0.4453 - accuracy: 0.7875\n",
            "Epoch 20/100\n",
            "259/259 [==============================] - 0s 929us/step - loss: 0.4367 - accuracy: 0.7918\n",
            "Epoch 21/100\n",
            "259/259 [==============================] - 0s 851us/step - loss: 0.4426 - accuracy: 0.7941\n",
            "Epoch 22/100\n",
            "259/259 [==============================] - 0s 872us/step - loss: 0.4338 - accuracy: 0.7935\n",
            "Epoch 23/100\n",
            "259/259 [==============================] - 0s 893us/step - loss: 0.4405 - accuracy: 0.7902\n",
            "Epoch 24/100\n",
            "259/259 [==============================] - 0s 901us/step - loss: 0.4429 - accuracy: 0.7921\n",
            "Epoch 25/100\n",
            "259/259 [==============================] - 0s 856us/step - loss: 0.4402 - accuracy: 0.7891\n",
            "Epoch 26/100\n",
            "259/259 [==============================] - 0s 899us/step - loss: 0.4355 - accuracy: 0.7955\n",
            "Epoch 27/100\n",
            "259/259 [==============================] - 0s 924us/step - loss: 0.4288 - accuracy: 0.7971\n",
            "Epoch 28/100\n",
            "259/259 [==============================] - 0s 875us/step - loss: 0.4307 - accuracy: 0.7959\n",
            "Epoch 29/100\n",
            "259/259 [==============================] - 0s 903us/step - loss: 0.4251 - accuracy: 0.8037\n",
            "Epoch 30/100\n",
            "259/259 [==============================] - 0s 864us/step - loss: 0.4225 - accuracy: 0.8048\n",
            "Epoch 31/100\n",
            "259/259 [==============================] - 0s 962us/step - loss: 0.4320 - accuracy: 0.7967\n",
            "Epoch 32/100\n",
            "259/259 [==============================] - 0s 984us/step - loss: 0.4241 - accuracy: 0.7982\n",
            "Epoch 33/100\n",
            "259/259 [==============================] - 0s 925us/step - loss: 0.4352 - accuracy: 0.7992\n",
            "Epoch 34/100\n",
            "259/259 [==============================] - 0s 882us/step - loss: 0.4199 - accuracy: 0.8112\n",
            "Epoch 35/100\n",
            "259/259 [==============================] - 0s 942us/step - loss: 0.4140 - accuracy: 0.8139\n",
            "Epoch 36/100\n",
            "259/259 [==============================] - 0s 950us/step - loss: 0.4159 - accuracy: 0.8074\n",
            "Epoch 37/100\n",
            "259/259 [==============================] - 0s 920us/step - loss: 0.4122 - accuracy: 0.8131\n",
            "Epoch 38/100\n",
            "259/259 [==============================] - 0s 952us/step - loss: 0.4173 - accuracy: 0.8090\n",
            "Epoch 39/100\n",
            "259/259 [==============================] - 0s 905us/step - loss: 0.4211 - accuracy: 0.8045\n",
            "Epoch 40/100\n",
            "259/259 [==============================] - 0s 864us/step - loss: 0.4171 - accuracy: 0.8079\n",
            "Epoch 41/100\n",
            "259/259 [==============================] - 0s 927us/step - loss: 0.4023 - accuracy: 0.8141\n",
            "Epoch 42/100\n",
            "259/259 [==============================] - 0s 887us/step - loss: 0.4224 - accuracy: 0.8098\n",
            "Epoch 43/100\n",
            "259/259 [==============================] - 0s 921us/step - loss: 0.4064 - accuracy: 0.8138\n",
            "Epoch 44/100\n",
            "259/259 [==============================] - 0s 1ms/step - loss: 0.4134 - accuracy: 0.8078\n",
            "Epoch 45/100\n",
            "259/259 [==============================] - 0s 891us/step - loss: 0.4188 - accuracy: 0.7983\n",
            "Epoch 46/100\n",
            "259/259 [==============================] - 0s 952us/step - loss: 0.4231 - accuracy: 0.8072\n",
            "Epoch 47/100\n",
            "259/259 [==============================] - 0s 930us/step - loss: 0.4123 - accuracy: 0.8136\n",
            "Epoch 48/100\n",
            "259/259 [==============================] - 0s 891us/step - loss: 0.4030 - accuracy: 0.8199\n",
            "Epoch 49/100\n",
            "259/259 [==============================] - 0s 904us/step - loss: 0.4084 - accuracy: 0.8131\n",
            "Epoch 50/100\n",
            "259/259 [==============================] - 0s 861us/step - loss: 0.4066 - accuracy: 0.8114\n",
            "Epoch 51/100\n",
            "259/259 [==============================] - 0s 931us/step - loss: 0.4088 - accuracy: 0.8116\n",
            "Epoch 52/100\n",
            "259/259 [==============================] - 0s 889us/step - loss: 0.4064 - accuracy: 0.8171\n",
            "Epoch 53/100\n",
            "259/259 [==============================] - 0s 917us/step - loss: 0.3995 - accuracy: 0.8172\n",
            "Epoch 54/100\n",
            "259/259 [==============================] - 0s 869us/step - loss: 0.4032 - accuracy: 0.8167\n",
            "Epoch 55/100\n",
            "259/259 [==============================] - 0s 884us/step - loss: 0.4046 - accuracy: 0.8185\n",
            "Epoch 56/100\n",
            "259/259 [==============================] - 0s 929us/step - loss: 0.4020 - accuracy: 0.8198\n",
            "Epoch 57/100\n",
            "259/259 [==============================] - 0s 903us/step - loss: 0.4008 - accuracy: 0.8209\n",
            "Epoch 58/100\n",
            "259/259 [==============================] - 0s 923us/step - loss: 0.4045 - accuracy: 0.8176\n",
            "Epoch 59/100\n",
            "259/259 [==============================] - 0s 915us/step - loss: 0.4039 - accuracy: 0.8145\n",
            "Epoch 60/100\n",
            "259/259 [==============================] - 0s 867us/step - loss: 0.3968 - accuracy: 0.8214\n",
            "Epoch 61/100\n",
            "259/259 [==============================] - 0s 872us/step - loss: 0.3962 - accuracy: 0.8268\n",
            "Epoch 62/100\n",
            "259/259 [==============================] - 0s 970us/step - loss: 0.3865 - accuracy: 0.8255\n",
            "Epoch 63/100\n",
            "259/259 [==============================] - 0s 904us/step - loss: 0.3983 - accuracy: 0.8186\n",
            "Epoch 64/100\n",
            "259/259 [==============================] - 0s 1ms/step - loss: 0.3896 - accuracy: 0.8260\n",
            "Epoch 65/100\n",
            "259/259 [==============================] - 0s 1ms/step - loss: 0.3927 - accuracy: 0.8170\n",
            "Epoch 66/100\n",
            "259/259 [==============================] - 0s 1ms/step - loss: 0.3824 - accuracy: 0.8294\n",
            "Epoch 67/100\n",
            "259/259 [==============================] - 0s 917us/step - loss: 0.3985 - accuracy: 0.8168\n",
            "Epoch 68/100\n",
            "259/259 [==============================] - 0s 895us/step - loss: 0.3980 - accuracy: 0.8283\n",
            "Epoch 69/100\n",
            "259/259 [==============================] - 0s 899us/step - loss: 0.3916 - accuracy: 0.8258\n",
            "Epoch 70/100\n",
            "259/259 [==============================] - 0s 928us/step - loss: 0.4001 - accuracy: 0.8126\n",
            "Epoch 71/100\n",
            "259/259 [==============================] - 0s 926us/step - loss: 0.4009 - accuracy: 0.8164\n",
            "Epoch 72/100\n",
            "259/259 [==============================] - 0s 1ms/step - loss: 0.3857 - accuracy: 0.8245\n",
            "Epoch 73/100\n",
            "259/259 [==============================] - 0s 1ms/step - loss: 0.3905 - accuracy: 0.8210\n",
            "Epoch 74/100\n",
            "259/259 [==============================] - 0s 1ms/step - loss: 0.3979 - accuracy: 0.8212\n",
            "Epoch 75/100\n",
            "259/259 [==============================] - 0s 905us/step - loss: 0.3856 - accuracy: 0.8297\n",
            "Epoch 76/100\n",
            "259/259 [==============================] - 0s 885us/step - loss: 0.3923 - accuracy: 0.8228\n",
            "Epoch 77/100\n",
            "259/259 [==============================] - 0s 923us/step - loss: 0.3856 - accuracy: 0.8296\n",
            "Epoch 78/100\n",
            "259/259 [==============================] - 0s 887us/step - loss: 0.3886 - accuracy: 0.8264\n",
            "Epoch 79/100\n",
            "259/259 [==============================] - 0s 944us/step - loss: 0.3949 - accuracy: 0.8238\n",
            "Epoch 80/100\n",
            "259/259 [==============================] - 0s 928us/step - loss: 0.3856 - accuracy: 0.8239\n",
            "Epoch 81/100\n",
            "259/259 [==============================] - 0s 910us/step - loss: 0.3894 - accuracy: 0.8255\n",
            "Epoch 82/100\n",
            "259/259 [==============================] - 0s 888us/step - loss: 0.3815 - accuracy: 0.8240\n",
            "Epoch 83/100\n",
            "259/259 [==============================] - 0s 889us/step - loss: 0.3767 - accuracy: 0.8329\n",
            "Epoch 84/100\n",
            "259/259 [==============================] - 0s 895us/step - loss: 0.3785 - accuracy: 0.8323\n",
            "Epoch 85/100\n",
            "259/259 [==============================] - 0s 896us/step - loss: 0.3866 - accuracy: 0.8275\n",
            "Epoch 86/100\n",
            "259/259 [==============================] - 0s 1ms/step - loss: 0.3850 - accuracy: 0.8311\n",
            "Epoch 87/100\n",
            "259/259 [==============================] - 0s 954us/step - loss: 0.3726 - accuracy: 0.8325\n",
            "Epoch 88/100\n",
            "259/259 [==============================] - 0s 949us/step - loss: 0.3747 - accuracy: 0.8368\n",
            "Epoch 89/100\n",
            "259/259 [==============================] - 0s 961us/step - loss: 0.3758 - accuracy: 0.8321\n",
            "Epoch 90/100\n",
            "259/259 [==============================] - 0s 872us/step - loss: 0.3919 - accuracy: 0.8239\n",
            "Epoch 91/100\n",
            "259/259 [==============================] - 0s 963us/step - loss: 0.3781 - accuracy: 0.8272\n",
            "Epoch 92/100\n",
            "259/259 [==============================] - 0s 892us/step - loss: 0.3765 - accuracy: 0.8294\n",
            "Epoch 93/100\n",
            "259/259 [==============================] - 0s 903us/step - loss: 0.3887 - accuracy: 0.8266\n",
            "Epoch 94/100\n",
            "259/259 [==============================] - 0s 915us/step - loss: 0.3788 - accuracy: 0.8263\n",
            "Epoch 95/100\n",
            "259/259 [==============================] - 0s 960us/step - loss: 0.3684 - accuracy: 0.8357\n",
            "Epoch 96/100\n",
            "259/259 [==============================] - 0s 1ms/step - loss: 0.3749 - accuracy: 0.8278\n",
            "Epoch 97/100\n",
            "259/259 [==============================] - 0s 909us/step - loss: 0.3703 - accuracy: 0.8367\n",
            "Epoch 98/100\n",
            "259/259 [==============================] - 0s 945us/step - loss: 0.3761 - accuracy: 0.8270\n",
            "Epoch 99/100\n",
            "259/259 [==============================] - 0s 936us/step - loss: 0.3647 - accuracy: 0.8406\n",
            "Epoch 100/100\n",
            "259/259 [==============================] - 0s 926us/step - loss: 0.3696 - accuracy: 0.8334\n",
            "65/65 [==============================] - 0s 626us/step - loss: 0.4634 - accuracy: 0.7773\n",
            "[0.46335431933403015, 0.7773475050926208]\n",
            "Classification Report: \n",
            "               precision    recall  f1-score   support\n",
            "\n",
            "           0       0.81      0.73      0.77      1033\n",
            "           1       0.75      0.82      0.79      1033\n",
            "\n",
            "    accuracy                           0.78      2066\n",
            "   macro avg       0.78      0.78      0.78      2066\n",
            "weighted avg       0.78      0.78      0.78      2066\n",
            "\n"
          ],
          "name": "stdout"
        }
      ]
    },
    {
      "cell_type": "markdown",
      "metadata": {
        "id": "W5f_yndRsBlE"
      },
      "source": [
        "Check classification report above. f1-score for minority class 1 improved from 0.57 to 0.79. Score for class 0 reduced to 0.77 from 0.85 but that's ok. We have more generalized classifier which classifies both classes with similar prediction score"
      ]
    },
    {
      "cell_type": "markdown",
      "metadata": {
        "id": "mhG9IX9isStx"
      },
      "source": [
        "SMOTE"
      ]
    },
    {
      "cell_type": "code",
      "metadata": {
        "id": "YSfjQ5hPr61r"
      },
      "source": [
        "X = df2.drop('Churn',axis='columns')\n",
        "y = df2['Churn']"
      ],
      "execution_count": 66,
      "outputs": []
    },
    {
      "cell_type": "code",
      "metadata": {
        "colab": {
          "base_uri": "https://localhost:8080/"
        },
        "id": "q_aJYX88tBJE",
        "outputId": "ad878f5f-bbb1-42a9-ebd9-879dabed7ff5"
      },
      "source": [
        "!pip install imbalanced-learn"
      ],
      "execution_count": 68,
      "outputs": [
        {
          "output_type": "stream",
          "text": [
            "Requirement already satisfied: imbalanced-learn in /usr/local/lib/python3.7/dist-packages (0.4.3)\n",
            "Requirement already satisfied: scipy>=0.13.3 in /usr/local/lib/python3.7/dist-packages (from imbalanced-learn) (1.4.1)\n",
            "Requirement already satisfied: numpy>=1.8.2 in /usr/local/lib/python3.7/dist-packages (from imbalanced-learn) (1.19.5)\n",
            "Requirement already satisfied: scikit-learn>=0.20 in /usr/local/lib/python3.7/dist-packages (from imbalanced-learn) (0.22.2.post1)\n",
            "Requirement already satisfied: joblib>=0.11 in /usr/local/lib/python3.7/dist-packages (from scikit-learn>=0.20->imbalanced-learn) (1.0.1)\n"
          ],
          "name": "stdout"
        }
      ]
    },
    {
      "cell_type": "code",
      "metadata": {
        "colab": {
          "base_uri": "https://localhost:8080/"
        },
        "id": "ML60ypNMtq1r",
        "outputId": "9e329154-3471-4afa-e542-8e7778ee9ba4"
      },
      "source": [
        "y.value_counts()"
      ],
      "execution_count": 70,
      "outputs": [
        {
          "output_type": "execute_result",
          "data": {
            "text/plain": [
              "0    5163\n",
              "1    1869\n",
              "Name: Churn, dtype: int64"
            ]
          },
          "metadata": {
            "tags": []
          },
          "execution_count": 70
        }
      ]
    },
    {
      "cell_type": "code",
      "metadata": {
        "id": "Q5iZbuxpujLr"
      },
      "source": [
        "# Train Test Split\n",
        "\n",
        "from sklearn.model_selection import train_test_split\n",
        "X_train, X_test, y_train, y_test = train_test_split(X_sm, y_sm, test_size=0.2, random_state=15, stratify=y_sm)"
      ],
      "execution_count": 73,
      "outputs": []
    },
    {
      "cell_type": "code",
      "metadata": {
        "colab": {
          "base_uri": "https://localhost:8080/"
        },
        "id": "SDjb720Pu4w6",
        "outputId": "1e691f88-999f-4b1b-e369-eac2b0768d17"
      },
      "source": [
        "y_preds = ANN(X_train, y_train, X_test, y_test, 'binary_crossentropy', -1)"
      ],
      "execution_count": 75,
      "outputs": [
        {
          "output_type": "stream",
          "text": [
            "Epoch 1/100\n",
            "259/259 [==============================] - 1s 860us/step - loss: 0.6010 - accuracy: 0.6887\n",
            "Epoch 2/100\n",
            "259/259 [==============================] - 0s 870us/step - loss: 0.4787 - accuracy: 0.7725\n",
            "Epoch 3/100\n",
            "259/259 [==============================] - 0s 851us/step - loss: 0.4646 - accuracy: 0.7792\n",
            "Epoch 4/100\n",
            "259/259 [==============================] - 0s 907us/step - loss: 0.4637 - accuracy: 0.7773\n",
            "Epoch 5/100\n",
            "259/259 [==============================] - 0s 897us/step - loss: 0.4717 - accuracy: 0.7712\n",
            "Epoch 6/100\n",
            "259/259 [==============================] - 0s 855us/step - loss: 0.4579 - accuracy: 0.7836\n",
            "Epoch 7/100\n",
            "259/259 [==============================] - 0s 836us/step - loss: 0.4535 - accuracy: 0.7836\n",
            "Epoch 8/100\n",
            "259/259 [==============================] - 0s 937us/step - loss: 0.4538 - accuracy: 0.7894\n",
            "Epoch 9/100\n",
            "259/259 [==============================] - 0s 880us/step - loss: 0.4592 - accuracy: 0.7848\n",
            "Epoch 10/100\n",
            "259/259 [==============================] - 0s 836us/step - loss: 0.4422 - accuracy: 0.7885\n",
            "Epoch 11/100\n",
            "259/259 [==============================] - 0s 894us/step - loss: 0.4342 - accuracy: 0.7969\n",
            "Epoch 12/100\n",
            "259/259 [==============================] - 0s 1ms/step - loss: 0.4455 - accuracy: 0.7935\n",
            "Epoch 13/100\n",
            "259/259 [==============================] - 0s 873us/step - loss: 0.4337 - accuracy: 0.7974\n",
            "Epoch 14/100\n",
            "259/259 [==============================] - 0s 879us/step - loss: 0.4348 - accuracy: 0.7930\n",
            "Epoch 15/100\n",
            "259/259 [==============================] - 0s 928us/step - loss: 0.4391 - accuracy: 0.7917\n",
            "Epoch 16/100\n",
            "259/259 [==============================] - 0s 890us/step - loss: 0.4287 - accuracy: 0.8008\n",
            "Epoch 17/100\n",
            "259/259 [==============================] - 0s 981us/step - loss: 0.4259 - accuracy: 0.7991\n",
            "Epoch 18/100\n",
            "259/259 [==============================] - 0s 905us/step - loss: 0.4330 - accuracy: 0.7985\n",
            "Epoch 19/100\n",
            "259/259 [==============================] - 0s 853us/step - loss: 0.4256 - accuracy: 0.8053\n",
            "Epoch 20/100\n",
            "259/259 [==============================] - 0s 881us/step - loss: 0.4169 - accuracy: 0.8092\n",
            "Epoch 21/100\n",
            "259/259 [==============================] - 0s 920us/step - loss: 0.4249 - accuracy: 0.8014\n",
            "Epoch 22/100\n",
            "259/259 [==============================] - 0s 874us/step - loss: 0.4163 - accuracy: 0.8085\n",
            "Epoch 23/100\n",
            "259/259 [==============================] - 0s 847us/step - loss: 0.4149 - accuracy: 0.8061\n",
            "Epoch 24/100\n",
            "259/259 [==============================] - 0s 914us/step - loss: 0.4155 - accuracy: 0.8116\n",
            "Epoch 25/100\n",
            "259/259 [==============================] - 0s 959us/step - loss: 0.4089 - accuracy: 0.8134\n",
            "Epoch 26/100\n",
            "259/259 [==============================] - 0s 1ms/step - loss: 0.4114 - accuracy: 0.8116\n",
            "Epoch 27/100\n",
            "259/259 [==============================] - 0s 924us/step - loss: 0.4077 - accuracy: 0.8137\n",
            "Epoch 28/100\n",
            "259/259 [==============================] - 0s 910us/step - loss: 0.4067 - accuracy: 0.8153\n",
            "Epoch 29/100\n",
            "259/259 [==============================] - 0s 924us/step - loss: 0.4091 - accuracy: 0.8106\n",
            "Epoch 30/100\n",
            "259/259 [==============================] - 0s 903us/step - loss: 0.4151 - accuracy: 0.8112\n",
            "Epoch 31/100\n",
            "259/259 [==============================] - 0s 839us/step - loss: 0.4053 - accuracy: 0.8130\n",
            "Epoch 32/100\n",
            "259/259 [==============================] - 0s 879us/step - loss: 0.4051 - accuracy: 0.8184\n",
            "Epoch 33/100\n",
            "259/259 [==============================] - 0s 895us/step - loss: 0.4027 - accuracy: 0.8159\n",
            "Epoch 34/100\n",
            "259/259 [==============================] - 0s 852us/step - loss: 0.4068 - accuracy: 0.8146\n",
            "Epoch 35/100\n",
            "259/259 [==============================] - 0s 913us/step - loss: 0.4023 - accuracy: 0.8128\n",
            "Epoch 36/100\n",
            "259/259 [==============================] - 0s 859us/step - loss: 0.4080 - accuracy: 0.8198\n",
            "Epoch 37/100\n",
            "259/259 [==============================] - 0s 884us/step - loss: 0.3875 - accuracy: 0.8280\n",
            "Epoch 38/100\n",
            "259/259 [==============================] - 0s 983us/step - loss: 0.3968 - accuracy: 0.8249\n",
            "Epoch 39/100\n",
            "259/259 [==============================] - 0s 882us/step - loss: 0.3939 - accuracy: 0.8225\n",
            "Epoch 40/100\n",
            "259/259 [==============================] - 0s 902us/step - loss: 0.4020 - accuracy: 0.8092\n",
            "Epoch 41/100\n",
            "259/259 [==============================] - 0s 889us/step - loss: 0.3863 - accuracy: 0.8203\n",
            "Epoch 42/100\n",
            "259/259 [==============================] - 0s 940us/step - loss: 0.3858 - accuracy: 0.8284\n",
            "Epoch 43/100\n",
            "259/259 [==============================] - 0s 874us/step - loss: 0.3937 - accuracy: 0.8211\n",
            "Epoch 44/100\n",
            "259/259 [==============================] - 0s 889us/step - loss: 0.3930 - accuracy: 0.8238\n",
            "Epoch 45/100\n",
            "259/259 [==============================] - 0s 913us/step - loss: 0.3792 - accuracy: 0.8262\n",
            "Epoch 46/100\n",
            "259/259 [==============================] - 0s 956us/step - loss: 0.3782 - accuracy: 0.8327\n",
            "Epoch 47/100\n",
            "259/259 [==============================] - 0s 895us/step - loss: 0.3958 - accuracy: 0.8178\n",
            "Epoch 48/100\n",
            "259/259 [==============================] - 0s 892us/step - loss: 0.3867 - accuracy: 0.8246\n",
            "Epoch 49/100\n",
            "259/259 [==============================] - 0s 917us/step - loss: 0.3875 - accuracy: 0.8255\n",
            "Epoch 50/100\n",
            "259/259 [==============================] - 0s 1ms/step - loss: 0.3964 - accuracy: 0.8201\n",
            "Epoch 51/100\n",
            "259/259 [==============================] - 0s 874us/step - loss: 0.3817 - accuracy: 0.8279\n",
            "Epoch 52/100\n",
            "259/259 [==============================] - 0s 900us/step - loss: 0.3895 - accuracy: 0.8232\n",
            "Epoch 53/100\n",
            "259/259 [==============================] - 0s 884us/step - loss: 0.3858 - accuracy: 0.8290\n",
            "Epoch 54/100\n",
            "259/259 [==============================] - 0s 913us/step - loss: 0.3824 - accuracy: 0.8280\n",
            "Epoch 55/100\n",
            "259/259 [==============================] - 0s 889us/step - loss: 0.3881 - accuracy: 0.8176\n",
            "Epoch 56/100\n",
            "259/259 [==============================] - 0s 904us/step - loss: 0.3765 - accuracy: 0.8289\n",
            "Epoch 57/100\n",
            "259/259 [==============================] - 0s 896us/step - loss: 0.3823 - accuracy: 0.8245\n",
            "Epoch 58/100\n",
            "259/259 [==============================] - 0s 901us/step - loss: 0.3784 - accuracy: 0.8311\n",
            "Epoch 59/100\n",
            "259/259 [==============================] - 0s 935us/step - loss: 0.3698 - accuracy: 0.8331\n",
            "Epoch 60/100\n",
            "259/259 [==============================] - 0s 877us/step - loss: 0.3838 - accuracy: 0.8338\n",
            "Epoch 61/100\n",
            "259/259 [==============================] - 0s 960us/step - loss: 0.3821 - accuracy: 0.8297\n",
            "Epoch 62/100\n",
            "259/259 [==============================] - 0s 897us/step - loss: 0.3703 - accuracy: 0.8384\n",
            "Epoch 63/100\n",
            "259/259 [==============================] - 0s 906us/step - loss: 0.3699 - accuracy: 0.8347\n",
            "Epoch 64/100\n",
            "259/259 [==============================] - 0s 900us/step - loss: 0.3685 - accuracy: 0.8356\n",
            "Epoch 65/100\n",
            "259/259 [==============================] - 0s 893us/step - loss: 0.3730 - accuracy: 0.8355\n",
            "Epoch 66/100\n",
            "259/259 [==============================] - 0s 906us/step - loss: 0.3678 - accuracy: 0.8384\n",
            "Epoch 67/100\n",
            "259/259 [==============================] - 0s 899us/step - loss: 0.3636 - accuracy: 0.8361\n",
            "Epoch 68/100\n",
            "259/259 [==============================] - 0s 913us/step - loss: 0.3730 - accuracy: 0.8328\n",
            "Epoch 69/100\n",
            "259/259 [==============================] - 0s 899us/step - loss: 0.3809 - accuracy: 0.8338\n",
            "Epoch 70/100\n",
            "259/259 [==============================] - 0s 1ms/step - loss: 0.3549 - accuracy: 0.8432\n",
            "Epoch 71/100\n",
            "259/259 [==============================] - 0s 930us/step - loss: 0.3640 - accuracy: 0.8395\n",
            "Epoch 72/100\n",
            "259/259 [==============================] - 0s 883us/step - loss: 0.3693 - accuracy: 0.8365\n",
            "Epoch 73/100\n",
            "259/259 [==============================] - 0s 852us/step - loss: 0.3676 - accuracy: 0.8363\n",
            "Epoch 74/100\n",
            "259/259 [==============================] - 0s 876us/step - loss: 0.3777 - accuracy: 0.8344\n",
            "Epoch 75/100\n",
            "259/259 [==============================] - 0s 925us/step - loss: 0.3628 - accuracy: 0.8356\n",
            "Epoch 76/100\n",
            "259/259 [==============================] - 0s 888us/step - loss: 0.3591 - accuracy: 0.8445\n",
            "Epoch 77/100\n",
            "259/259 [==============================] - 0s 882us/step - loss: 0.3601 - accuracy: 0.8440\n",
            "Epoch 78/100\n",
            "259/259 [==============================] - 0s 888us/step - loss: 0.3750 - accuracy: 0.8307\n",
            "Epoch 79/100\n",
            "259/259 [==============================] - 0s 877us/step - loss: 0.3779 - accuracy: 0.8279\n",
            "Epoch 80/100\n",
            "259/259 [==============================] - 0s 953us/step - loss: 0.3652 - accuracy: 0.8431\n",
            "Epoch 81/100\n",
            "259/259 [==============================] - 0s 881us/step - loss: 0.3543 - accuracy: 0.8415\n",
            "Epoch 82/100\n",
            "259/259 [==============================] - 0s 904us/step - loss: 0.3637 - accuracy: 0.8379\n",
            "Epoch 83/100\n",
            "259/259 [==============================] - 0s 934us/step - loss: 0.3527 - accuracy: 0.8495\n",
            "Epoch 84/100\n",
            "259/259 [==============================] - 0s 964us/step - loss: 0.3461 - accuracy: 0.8533\n",
            "Epoch 85/100\n",
            "259/259 [==============================] - 0s 1ms/step - loss: 0.3510 - accuracy: 0.8449\n",
            "Epoch 86/100\n",
            "259/259 [==============================] - 0s 926us/step - loss: 0.3555 - accuracy: 0.8422\n",
            "Epoch 87/100\n",
            "259/259 [==============================] - 0s 922us/step - loss: 0.3437 - accuracy: 0.8555\n",
            "Epoch 88/100\n",
            "259/259 [==============================] - 0s 940us/step - loss: 0.3622 - accuracy: 0.8428\n",
            "Epoch 89/100\n",
            "259/259 [==============================] - 0s 895us/step - loss: 0.3569 - accuracy: 0.8485\n",
            "Epoch 90/100\n",
            "259/259 [==============================] - 0s 959us/step - loss: 0.3518 - accuracy: 0.8482\n",
            "Epoch 91/100\n",
            "259/259 [==============================] - 0s 933us/step - loss: 0.3686 - accuracy: 0.8395\n",
            "Epoch 92/100\n",
            "259/259 [==============================] - 0s 965us/step - loss: 0.3456 - accuracy: 0.8527\n",
            "Epoch 93/100\n",
            "259/259 [==============================] - 0s 1ms/step - loss: 0.3500 - accuracy: 0.8481\n",
            "Epoch 94/100\n",
            "259/259 [==============================] - 0s 911us/step - loss: 0.3482 - accuracy: 0.8505\n",
            "Epoch 95/100\n",
            "259/259 [==============================] - 0s 899us/step - loss: 0.3499 - accuracy: 0.8493\n",
            "Epoch 96/100\n",
            "259/259 [==============================] - 0s 970us/step - loss: 0.3532 - accuracy: 0.8481\n",
            "Epoch 97/100\n",
            "259/259 [==============================] - 0s 908us/step - loss: 0.3543 - accuracy: 0.8467\n",
            "Epoch 98/100\n",
            "259/259 [==============================] - 0s 974us/step - loss: 0.3472 - accuracy: 0.8506\n",
            "Epoch 99/100\n",
            "259/259 [==============================] - 0s 904us/step - loss: 0.3516 - accuracy: 0.8496\n",
            "Epoch 100/100\n",
            "259/259 [==============================] - 0s 1ms/step - loss: 0.3460 - accuracy: 0.8506\n",
            "65/65 [==============================] - 0s 627us/step - loss: 0.4600 - accuracy: 0.7924\n",
            "[0.4599526822566986, 0.7923523783683777]\n",
            "Classification Report: \n",
            "               precision    recall  f1-score   support\n",
            "\n",
            "           0       0.80      0.77      0.79      1033\n",
            "           1       0.78      0.81      0.80      1033\n",
            "\n",
            "    accuracy                           0.79      2066\n",
            "   macro avg       0.79      0.79      0.79      2066\n",
            "weighted avg       0.79      0.79      0.79      2066\n",
            "\n"
          ],
          "name": "stdout"
        }
      ]
    },
    {
      "cell_type": "markdown",
      "metadata": {
        "id": "eMPUfRwEvLVc"
      },
      "source": [
        "SMOT Oversampling increases f1 score of minority class 1 from 0.57 to 0.80 (huge improvement) Also over all accuracy improves from 0.78 to 0.79"
      ]
    },
    {
      "cell_type": "markdown",
      "metadata": {
        "id": "cqmDNHefvayj"
      },
      "source": [
        "Use of Ensemble with undersampling"
      ]
    },
    {
      "cell_type": "code",
      "metadata": {
        "colab": {
          "base_uri": "https://localhost:8080/"
        },
        "id": "WRwpGIl7u9Dj",
        "outputId": "9f2a62ea-6ee2-4a94-9881-140548ef1438"
      },
      "source": [
        "df2.Churn.value_counts()\n"
      ],
      "execution_count": 76,
      "outputs": [
        {
          "output_type": "execute_result",
          "data": {
            "text/plain": [
              "0    5163\n",
              "1    1869\n",
              "Name: Churn, dtype: int64"
            ]
          },
          "metadata": {
            "tags": []
          },
          "execution_count": 76
        }
      ]
    },
    {
      "cell_type": "code",
      "metadata": {
        "id": "J7-yhtW6veea"
      },
      "source": [
        "# Regain Original features and labels\n",
        "\n",
        "X = df2.drop('Churn',axis='columns')\n",
        "y = df2['Churn']"
      ],
      "execution_count": 77,
      "outputs": []
    },
    {
      "cell_type": "code",
      "metadata": {
        "id": "q-XOv9-TviWr"
      },
      "source": [
        "# Train Test Split\n",
        "\n",
        "from sklearn.model_selection import train_test_split\n",
        "X_train, X_test, y_train, y_test = train_test_split(X, y, test_size=0.2, random_state=15, stratify=y)"
      ],
      "execution_count": 78,
      "outputs": []
    },
    {
      "cell_type": "code",
      "metadata": {
        "colab": {
          "base_uri": "https://localhost:8080/"
        },
        "id": "fU0gXnzlvm6q",
        "outputId": "330a03e6-d0e6-4d8e-9246-36e7ba5d13d9"
      },
      "source": [
        "y_train.value_counts()"
      ],
      "execution_count": 79,
      "outputs": [
        {
          "output_type": "execute_result",
          "data": {
            "text/plain": [
              "0    4130\n",
              "1    1495\n",
              "Name: Churn, dtype: int64"
            ]
          },
          "metadata": {
            "tags": []
          },
          "execution_count": 79
        }
      ]
    },
    {
      "cell_type": "code",
      "metadata": {
        "id": "8Jhi2dtmvpnz"
      },
      "source": [
        "df3 = X_train.copy()\n",
        "df3['Churn'] = y_train"
      ],
      "execution_count": 80,
      "outputs": []
    },
    {
      "cell_type": "code",
      "metadata": {
        "colab": {
          "base_uri": "https://localhost:8080/",
          "height": 253
        },
        "id": "akVvIPazvr2r",
        "outputId": "2f7f9dcd-3b4c-4f00-ab3a-55ddcdbf1024"
      },
      "source": [
        "df3.head()"
      ],
      "execution_count": 81,
      "outputs": [
        {
          "output_type": "execute_result",
          "data": {
            "text/html": [
              "<div>\n",
              "<style scoped>\n",
              "    .dataframe tbody tr th:only-of-type {\n",
              "        vertical-align: middle;\n",
              "    }\n",
              "\n",
              "    .dataframe tbody tr th {\n",
              "        vertical-align: top;\n",
              "    }\n",
              "\n",
              "    .dataframe thead th {\n",
              "        text-align: right;\n",
              "    }\n",
              "</style>\n",
              "<table border=\"1\" class=\"dataframe\">\n",
              "  <thead>\n",
              "    <tr style=\"text-align: right;\">\n",
              "      <th></th>\n",
              "      <th>gender</th>\n",
              "      <th>SeniorCitizen</th>\n",
              "      <th>Partner</th>\n",
              "      <th>Dependents</th>\n",
              "      <th>tenure</th>\n",
              "      <th>PhoneService</th>\n",
              "      <th>MultipleLines</th>\n",
              "      <th>OnlineSecurity</th>\n",
              "      <th>OnlineBackup</th>\n",
              "      <th>DeviceProtection</th>\n",
              "      <th>TechSupport</th>\n",
              "      <th>StreamingTV</th>\n",
              "      <th>StreamingMovies</th>\n",
              "      <th>PaperlessBilling</th>\n",
              "      <th>MonthlyCharges</th>\n",
              "      <th>TotalCharges</th>\n",
              "      <th>InternetService_DSL</th>\n",
              "      <th>InternetService_Fiber optic</th>\n",
              "      <th>InternetService_No</th>\n",
              "      <th>Contract_Month-to-month</th>\n",
              "      <th>Contract_One year</th>\n",
              "      <th>Contract_Two year</th>\n",
              "      <th>PaymentMethod_Bank transfer (automatic)</th>\n",
              "      <th>PaymentMethod_Credit card (automatic)</th>\n",
              "      <th>PaymentMethod_Electronic check</th>\n",
              "      <th>PaymentMethod_Mailed check</th>\n",
              "      <th>Churn</th>\n",
              "    </tr>\n",
              "  </thead>\n",
              "  <tbody>\n",
              "    <tr>\n",
              "      <th>684</th>\n",
              "      <td>1</td>\n",
              "      <td>0</td>\n",
              "      <td>0</td>\n",
              "      <td>0</td>\n",
              "      <td>0.000000</td>\n",
              "      <td>1</td>\n",
              "      <td>0</td>\n",
              "      <td>0</td>\n",
              "      <td>0</td>\n",
              "      <td>0</td>\n",
              "      <td>0</td>\n",
              "      <td>0</td>\n",
              "      <td>0</td>\n",
              "      <td>0</td>\n",
              "      <td>0.525871</td>\n",
              "      <td>0.006035</td>\n",
              "      <td>0</td>\n",
              "      <td>1</td>\n",
              "      <td>0</td>\n",
              "      <td>1</td>\n",
              "      <td>0</td>\n",
              "      <td>0</td>\n",
              "      <td>0</td>\n",
              "      <td>0</td>\n",
              "      <td>0</td>\n",
              "      <td>1</td>\n",
              "      <td>0</td>\n",
              "    </tr>\n",
              "    <tr>\n",
              "      <th>2446</th>\n",
              "      <td>1</td>\n",
              "      <td>0</td>\n",
              "      <td>0</td>\n",
              "      <td>0</td>\n",
              "      <td>0.239437</td>\n",
              "      <td>1</td>\n",
              "      <td>1</td>\n",
              "      <td>0</td>\n",
              "      <td>1</td>\n",
              "      <td>0</td>\n",
              "      <td>0</td>\n",
              "      <td>1</td>\n",
              "      <td>0</td>\n",
              "      <td>1</td>\n",
              "      <td>0.713930</td>\n",
              "      <td>0.174077</td>\n",
              "      <td>0</td>\n",
              "      <td>1</td>\n",
              "      <td>0</td>\n",
              "      <td>1</td>\n",
              "      <td>0</td>\n",
              "      <td>0</td>\n",
              "      <td>0</td>\n",
              "      <td>1</td>\n",
              "      <td>0</td>\n",
              "      <td>0</td>\n",
              "      <td>1</td>\n",
              "    </tr>\n",
              "    <tr>\n",
              "      <th>1680</th>\n",
              "      <td>0</td>\n",
              "      <td>0</td>\n",
              "      <td>1</td>\n",
              "      <td>1</td>\n",
              "      <td>0.774648</td>\n",
              "      <td>1</td>\n",
              "      <td>1</td>\n",
              "      <td>0</td>\n",
              "      <td>0</td>\n",
              "      <td>0</td>\n",
              "      <td>0</td>\n",
              "      <td>0</td>\n",
              "      <td>0</td>\n",
              "      <td>1</td>\n",
              "      <td>0.061692</td>\n",
              "      <td>0.163034</td>\n",
              "      <td>0</td>\n",
              "      <td>0</td>\n",
              "      <td>1</td>\n",
              "      <td>0</td>\n",
              "      <td>1</td>\n",
              "      <td>0</td>\n",
              "      <td>0</td>\n",
              "      <td>0</td>\n",
              "      <td>0</td>\n",
              "      <td>1</td>\n",
              "      <td>0</td>\n",
              "    </tr>\n",
              "    <tr>\n",
              "      <th>2220</th>\n",
              "      <td>0</td>\n",
              "      <td>0</td>\n",
              "      <td>1</td>\n",
              "      <td>0</td>\n",
              "      <td>1.000000</td>\n",
              "      <td>1</td>\n",
              "      <td>0</td>\n",
              "      <td>1</td>\n",
              "      <td>1</td>\n",
              "      <td>0</td>\n",
              "      <td>1</td>\n",
              "      <td>1</td>\n",
              "      <td>1</td>\n",
              "      <td>1</td>\n",
              "      <td>0.607960</td>\n",
              "      <td>0.661718</td>\n",
              "      <td>1</td>\n",
              "      <td>0</td>\n",
              "      <td>0</td>\n",
              "      <td>0</td>\n",
              "      <td>0</td>\n",
              "      <td>1</td>\n",
              "      <td>1</td>\n",
              "      <td>0</td>\n",
              "      <td>0</td>\n",
              "      <td>0</td>\n",
              "      <td>0</td>\n",
              "    </tr>\n",
              "    <tr>\n",
              "      <th>2842</th>\n",
              "      <td>1</td>\n",
              "      <td>0</td>\n",
              "      <td>0</td>\n",
              "      <td>0</td>\n",
              "      <td>0.042254</td>\n",
              "      <td>0</td>\n",
              "      <td>0</td>\n",
              "      <td>1</td>\n",
              "      <td>0</td>\n",
              "      <td>1</td>\n",
              "      <td>1</td>\n",
              "      <td>0</td>\n",
              "      <td>1</td>\n",
              "      <td>0</td>\n",
              "      <td>0.298507</td>\n",
              "      <td>0.021169</td>\n",
              "      <td>1</td>\n",
              "      <td>0</td>\n",
              "      <td>0</td>\n",
              "      <td>1</td>\n",
              "      <td>0</td>\n",
              "      <td>0</td>\n",
              "      <td>0</td>\n",
              "      <td>0</td>\n",
              "      <td>0</td>\n",
              "      <td>1</td>\n",
              "      <td>0</td>\n",
              "    </tr>\n",
              "  </tbody>\n",
              "</table>\n",
              "</div>"
            ],
            "text/plain": [
              "      gender  SeniorCitizen  ...  PaymentMethod_Mailed check  Churn\n",
              "684        1              0  ...                           1      0\n",
              "2446       1              0  ...                           0      1\n",
              "1680       0              0  ...                           1      0\n",
              "2220       0              0  ...                           0      0\n",
              "2842       1              0  ...                           1      0\n",
              "\n",
              "[5 rows x 27 columns]"
            ]
          },
          "metadata": {
            "tags": []
          },
          "execution_count": 81
        }
      ]
    },
    {
      "cell_type": "code",
      "metadata": {
        "id": "qfXK3sRfvt1b"
      },
      "source": [
        "df3_class0 = df3[df3.Churn==0]\n",
        "df3_class1 = df3[df3.Churn==1]"
      ],
      "execution_count": 82,
      "outputs": []
    },
    {
      "cell_type": "code",
      "metadata": {
        "id": "vgSGZHh-vv37"
      },
      "source": [
        "def get_train_batch(df_majority, df_minority, start, end):\n",
        "    df_train = pd.concat([df_majority[start:end], df_minority], axis=0)\n",
        "\n",
        "    X_train = df_train.drop('Churn', axis='columns')\n",
        "    y_train = df_train.Churn\n",
        "    return X_train, y_train"
      ],
      "execution_count": 83,
      "outputs": []
    },
    {
      "cell_type": "code",
      "metadata": {
        "colab": {
          "base_uri": "https://localhost:8080/"
        },
        "id": "IOPxfHUivxxT",
        "outputId": "f5beadc8-2916-49e0-c282-6cbb3ac6b7f8"
      },
      "source": [
        "X_train, y_train = get_train_batch(df3_class0, df3_class1, 0, 1495)\n",
        "\n",
        "y_pred1 = ANN(X_train, y_train, X_test, y_test, 'binary_crossentropy', -1)"
      ],
      "execution_count": 84,
      "outputs": [
        {
          "output_type": "stream",
          "text": [
            "Epoch 1/100\n",
            "94/94 [==============================] - 0s 831us/step - loss: 0.6504 - accuracy: 0.6211\n",
            "Epoch 2/100\n",
            "94/94 [==============================] - 0s 819us/step - loss: 0.5232 - accuracy: 0.7550\n",
            "Epoch 3/100\n",
            "94/94 [==============================] - 0s 835us/step - loss: 0.4948 - accuracy: 0.7725\n",
            "Epoch 4/100\n",
            "94/94 [==============================] - 0s 977us/step - loss: 0.4779 - accuracy: 0.7670\n",
            "Epoch 5/100\n",
            "94/94 [==============================] - 0s 867us/step - loss: 0.4715 - accuracy: 0.7819\n",
            "Epoch 6/100\n",
            "94/94 [==============================] - 0s 989us/step - loss: 0.4676 - accuracy: 0.7828\n",
            "Epoch 7/100\n",
            "94/94 [==============================] - 0s 890us/step - loss: 0.4923 - accuracy: 0.7667\n",
            "Epoch 8/100\n",
            "94/94 [==============================] - 0s 936us/step - loss: 0.4772 - accuracy: 0.7732\n",
            "Epoch 9/100\n",
            "94/94 [==============================] - 0s 879us/step - loss: 0.4762 - accuracy: 0.7676\n",
            "Epoch 10/100\n",
            "94/94 [==============================] - 0s 869us/step - loss: 0.4786 - accuracy: 0.7724\n",
            "Epoch 11/100\n",
            "94/94 [==============================] - 0s 884us/step - loss: 0.4558 - accuracy: 0.7756\n",
            "Epoch 12/100\n",
            "94/94 [==============================] - 0s 898us/step - loss: 0.4414 - accuracy: 0.8026\n",
            "Epoch 13/100\n",
            "94/94 [==============================] - 0s 910us/step - loss: 0.4725 - accuracy: 0.7718\n",
            "Epoch 14/100\n",
            "94/94 [==============================] - 0s 872us/step - loss: 0.4748 - accuracy: 0.7704\n",
            "Epoch 15/100\n",
            "94/94 [==============================] - 0s 929us/step - loss: 0.4611 - accuracy: 0.7760\n",
            "Epoch 16/100\n",
            "94/94 [==============================] - 0s 817us/step - loss: 0.4649 - accuracy: 0.7751\n",
            "Epoch 17/100\n",
            "94/94 [==============================] - 0s 908us/step - loss: 0.4470 - accuracy: 0.7898\n",
            "Epoch 18/100\n",
            "94/94 [==============================] - 0s 967us/step - loss: 0.4610 - accuracy: 0.7799\n",
            "Epoch 19/100\n",
            "94/94 [==============================] - 0s 886us/step - loss: 0.4670 - accuracy: 0.7730\n",
            "Epoch 20/100\n",
            "94/94 [==============================] - 0s 926us/step - loss: 0.4361 - accuracy: 0.7966\n",
            "Epoch 21/100\n",
            "94/94 [==============================] - 0s 888us/step - loss: 0.4576 - accuracy: 0.7833\n",
            "Epoch 22/100\n",
            "94/94 [==============================] - 0s 890us/step - loss: 0.4352 - accuracy: 0.8001\n",
            "Epoch 23/100\n",
            "94/94 [==============================] - 0s 952us/step - loss: 0.4483 - accuracy: 0.7928\n",
            "Epoch 24/100\n",
            "94/94 [==============================] - 0s 844us/step - loss: 0.4499 - accuracy: 0.7896\n",
            "Epoch 25/100\n",
            "94/94 [==============================] - 0s 854us/step - loss: 0.4475 - accuracy: 0.7901\n",
            "Epoch 26/100\n",
            "94/94 [==============================] - 0s 1ms/step - loss: 0.4418 - accuracy: 0.8018\n",
            "Epoch 27/100\n",
            "94/94 [==============================] - 0s 971us/step - loss: 0.4438 - accuracy: 0.7997\n",
            "Epoch 28/100\n",
            "94/94 [==============================] - 0s 1ms/step - loss: 0.4355 - accuracy: 0.7957\n",
            "Epoch 29/100\n",
            "94/94 [==============================] - 0s 873us/step - loss: 0.4449 - accuracy: 0.7936\n",
            "Epoch 30/100\n",
            "94/94 [==============================] - 0s 924us/step - loss: 0.4518 - accuracy: 0.7894\n",
            "Epoch 31/100\n",
            "94/94 [==============================] - 0s 877us/step - loss: 0.4452 - accuracy: 0.7945\n",
            "Epoch 32/100\n",
            "94/94 [==============================] - 0s 1ms/step - loss: 0.4240 - accuracy: 0.8103\n",
            "Epoch 33/100\n",
            "94/94 [==============================] - 0s 1ms/step - loss: 0.4446 - accuracy: 0.7926\n",
            "Epoch 34/100\n",
            "94/94 [==============================] - 0s 887us/step - loss: 0.4477 - accuracy: 0.7968\n",
            "Epoch 35/100\n",
            "94/94 [==============================] - 0s 885us/step - loss: 0.4386 - accuracy: 0.7926\n",
            "Epoch 36/100\n",
            "94/94 [==============================] - 0s 905us/step - loss: 0.4316 - accuracy: 0.8005\n",
            "Epoch 37/100\n",
            "94/94 [==============================] - 0s 870us/step - loss: 0.4508 - accuracy: 0.7844\n",
            "Epoch 38/100\n",
            "94/94 [==============================] - 0s 886us/step - loss: 0.4277 - accuracy: 0.7993\n",
            "Epoch 39/100\n",
            "94/94 [==============================] - 0s 958us/step - loss: 0.4337 - accuracy: 0.8015\n",
            "Epoch 40/100\n",
            "94/94 [==============================] - 0s 881us/step - loss: 0.4470 - accuracy: 0.7971\n",
            "Epoch 41/100\n",
            "94/94 [==============================] - 0s 858us/step - loss: 0.4238 - accuracy: 0.8048\n",
            "Epoch 42/100\n",
            "94/94 [==============================] - 0s 896us/step - loss: 0.4459 - accuracy: 0.7985\n",
            "Epoch 43/100\n",
            "94/94 [==============================] - 0s 958us/step - loss: 0.4119 - accuracy: 0.8132\n",
            "Epoch 44/100\n",
            "94/94 [==============================] - 0s 978us/step - loss: 0.4464 - accuracy: 0.7897\n",
            "Epoch 45/100\n",
            "94/94 [==============================] - 0s 1ms/step - loss: 0.4190 - accuracy: 0.8040\n",
            "Epoch 46/100\n",
            "94/94 [==============================] - 0s 1ms/step - loss: 0.4308 - accuracy: 0.8051\n",
            "Epoch 47/100\n",
            "94/94 [==============================] - 0s 1ms/step - loss: 0.4367 - accuracy: 0.7989\n",
            "Epoch 48/100\n",
            "94/94 [==============================] - 0s 973us/step - loss: 0.4279 - accuracy: 0.8031\n",
            "Epoch 49/100\n",
            "94/94 [==============================] - 0s 1ms/step - loss: 0.4440 - accuracy: 0.7896\n",
            "Epoch 50/100\n",
            "94/94 [==============================] - 0s 862us/step - loss: 0.4031 - accuracy: 0.8210\n",
            "Epoch 51/100\n",
            "94/94 [==============================] - 0s 919us/step - loss: 0.4195 - accuracy: 0.8085\n",
            "Epoch 52/100\n",
            "94/94 [==============================] - 0s 875us/step - loss: 0.4158 - accuracy: 0.7988\n",
            "Epoch 53/100\n",
            "94/94 [==============================] - 0s 982us/step - loss: 0.4365 - accuracy: 0.8111\n",
            "Epoch 54/100\n",
            "94/94 [==============================] - 0s 900us/step - loss: 0.4198 - accuracy: 0.8127\n",
            "Epoch 55/100\n",
            "94/94 [==============================] - 0s 860us/step - loss: 0.4079 - accuracy: 0.8134\n",
            "Epoch 56/100\n",
            "94/94 [==============================] - 0s 929us/step - loss: 0.4160 - accuracy: 0.8107\n",
            "Epoch 57/100\n",
            "94/94 [==============================] - 0s 970us/step - loss: 0.4123 - accuracy: 0.8118\n",
            "Epoch 58/100\n",
            "94/94 [==============================] - 0s 878us/step - loss: 0.4060 - accuracy: 0.8111\n",
            "Epoch 59/100\n",
            "94/94 [==============================] - 0s 967us/step - loss: 0.4185 - accuracy: 0.8086\n",
            "Epoch 60/100\n",
            "94/94 [==============================] - 0s 1ms/step - loss: 0.4113 - accuracy: 0.8092\n",
            "Epoch 61/100\n",
            "94/94 [==============================] - 0s 1ms/step - loss: 0.4182 - accuracy: 0.8157\n",
            "Epoch 62/100\n",
            "94/94 [==============================] - 0s 984us/step - loss: 0.4161 - accuracy: 0.8103\n",
            "Epoch 63/100\n",
            "94/94 [==============================] - 0s 832us/step - loss: 0.4147 - accuracy: 0.8097\n",
            "Epoch 64/100\n",
            "94/94 [==============================] - 0s 861us/step - loss: 0.4008 - accuracy: 0.8252\n",
            "Epoch 65/100\n",
            "94/94 [==============================] - 0s 970us/step - loss: 0.3967 - accuracy: 0.8314\n",
            "Epoch 66/100\n",
            "94/94 [==============================] - 0s 961us/step - loss: 0.4121 - accuracy: 0.8056\n",
            "Epoch 67/100\n",
            "94/94 [==============================] - 0s 889us/step - loss: 0.4250 - accuracy: 0.7985\n",
            "Epoch 68/100\n",
            "94/94 [==============================] - 0s 865us/step - loss: 0.4099 - accuracy: 0.8106\n",
            "Epoch 69/100\n",
            "94/94 [==============================] - 0s 844us/step - loss: 0.4084 - accuracy: 0.8093\n",
            "Epoch 70/100\n",
            "94/94 [==============================] - 0s 911us/step - loss: 0.3997 - accuracy: 0.8200\n",
            "Epoch 71/100\n",
            "94/94 [==============================] - 0s 956us/step - loss: 0.3952 - accuracy: 0.8296\n",
            "Epoch 72/100\n",
            "94/94 [==============================] - 0s 921us/step - loss: 0.3944 - accuracy: 0.8203\n",
            "Epoch 73/100\n",
            "94/94 [==============================] - 0s 900us/step - loss: 0.4043 - accuracy: 0.8183\n",
            "Epoch 74/100\n",
            "94/94 [==============================] - 0s 932us/step - loss: 0.4110 - accuracy: 0.8151\n",
            "Epoch 75/100\n",
            "94/94 [==============================] - 0s 955us/step - loss: 0.3947 - accuracy: 0.8235\n",
            "Epoch 76/100\n",
            "94/94 [==============================] - 0s 868us/step - loss: 0.4194 - accuracy: 0.8057\n",
            "Epoch 77/100\n",
            "94/94 [==============================] - 0s 910us/step - loss: 0.3927 - accuracy: 0.8172\n",
            "Epoch 78/100\n",
            "94/94 [==============================] - 0s 871us/step - loss: 0.4010 - accuracy: 0.8162\n",
            "Epoch 79/100\n",
            "94/94 [==============================] - 0s 993us/step - loss: 0.4104 - accuracy: 0.8058\n",
            "Epoch 80/100\n",
            "94/94 [==============================] - 0s 891us/step - loss: 0.3999 - accuracy: 0.8299\n",
            "Epoch 81/100\n",
            "94/94 [==============================] - 0s 920us/step - loss: 0.4010 - accuracy: 0.8219\n",
            "Epoch 82/100\n",
            "94/94 [==============================] - 0s 908us/step - loss: 0.3910 - accuracy: 0.8229\n",
            "Epoch 83/100\n",
            "94/94 [==============================] - 0s 893us/step - loss: 0.3929 - accuracy: 0.8163\n",
            "Epoch 84/100\n",
            "94/94 [==============================] - 0s 880us/step - loss: 0.3969 - accuracy: 0.8169\n",
            "Epoch 85/100\n",
            "94/94 [==============================] - 0s 857us/step - loss: 0.3958 - accuracy: 0.8203\n",
            "Epoch 86/100\n",
            "94/94 [==============================] - 0s 855us/step - loss: 0.4008 - accuracy: 0.8149\n",
            "Epoch 87/100\n",
            "94/94 [==============================] - 0s 887us/step - loss: 0.3756 - accuracy: 0.8380\n",
            "Epoch 88/100\n",
            "94/94 [==============================] - 0s 900us/step - loss: 0.3979 - accuracy: 0.8150\n",
            "Epoch 89/100\n",
            "94/94 [==============================] - 0s 879us/step - loss: 0.3763 - accuracy: 0.8282\n",
            "Epoch 90/100\n",
            "94/94 [==============================] - 0s 956us/step - loss: 0.3923 - accuracy: 0.8153\n",
            "Epoch 91/100\n",
            "94/94 [==============================] - 0s 844us/step - loss: 0.3834 - accuracy: 0.8321\n",
            "Epoch 92/100\n",
            "94/94 [==============================] - 0s 977us/step - loss: 0.3870 - accuracy: 0.8222\n",
            "Epoch 93/100\n",
            "94/94 [==============================] - 0s 957us/step - loss: 0.3933 - accuracy: 0.8213\n",
            "Epoch 94/100\n",
            "94/94 [==============================] - 0s 992us/step - loss: 0.3737 - accuracy: 0.8275\n",
            "Epoch 95/100\n",
            "94/94 [==============================] - 0s 856us/step - loss: 0.3979 - accuracy: 0.8174\n",
            "Epoch 96/100\n",
            "94/94 [==============================] - 0s 871us/step - loss: 0.3871 - accuracy: 0.8249\n",
            "Epoch 97/100\n",
            "94/94 [==============================] - 0s 960us/step - loss: 0.3726 - accuracy: 0.8286\n",
            "Epoch 98/100\n",
            "94/94 [==============================] - 0s 872us/step - loss: 0.3899 - accuracy: 0.8279\n",
            "Epoch 99/100\n",
            "94/94 [==============================] - 0s 921us/step - loss: 0.3922 - accuracy: 0.8174\n",
            "Epoch 100/100\n",
            "94/94 [==============================] - 0s 1ms/step - loss: 0.3834 - accuracy: 0.8264\n",
            "44/44 [==============================] - 0s 714us/step - loss: 0.6423 - accuracy: 0.6944\n",
            "[0.6423047184944153, 0.6943852305412292]\n",
            "Classification Report: \n",
            "               precision    recall  f1-score   support\n",
            "\n",
            "           0       0.90      0.65      0.76      1033\n",
            "           1       0.46      0.81      0.58       374\n",
            "\n",
            "    accuracy                           0.69      1407\n",
            "   macro avg       0.68      0.73      0.67      1407\n",
            "weighted avg       0.79      0.69      0.71      1407\n",
            "\n"
          ],
          "name": "stdout"
        }
      ]
    },
    {
      "cell_type": "code",
      "metadata": {
        "colab": {
          "base_uri": "https://localhost:8080/"
        },
        "id": "lHVVSJOgv0Pb",
        "outputId": "85e2cdd0-f15b-4e46-bfdc-685b256bdb05"
      },
      "source": [
        "X_train, y_train = get_train_batch(df3_class0, df3_class1, 1495, 2990)\n",
        "\n",
        "y_pred2 = ANN(X_train, y_train, X_test, y_test, 'binary_crossentropy', -1)"
      ],
      "execution_count": 85,
      "outputs": [
        {
          "output_type": "stream",
          "text": [
            "Epoch 1/100\n",
            "94/94 [==============================] - 0s 837us/step - loss: 0.6816 - accuracy: 0.5767\n",
            "Epoch 2/100\n",
            "94/94 [==============================] - 0s 857us/step - loss: 0.5298 - accuracy: 0.7466\n",
            "Epoch 3/100\n",
            "94/94 [==============================] - 0s 873us/step - loss: 0.4928 - accuracy: 0.7584\n",
            "Epoch 4/100\n",
            "94/94 [==============================] - 0s 922us/step - loss: 0.4809 - accuracy: 0.7765\n",
            "Epoch 5/100\n",
            "94/94 [==============================] - 0s 935us/step - loss: 0.4894 - accuracy: 0.7655\n",
            "Epoch 6/100\n",
            "94/94 [==============================] - 0s 893us/step - loss: 0.4657 - accuracy: 0.7782\n",
            "Epoch 7/100\n",
            "94/94 [==============================] - 0s 881us/step - loss: 0.4747 - accuracy: 0.7788\n",
            "Epoch 8/100\n",
            "94/94 [==============================] - 0s 960us/step - loss: 0.4904 - accuracy: 0.7578\n",
            "Epoch 9/100\n",
            "94/94 [==============================] - 0s 930us/step - loss: 0.4855 - accuracy: 0.7572\n",
            "Epoch 10/100\n",
            "94/94 [==============================] - 0s 899us/step - loss: 0.4906 - accuracy: 0.7689\n",
            "Epoch 11/100\n",
            "94/94 [==============================] - 0s 925us/step - loss: 0.4687 - accuracy: 0.7654\n",
            "Epoch 12/100\n",
            "94/94 [==============================] - 0s 951us/step - loss: 0.4677 - accuracy: 0.7714\n",
            "Epoch 13/100\n",
            "94/94 [==============================] - 0s 911us/step - loss: 0.4648 - accuracy: 0.7657\n",
            "Epoch 14/100\n",
            "94/94 [==============================] - 0s 896us/step - loss: 0.4694 - accuracy: 0.7707\n",
            "Epoch 15/100\n",
            "94/94 [==============================] - 0s 883us/step - loss: 0.4733 - accuracy: 0.7701\n",
            "Epoch 16/100\n",
            "94/94 [==============================] - 0s 838us/step - loss: 0.4879 - accuracy: 0.7588\n",
            "Epoch 17/100\n",
            "94/94 [==============================] - 0s 830us/step - loss: 0.4645 - accuracy: 0.7743\n",
            "Epoch 18/100\n",
            "94/94 [==============================] - 0s 906us/step - loss: 0.4724 - accuracy: 0.7648\n",
            "Epoch 19/100\n",
            "94/94 [==============================] - 0s 857us/step - loss: 0.4652 - accuracy: 0.7771\n",
            "Epoch 20/100\n",
            "94/94 [==============================] - 0s 876us/step - loss: 0.4652 - accuracy: 0.7684\n",
            "Epoch 21/100\n",
            "94/94 [==============================] - 0s 919us/step - loss: 0.4635 - accuracy: 0.7754\n",
            "Epoch 22/100\n",
            "94/94 [==============================] - 0s 967us/step - loss: 0.4611 - accuracy: 0.7821\n",
            "Epoch 23/100\n",
            "94/94 [==============================] - 0s 951us/step - loss: 0.4624 - accuracy: 0.7845\n",
            "Epoch 24/100\n",
            "94/94 [==============================] - 0s 919us/step - loss: 0.4583 - accuracy: 0.7688\n",
            "Epoch 25/100\n",
            "94/94 [==============================] - 0s 993us/step - loss: 0.4586 - accuracy: 0.7881\n",
            "Epoch 26/100\n",
            "94/94 [==============================] - 0s 868us/step - loss: 0.4679 - accuracy: 0.7686\n",
            "Epoch 27/100\n",
            "94/94 [==============================] - 0s 903us/step - loss: 0.4488 - accuracy: 0.7810\n",
            "Epoch 28/100\n",
            "94/94 [==============================] - 0s 946us/step - loss: 0.4449 - accuracy: 0.7766\n",
            "Epoch 29/100\n",
            "94/94 [==============================] - 0s 915us/step - loss: 0.4538 - accuracy: 0.7769\n",
            "Epoch 30/100\n",
            "94/94 [==============================] - 0s 916us/step - loss: 0.4551 - accuracy: 0.7850\n",
            "Epoch 31/100\n",
            "94/94 [==============================] - 0s 918us/step - loss: 0.4369 - accuracy: 0.7884\n",
            "Epoch 32/100\n",
            "94/94 [==============================] - 0s 1ms/step - loss: 0.4402 - accuracy: 0.7872\n",
            "Epoch 33/100\n",
            "94/94 [==============================] - 0s 1ms/step - loss: 0.4458 - accuracy: 0.7810\n",
            "Epoch 34/100\n",
            "94/94 [==============================] - 0s 851us/step - loss: 0.4308 - accuracy: 0.7896\n",
            "Epoch 35/100\n",
            "94/94 [==============================] - 0s 873us/step - loss: 0.4386 - accuracy: 0.7901\n",
            "Epoch 36/100\n",
            "94/94 [==============================] - 0s 932us/step - loss: 0.4309 - accuracy: 0.7994\n",
            "Epoch 37/100\n",
            "94/94 [==============================] - 0s 980us/step - loss: 0.4331 - accuracy: 0.7998\n",
            "Epoch 38/100\n",
            "94/94 [==============================] - 0s 950us/step - loss: 0.4391 - accuracy: 0.7931\n",
            "Epoch 39/100\n",
            "94/94 [==============================] - 0s 912us/step - loss: 0.4412 - accuracy: 0.7893\n",
            "Epoch 40/100\n",
            "94/94 [==============================] - 0s 855us/step - loss: 0.4297 - accuracy: 0.8008\n",
            "Epoch 41/100\n",
            "94/94 [==============================] - 0s 903us/step - loss: 0.4350 - accuracy: 0.8002\n",
            "Epoch 42/100\n",
            "94/94 [==============================] - 0s 1ms/step - loss: 0.4280 - accuracy: 0.7912\n",
            "Epoch 43/100\n",
            "94/94 [==============================] - 0s 893us/step - loss: 0.4213 - accuracy: 0.8046\n",
            "Epoch 44/100\n",
            "94/94 [==============================] - 0s 911us/step - loss: 0.4426 - accuracy: 0.7875\n",
            "Epoch 45/100\n",
            "94/94 [==============================] - 0s 891us/step - loss: 0.4305 - accuracy: 0.7931\n",
            "Epoch 46/100\n",
            "94/94 [==============================] - 0s 877us/step - loss: 0.4370 - accuracy: 0.8002\n",
            "Epoch 47/100\n",
            "94/94 [==============================] - 0s 911us/step - loss: 0.4253 - accuracy: 0.7993\n",
            "Epoch 48/100\n",
            "94/94 [==============================] - 0s 912us/step - loss: 0.4232 - accuracy: 0.8018\n",
            "Epoch 49/100\n",
            "94/94 [==============================] - 0s 911us/step - loss: 0.4185 - accuracy: 0.8104\n",
            "Epoch 50/100\n",
            "94/94 [==============================] - 0s 878us/step - loss: 0.4287 - accuracy: 0.8067\n",
            "Epoch 51/100\n",
            "94/94 [==============================] - 0s 893us/step - loss: 0.4226 - accuracy: 0.8003\n",
            "Epoch 52/100\n",
            "94/94 [==============================] - 0s 954us/step - loss: 0.4276 - accuracy: 0.7940\n",
            "Epoch 53/100\n",
            "94/94 [==============================] - 0s 878us/step - loss: 0.4372 - accuracy: 0.7951\n",
            "Epoch 54/100\n",
            "94/94 [==============================] - 0s 884us/step - loss: 0.4320 - accuracy: 0.8008\n",
            "Epoch 55/100\n",
            "94/94 [==============================] - 0s 1ms/step - loss: 0.4199 - accuracy: 0.8011\n",
            "Epoch 56/100\n",
            "94/94 [==============================] - 0s 933us/step - loss: 0.4246 - accuracy: 0.7983\n",
            "Epoch 57/100\n",
            "94/94 [==============================] - 0s 927us/step - loss: 0.4314 - accuracy: 0.7942\n",
            "Epoch 58/100\n",
            "94/94 [==============================] - 0s 936us/step - loss: 0.4259 - accuracy: 0.8014\n",
            "Epoch 59/100\n",
            "94/94 [==============================] - 0s 949us/step - loss: 0.4301 - accuracy: 0.7967\n",
            "Epoch 60/100\n",
            "94/94 [==============================] - 0s 894us/step - loss: 0.4421 - accuracy: 0.7906\n",
            "Epoch 61/100\n",
            "94/94 [==============================] - 0s 922us/step - loss: 0.4179 - accuracy: 0.8053\n",
            "Epoch 62/100\n",
            "94/94 [==============================] - 0s 901us/step - loss: 0.4241 - accuracy: 0.7996\n",
            "Epoch 63/100\n",
            "94/94 [==============================] - 0s 876us/step - loss: 0.4108 - accuracy: 0.8132\n",
            "Epoch 64/100\n",
            "94/94 [==============================] - 0s 901us/step - loss: 0.4087 - accuracy: 0.8129\n",
            "Epoch 65/100\n",
            "94/94 [==============================] - 0s 1ms/step - loss: 0.4088 - accuracy: 0.8056\n",
            "Epoch 66/100\n",
            "94/94 [==============================] - 0s 943us/step - loss: 0.4319 - accuracy: 0.7929\n",
            "Epoch 67/100\n",
            "94/94 [==============================] - 0s 862us/step - loss: 0.4105 - accuracy: 0.8040\n",
            "Epoch 68/100\n",
            "94/94 [==============================] - 0s 981us/step - loss: 0.4052 - accuracy: 0.7991\n",
            "Epoch 69/100\n",
            "94/94 [==============================] - 0s 1ms/step - loss: 0.4100 - accuracy: 0.8031\n",
            "Epoch 70/100\n",
            "94/94 [==============================] - 0s 1ms/step - loss: 0.4121 - accuracy: 0.8127\n",
            "Epoch 71/100\n",
            "94/94 [==============================] - 0s 943us/step - loss: 0.4189 - accuracy: 0.8086\n",
            "Epoch 72/100\n",
            "94/94 [==============================] - 0s 882us/step - loss: 0.4009 - accuracy: 0.8061\n",
            "Epoch 73/100\n",
            "94/94 [==============================] - 0s 965us/step - loss: 0.4125 - accuracy: 0.8051\n",
            "Epoch 74/100\n",
            "94/94 [==============================] - 0s 905us/step - loss: 0.4071 - accuracy: 0.8137\n",
            "Epoch 75/100\n",
            "94/94 [==============================] - 0s 892us/step - loss: 0.3884 - accuracy: 0.8217\n",
            "Epoch 76/100\n",
            "94/94 [==============================] - 0s 1ms/step - loss: 0.3974 - accuracy: 0.8212\n",
            "Epoch 77/100\n",
            "94/94 [==============================] - 0s 931us/step - loss: 0.3878 - accuracy: 0.8225\n",
            "Epoch 78/100\n",
            "94/94 [==============================] - 0s 943us/step - loss: 0.4118 - accuracy: 0.8092\n",
            "Epoch 79/100\n",
            "94/94 [==============================] - 0s 871us/step - loss: 0.4181 - accuracy: 0.8051\n",
            "Epoch 80/100\n",
            "94/94 [==============================] - 0s 905us/step - loss: 0.4096 - accuracy: 0.8090\n",
            "Epoch 81/100\n",
            "94/94 [==============================] - 0s 932us/step - loss: 0.4065 - accuracy: 0.8056\n",
            "Epoch 82/100\n",
            "94/94 [==============================] - 0s 888us/step - loss: 0.3999 - accuracy: 0.8116\n",
            "Epoch 83/100\n",
            "94/94 [==============================] - 0s 872us/step - loss: 0.3865 - accuracy: 0.8283\n",
            "Epoch 84/100\n",
            "94/94 [==============================] - 0s 932us/step - loss: 0.3977 - accuracy: 0.8120\n",
            "Epoch 85/100\n",
            "94/94 [==============================] - 0s 987us/step - loss: 0.4000 - accuracy: 0.8115\n",
            "Epoch 86/100\n",
            "94/94 [==============================] - 0s 958us/step - loss: 0.3989 - accuracy: 0.8196\n",
            "Epoch 87/100\n",
            "94/94 [==============================] - 0s 1ms/step - loss: 0.4125 - accuracy: 0.8076\n",
            "Epoch 88/100\n",
            "94/94 [==============================] - 0s 932us/step - loss: 0.3797 - accuracy: 0.8236\n",
            "Epoch 89/100\n",
            "94/94 [==============================] - 0s 909us/step - loss: 0.3824 - accuracy: 0.8235\n",
            "Epoch 90/100\n",
            "94/94 [==============================] - 0s 950us/step - loss: 0.3950 - accuracy: 0.8165\n",
            "Epoch 91/100\n",
            "94/94 [==============================] - 0s 899us/step - loss: 0.4075 - accuracy: 0.8180\n",
            "Epoch 92/100\n",
            "94/94 [==============================] - 0s 878us/step - loss: 0.3939 - accuracy: 0.8194\n",
            "Epoch 93/100\n",
            "94/94 [==============================] - 0s 1ms/step - loss: 0.3960 - accuracy: 0.8079\n",
            "Epoch 94/100\n",
            "94/94 [==============================] - 0s 1ms/step - loss: 0.3878 - accuracy: 0.8257\n",
            "Epoch 95/100\n",
            "94/94 [==============================] - 0s 1ms/step - loss: 0.3917 - accuracy: 0.8192\n",
            "Epoch 96/100\n",
            "94/94 [==============================] - 0s 907us/step - loss: 0.3783 - accuracy: 0.8232\n",
            "Epoch 97/100\n",
            "94/94 [==============================] - 0s 989us/step - loss: 0.3800 - accuracy: 0.8285\n",
            "Epoch 98/100\n",
            "94/94 [==============================] - 0s 971us/step - loss: 0.3874 - accuracy: 0.8229\n",
            "Epoch 99/100\n",
            "94/94 [==============================] - 0s 971us/step - loss: 0.3693 - accuracy: 0.8347\n",
            "Epoch 100/100\n",
            "94/94 [==============================] - 0s 959us/step - loss: 0.3799 - accuracy: 0.8274\n",
            "44/44 [==============================] - 0s 667us/step - loss: 0.5751 - accuracy: 0.7221\n",
            "[0.5750758051872253, 0.7221037745475769]\n",
            "Classification Report: \n",
            "               precision    recall  f1-score   support\n",
            "\n",
            "           0       0.89      0.71      0.79      1033\n",
            "           1       0.49      0.76      0.59       374\n",
            "\n",
            "    accuracy                           0.72      1407\n",
            "   macro avg       0.69      0.73      0.69      1407\n",
            "weighted avg       0.78      0.72      0.74      1407\n",
            "\n"
          ],
          "name": "stdout"
        }
      ]
    },
    {
      "cell_type": "code",
      "metadata": {
        "colab": {
          "base_uri": "https://localhost:8080/"
        },
        "id": "x71PVH4Fv9az",
        "outputId": "d81cc891-d344-4032-f868-41ddc0dbe43a"
      },
      "source": [
        "X_train, y_train = get_train_batch(df3_class0, df3_class1, 2990, 4130)\n",
        "\n",
        "y_pred3 = ANN(X_train, y_train, X_test, y_test, 'binary_crossentropy', -1)"
      ],
      "execution_count": 86,
      "outputs": [
        {
          "output_type": "stream",
          "text": [
            "Epoch 1/100\n",
            "83/83 [==============================] - 0s 917us/step - loss: 0.6632 - accuracy: 0.6256\n",
            "Epoch 2/100\n",
            "83/83 [==============================] - 0s 873us/step - loss: 0.5501 - accuracy: 0.7484\n",
            "Epoch 3/100\n",
            "83/83 [==============================] - 0s 832us/step - loss: 0.4851 - accuracy: 0.7857\n",
            "Epoch 4/100\n",
            "83/83 [==============================] - 0s 837us/step - loss: 0.4648 - accuracy: 0.7857\n",
            "Epoch 5/100\n",
            "83/83 [==============================] - 0s 944us/step - loss: 0.4820 - accuracy: 0.7641\n",
            "Epoch 6/100\n",
            "83/83 [==============================] - 0s 841us/step - loss: 0.4719 - accuracy: 0.7843\n",
            "Epoch 7/100\n",
            "83/83 [==============================] - 0s 891us/step - loss: 0.4839 - accuracy: 0.7656\n",
            "Epoch 8/100\n",
            "83/83 [==============================] - 0s 909us/step - loss: 0.4694 - accuracy: 0.7769\n",
            "Epoch 9/100\n",
            "83/83 [==============================] - 0s 850us/step - loss: 0.4595 - accuracy: 0.7874\n",
            "Epoch 10/100\n",
            "83/83 [==============================] - 0s 825us/step - loss: 0.4512 - accuracy: 0.7893\n",
            "Epoch 11/100\n",
            "83/83 [==============================] - 0s 871us/step - loss: 0.4439 - accuracy: 0.7881\n",
            "Epoch 12/100\n",
            "83/83 [==============================] - 0s 887us/step - loss: 0.4633 - accuracy: 0.7919\n",
            "Epoch 13/100\n",
            "83/83 [==============================] - 0s 931us/step - loss: 0.4475 - accuracy: 0.7950\n",
            "Epoch 14/100\n",
            "83/83 [==============================] - 0s 841us/step - loss: 0.4450 - accuracy: 0.7901\n",
            "Epoch 15/100\n",
            "83/83 [==============================] - 0s 868us/step - loss: 0.4495 - accuracy: 0.7931\n",
            "Epoch 16/100\n",
            "83/83 [==============================] - 0s 847us/step - loss: 0.4489 - accuracy: 0.7954\n",
            "Epoch 17/100\n",
            "83/83 [==============================] - 0s 855us/step - loss: 0.4608 - accuracy: 0.7785\n",
            "Epoch 18/100\n",
            "83/83 [==============================] - 0s 931us/step - loss: 0.4578 - accuracy: 0.7834\n",
            "Epoch 19/100\n",
            "83/83 [==============================] - 0s 1ms/step - loss: 0.4626 - accuracy: 0.7851\n",
            "Epoch 20/100\n",
            "83/83 [==============================] - 0s 968us/step - loss: 0.4626 - accuracy: 0.7795\n",
            "Epoch 21/100\n",
            "83/83 [==============================] - 0s 910us/step - loss: 0.4500 - accuracy: 0.7864\n",
            "Epoch 22/100\n",
            "83/83 [==============================] - 0s 976us/step - loss: 0.4385 - accuracy: 0.7994\n",
            "Epoch 23/100\n",
            "83/83 [==============================] - 0s 997us/step - loss: 0.4342 - accuracy: 0.7947\n",
            "Epoch 24/100\n",
            "83/83 [==============================] - 0s 1ms/step - loss: 0.4412 - accuracy: 0.8035\n",
            "Epoch 25/100\n",
            "83/83 [==============================] - 0s 935us/step - loss: 0.4427 - accuracy: 0.7963\n",
            "Epoch 26/100\n",
            "83/83 [==============================] - 0s 929us/step - loss: 0.4521 - accuracy: 0.8013\n",
            "Epoch 27/100\n",
            "83/83 [==============================] - 0s 898us/step - loss: 0.4384 - accuracy: 0.8014\n",
            "Epoch 28/100\n",
            "83/83 [==============================] - 0s 945us/step - loss: 0.4313 - accuracy: 0.8068\n",
            "Epoch 29/100\n",
            "83/83 [==============================] - 0s 940us/step - loss: 0.4363 - accuracy: 0.7990\n",
            "Epoch 30/100\n",
            "83/83 [==============================] - 0s 855us/step - loss: 0.4152 - accuracy: 0.8140\n",
            "Epoch 31/100\n",
            "83/83 [==============================] - 0s 864us/step - loss: 0.4196 - accuracy: 0.8123\n",
            "Epoch 32/100\n",
            "83/83 [==============================] - 0s 945us/step - loss: 0.4325 - accuracy: 0.7986\n",
            "Epoch 33/100\n",
            "83/83 [==============================] - 0s 942us/step - loss: 0.4386 - accuracy: 0.7970\n",
            "Epoch 34/100\n",
            "83/83 [==============================] - 0s 988us/step - loss: 0.4272 - accuracy: 0.8027\n",
            "Epoch 35/100\n",
            "83/83 [==============================] - 0s 924us/step - loss: 0.4154 - accuracy: 0.8102\n",
            "Epoch 36/100\n",
            "83/83 [==============================] - 0s 936us/step - loss: 0.4386 - accuracy: 0.7974\n",
            "Epoch 37/100\n",
            "83/83 [==============================] - 0s 968us/step - loss: 0.4259 - accuracy: 0.7984\n",
            "Epoch 38/100\n",
            "83/83 [==============================] - 0s 982us/step - loss: 0.4299 - accuracy: 0.7985\n",
            "Epoch 39/100\n",
            "83/83 [==============================] - 0s 854us/step - loss: 0.4512 - accuracy: 0.7752\n",
            "Epoch 40/100\n",
            "83/83 [==============================] - 0s 859us/step - loss: 0.4153 - accuracy: 0.8100\n",
            "Epoch 41/100\n",
            "83/83 [==============================] - 0s 858us/step - loss: 0.4378 - accuracy: 0.7947\n",
            "Epoch 42/100\n",
            "83/83 [==============================] - 0s 905us/step - loss: 0.4223 - accuracy: 0.8041\n",
            "Epoch 43/100\n",
            "83/83 [==============================] - 0s 932us/step - loss: 0.4311 - accuracy: 0.7998\n",
            "Epoch 44/100\n",
            "83/83 [==============================] - 0s 966us/step - loss: 0.4242 - accuracy: 0.8044\n",
            "Epoch 45/100\n",
            "83/83 [==============================] - 0s 873us/step - loss: 0.4172 - accuracy: 0.8011\n",
            "Epoch 46/100\n",
            "83/83 [==============================] - 0s 965us/step - loss: 0.4339 - accuracy: 0.7953\n",
            "Epoch 47/100\n",
            "83/83 [==============================] - 0s 932us/step - loss: 0.3952 - accuracy: 0.8264\n",
            "Epoch 48/100\n",
            "83/83 [==============================] - 0s 991us/step - loss: 0.4088 - accuracy: 0.8090\n",
            "Epoch 49/100\n",
            "83/83 [==============================] - 0s 948us/step - loss: 0.4181 - accuracy: 0.8062\n",
            "Epoch 50/100\n",
            "83/83 [==============================] - 0s 979us/step - loss: 0.4008 - accuracy: 0.8172\n",
            "Epoch 51/100\n",
            "83/83 [==============================] - 0s 1ms/step - loss: 0.4195 - accuracy: 0.8034\n",
            "Epoch 52/100\n",
            "83/83 [==============================] - 0s 937us/step - loss: 0.4029 - accuracy: 0.8105\n",
            "Epoch 53/100\n",
            "83/83 [==============================] - 0s 923us/step - loss: 0.4166 - accuracy: 0.7990\n",
            "Epoch 54/100\n",
            "83/83 [==============================] - 0s 951us/step - loss: 0.3961 - accuracy: 0.8237\n",
            "Epoch 55/100\n",
            "83/83 [==============================] - 0s 942us/step - loss: 0.4213 - accuracy: 0.8008\n",
            "Epoch 56/100\n",
            "83/83 [==============================] - 0s 1ms/step - loss: 0.4191 - accuracy: 0.7903\n",
            "Epoch 57/100\n",
            "83/83 [==============================] - 0s 1ms/step - loss: 0.3890 - accuracy: 0.8255\n",
            "Epoch 58/100\n",
            "83/83 [==============================] - 0s 957us/step - loss: 0.4171 - accuracy: 0.8018\n",
            "Epoch 59/100\n",
            "83/83 [==============================] - 0s 876us/step - loss: 0.3972 - accuracy: 0.8145\n",
            "Epoch 60/100\n",
            "83/83 [==============================] - 0s 976us/step - loss: 0.4106 - accuracy: 0.8095\n",
            "Epoch 61/100\n",
            "83/83 [==============================] - 0s 886us/step - loss: 0.4158 - accuracy: 0.8032\n",
            "Epoch 62/100\n",
            "83/83 [==============================] - 0s 876us/step - loss: 0.3884 - accuracy: 0.8277\n",
            "Epoch 63/100\n",
            "83/83 [==============================] - 0s 876us/step - loss: 0.4011 - accuracy: 0.8201\n",
            "Epoch 64/100\n",
            "83/83 [==============================] - 0s 898us/step - loss: 0.4213 - accuracy: 0.8047\n",
            "Epoch 65/100\n",
            "83/83 [==============================] - 0s 985us/step - loss: 0.3944 - accuracy: 0.8173\n",
            "Epoch 66/100\n",
            "83/83 [==============================] - 0s 1ms/step - loss: 0.4126 - accuracy: 0.8152\n",
            "Epoch 67/100\n",
            "83/83 [==============================] - 0s 938us/step - loss: 0.4065 - accuracy: 0.8078\n",
            "Epoch 68/100\n",
            "83/83 [==============================] - 0s 947us/step - loss: 0.3914 - accuracy: 0.8139\n",
            "Epoch 69/100\n",
            "83/83 [==============================] - 0s 905us/step - loss: 0.4165 - accuracy: 0.8034\n",
            "Epoch 70/100\n",
            "83/83 [==============================] - 0s 981us/step - loss: 0.3887 - accuracy: 0.8207\n",
            "Epoch 71/100\n",
            "83/83 [==============================] - 0s 1ms/step - loss: 0.3926 - accuracy: 0.8198\n",
            "Epoch 72/100\n",
            "83/83 [==============================] - 0s 921us/step - loss: 0.3835 - accuracy: 0.8171\n",
            "Epoch 73/100\n",
            "83/83 [==============================] - 0s 892us/step - loss: 0.3885 - accuracy: 0.8205\n",
            "Epoch 74/100\n",
            "83/83 [==============================] - 0s 901us/step - loss: 0.3917 - accuracy: 0.8168\n",
            "Epoch 75/100\n",
            "83/83 [==============================] - 0s 941us/step - loss: 0.3934 - accuracy: 0.8190\n",
            "Epoch 76/100\n",
            "83/83 [==============================] - 0s 1ms/step - loss: 0.3918 - accuracy: 0.8146\n",
            "Epoch 77/100\n",
            "83/83 [==============================] - 0s 980us/step - loss: 0.3948 - accuracy: 0.8227\n",
            "Epoch 78/100\n",
            "83/83 [==============================] - 0s 921us/step - loss: 0.3981 - accuracy: 0.8127\n",
            "Epoch 79/100\n",
            "83/83 [==============================] - 0s 949us/step - loss: 0.3704 - accuracy: 0.8411\n",
            "Epoch 80/100\n",
            "83/83 [==============================] - 0s 905us/step - loss: 0.3889 - accuracy: 0.8364\n",
            "Epoch 81/100\n",
            "83/83 [==============================] - 0s 988us/step - loss: 0.4007 - accuracy: 0.8105\n",
            "Epoch 82/100\n",
            "83/83 [==============================] - 0s 985us/step - loss: 0.3793 - accuracy: 0.8249\n",
            "Epoch 83/100\n",
            "83/83 [==============================] - 0s 1ms/step - loss: 0.3934 - accuracy: 0.8174\n",
            "Epoch 84/100\n",
            "83/83 [==============================] - 0s 1ms/step - loss: 0.3746 - accuracy: 0.8358\n",
            "Epoch 85/100\n",
            "83/83 [==============================] - 0s 1ms/step - loss: 0.3817 - accuracy: 0.8193\n",
            "Epoch 86/100\n",
            "83/83 [==============================] - 0s 1ms/step - loss: 0.3838 - accuracy: 0.8280\n",
            "Epoch 87/100\n",
            "83/83 [==============================] - 0s 1ms/step - loss: 0.3775 - accuracy: 0.8344\n",
            "Epoch 88/100\n",
            "83/83 [==============================] - 0s 972us/step - loss: 0.3960 - accuracy: 0.8142\n",
            "Epoch 89/100\n",
            "83/83 [==============================] - 0s 934us/step - loss: 0.3743 - accuracy: 0.8335\n",
            "Epoch 90/100\n",
            "83/83 [==============================] - 0s 982us/step - loss: 0.3841 - accuracy: 0.8245\n",
            "Epoch 91/100\n",
            "83/83 [==============================] - 0s 903us/step - loss: 0.3776 - accuracy: 0.8409\n",
            "Epoch 92/100\n",
            "83/83 [==============================] - 0s 947us/step - loss: 0.3682 - accuracy: 0.8350\n",
            "Epoch 93/100\n",
            "83/83 [==============================] - 0s 974us/step - loss: 0.3991 - accuracy: 0.8175\n",
            "Epoch 94/100\n",
            "83/83 [==============================] - 0s 1ms/step - loss: 0.3801 - accuracy: 0.8261\n",
            "Epoch 95/100\n",
            "83/83 [==============================] - 0s 966us/step - loss: 0.3771 - accuracy: 0.8295\n",
            "Epoch 96/100\n",
            "83/83 [==============================] - 0s 1ms/step - loss: 0.3498 - accuracy: 0.8404\n",
            "Epoch 97/100\n",
            "83/83 [==============================] - 0s 1ms/step - loss: 0.3640 - accuracy: 0.8340\n",
            "Epoch 98/100\n",
            "83/83 [==============================] - 0s 917us/step - loss: 0.3831 - accuracy: 0.8272\n",
            "Epoch 99/100\n",
            "83/83 [==============================] - 0s 943us/step - loss: 0.3771 - accuracy: 0.8364\n",
            "Epoch 100/100\n",
            "83/83 [==============================] - 0s 911us/step - loss: 0.3676 - accuracy: 0.8380\n",
            "44/44 [==============================] - 0s 909us/step - loss: 0.5942 - accuracy: 0.7079\n",
            "[0.5941790342330933, 0.7078891396522522]\n",
            "Classification Report: \n",
            "               precision    recall  f1-score   support\n",
            "\n",
            "           0       0.89      0.68      0.77      1033\n",
            "           1       0.47      0.78      0.59       374\n",
            "\n",
            "    accuracy                           0.71      1407\n",
            "   macro avg       0.68      0.73      0.68      1407\n",
            "weighted avg       0.78      0.71      0.72      1407\n",
            "\n"
          ],
          "name": "stdout"
        }
      ]
    },
    {
      "cell_type": "code",
      "metadata": {
        "colab": {
          "base_uri": "https://localhost:8080/"
        },
        "id": "0T3wnBZHwCmj",
        "outputId": "ee466616-791c-4dc0-e083-ddf421afa1cb"
      },
      "source": [
        "len(y_pred1)"
      ],
      "execution_count": 87,
      "outputs": [
        {
          "output_type": "execute_result",
          "data": {
            "text/plain": [
              "1407"
            ]
          },
          "metadata": {
            "tags": []
          },
          "execution_count": 87
        }
      ]
    },
    {
      "cell_type": "code",
      "metadata": {
        "id": "EJJS--YjwHLc"
      },
      "source": [
        "y_pred_final = y_pred1.copy()\n",
        "for i in range(len(y_pred1)):\n",
        "    n_ones = y_pred1[i] + y_pred2[i] + y_pred3[i]\n",
        "    if n_ones>1:\n",
        "        y_pred_final[i] = 1\n",
        "    else:\n",
        "        y_pred_final[i] = 0"
      ],
      "execution_count": 88,
      "outputs": []
    },
    {
      "cell_type": "code",
      "metadata": {
        "colab": {
          "base_uri": "https://localhost:8080/"
        },
        "id": "JJR3f7NvwK3T",
        "outputId": "80e26466-462e-4f54-e875-9237bbd2225e"
      },
      "source": [
        "cl_rep = classification_report(y_test, y_pred_final)\n",
        "print(cl_rep)"
      ],
      "execution_count": 89,
      "outputs": [
        {
          "output_type": "stream",
          "text": [
            "              precision    recall  f1-score   support\n",
            "\n",
            "           0       0.90      0.69      0.78      1033\n",
            "           1       0.48      0.80      0.60       374\n",
            "\n",
            "    accuracy                           0.72      1407\n",
            "   macro avg       0.69      0.74      0.69      1407\n",
            "weighted avg       0.79      0.72      0.73      1407\n",
            "\n"
          ],
          "name": "stdout"
        }
      ]
    }
  ]
}