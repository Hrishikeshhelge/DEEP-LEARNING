{
  "nbformat": 4,
  "nbformat_minor": 0,
  "metadata": {
    "colab": {
      "name": "Image classification using CNN (CIFAR10 dataset).ipynb",
      "provenance": [],
      "collapsed_sections": []
    },
    "kernelspec": {
      "name": "python3",
      "display_name": "Python 3"
    },
    "language_info": {
      "name": "python"
    }
  },
  "cells": [
    {
      "cell_type": "code",
      "metadata": {
        "id": "rb9E-oQY8Wyq"
      },
      "source": [
        "# Import essential libraries\n",
        "\n",
        "import tensorflow as tf\n",
        "from tensorflow.keras import datasets, layers, models\n",
        "import matplotlib.pyplot as plt\n",
        "import numpy as np"
      ],
      "execution_count": 1,
      "outputs": []
    },
    {
      "cell_type": "code",
      "metadata": {
        "colab": {
          "base_uri": "https://localhost:8080/"
        },
        "id": "mXsJwt0P86iG",
        "outputId": "317f9a6d-d345-4e2b-af3e-a00c5f6295f1"
      },
      "source": [
        "# Loading Dataset\n",
        "\n",
        "(X_train, y_train), (X_test,y_test) = datasets.cifar10.load_data()"
      ],
      "execution_count": 2,
      "outputs": [
        {
          "output_type": "stream",
          "text": [
            "Downloading data from https://www.cs.toronto.edu/~kriz/cifar-10-python.tar.gz\n",
            "170500096/170498071 [==============================] - 6s 0us/step\n"
          ],
          "name": "stdout"
        }
      ]
    },
    {
      "cell_type": "code",
      "metadata": {
        "colab": {
          "base_uri": "https://localhost:8080/"
        },
        "id": "yHx43LNw8_SR",
        "outputId": "b29c9497-c079-42d3-9382-f5a1e79fc9b3"
      },
      "source": [
        "X_train.shape"
      ],
      "execution_count": 3,
      "outputs": [
        {
          "output_type": "execute_result",
          "data": {
            "text/plain": [
              "(50000, 32, 32, 3)"
            ]
          },
          "metadata": {
            "tags": []
          },
          "execution_count": 3
        }
      ]
    },
    {
      "cell_type": "code",
      "metadata": {
        "colab": {
          "base_uri": "https://localhost:8080/"
        },
        "id": "sO5ioUmv9DAR",
        "outputId": "1ddfed11-1ddd-4710-a4b5-873acad65260"
      },
      "source": [
        "\n",
        "X_test.shape"
      ],
      "execution_count": 4,
      "outputs": [
        {
          "output_type": "execute_result",
          "data": {
            "text/plain": [
              "(10000, 32, 32, 3)"
            ]
          },
          "metadata": {
            "tags": []
          },
          "execution_count": 4
        }
      ]
    },
    {
      "cell_type": "code",
      "metadata": {
        "colab": {
          "base_uri": "https://localhost:8080/"
        },
        "id": "LmkAzRGP9E2w",
        "outputId": "770ad9b0-74c8-481b-b95b-eebfcfb734bc"
      },
      "source": [
        "y_train.shape"
      ],
      "execution_count": 5,
      "outputs": [
        {
          "output_type": "execute_result",
          "data": {
            "text/plain": [
              "(50000, 1)"
            ]
          },
          "metadata": {
            "tags": []
          },
          "execution_count": 5
        }
      ]
    },
    {
      "cell_type": "markdown",
      "metadata": {
        "id": "gdgL8-VM9KMd"
      },
      "source": [
        "Here we see there are 50000 training images and 10000 test images"
      ]
    },
    {
      "cell_type": "code",
      "metadata": {
        "colab": {
          "base_uri": "https://localhost:8080/"
        },
        "id": "--TfqWmR9IRh",
        "outputId": "6a2d3888-3ea9-4e1c-a0da-82a00f9463b1"
      },
      "source": [
        "y_train[:5]"
      ],
      "execution_count": 6,
      "outputs": [
        {
          "output_type": "execute_result",
          "data": {
            "text/plain": [
              "array([[6],\n",
              "       [9],\n",
              "       [9],\n",
              "       [4],\n",
              "       [1]], dtype=uint8)"
            ]
          },
          "metadata": {
            "tags": []
          },
          "execution_count": 6
        }
      ]
    },
    {
      "cell_type": "markdown",
      "metadata": {
        "id": "N9wFHlFU9Pah"
      },
      "source": [
        "y_train is a 2D array, for our classification having 1D array is good enough. so we will convert this to now 1D array"
      ]
    },
    {
      "cell_type": "code",
      "metadata": {
        "colab": {
          "base_uri": "https://localhost:8080/"
        },
        "id": "P2WY8hhQ9NnB",
        "outputId": "0a4cd945-2a3e-4ab4-8acd-d7f167495d74"
      },
      "source": [
        "y_train = y_train.reshape(-1,)\n",
        "y_train[:5]"
      ],
      "execution_count": 7,
      "outputs": [
        {
          "output_type": "execute_result",
          "data": {
            "text/plain": [
              "array([6, 9, 9, 4, 1], dtype=uint8)"
            ]
          },
          "metadata": {
            "tags": []
          },
          "execution_count": 7
        }
      ]
    },
    {
      "cell_type": "code",
      "metadata": {
        "id": "5awjH99U9R9x"
      },
      "source": [
        "y_test = y_test.reshape(-1,)"
      ],
      "execution_count": 8,
      "outputs": []
    },
    {
      "cell_type": "code",
      "metadata": {
        "id": "MWRlVlvC9Ta4"
      },
      "source": [
        "classes = [\"airplane\",\"automobile\",\"bird\",\"cat\",\"deer\",\"dog\",\"frog\",\"horse\",\"ship\",\"truck\"]"
      ],
      "execution_count": 9,
      "outputs": []
    },
    {
      "cell_type": "code",
      "metadata": {
        "id": "-cl2hJGF9VXx"
      },
      "source": [
        "# Let's plot some images to see what they are"
      ],
      "execution_count": 10,
      "outputs": []
    },
    {
      "cell_type": "code",
      "metadata": {
        "id": "3jDL1evS9Xtx"
      },
      "source": [
        "def plot_sample(X, y, index):\n",
        "    plt.figure(figsize = (15,2))\n",
        "    plt.imshow(X[index])\n",
        "    plt.xlabel(classes[y[index]])"
      ],
      "execution_count": 11,
      "outputs": []
    },
    {
      "cell_type": "code",
      "metadata": {
        "colab": {
          "base_uri": "https://localhost:8080/",
          "height": 173
        },
        "id": "uqy33UJI9ZUg",
        "outputId": "c4fefda2-da97-4855-c80d-cd374b5ec745"
      },
      "source": [
        "plot_sample(X_train, y_train, 0)"
      ],
      "execution_count": 12,
      "outputs": [
        {
          "output_type": "display_data",
          "data": {
            "image/png": "[encoded data removed]",
            "text/plain": [
              "<Figure size 1080x144 with 1 Axes>"
            ]
          },
          "metadata": {
            "tags": [],
            "needs_background": "light"
          }
        }
      ]
    },
    {
      "cell_type": "code",
      "metadata": {
        "colab": {
          "base_uri": "https://localhost:8080/",
          "height": 173
        },
        "id": "ucGL3TW99bGI",
        "outputId": "d605fbb2-46da-426e-b280-ec9fbcea2cb6"
      },
      "source": [
        "plot_sample(X_train, y_train, 1)"
      ],
      "execution_count": 13,
      "outputs": [
        {
          "output_type": "display_data",
          "data": {
            "image/png": "[encoded data removed]",
            "text/plain": [
              "<Figure size 1080x144 with 1 Axes>"
            ]
          },
          "metadata": {
            "tags": [],
            "needs_background": "light"
          }
        }
      ]
    },
    {
      "cell_type": "markdown",
      "metadata": {
        "id": "CQhgOmQY9gdU"
      },
      "source": [
        "Normalize the images to a number from 0 to 1. Image has 3 channels (R,G,B) and each value in the channel can range from 0 to 255. Hence to normalize in 0-->1 range, we need to divide it by 255"
      ]
    },
    {
      "cell_type": "markdown",
      "metadata": {
        "id": "hP58tHNU9i8g"
      },
      "source": [
        "\n",
        "Normalizing the training data"
      ]
    },
    {
      "cell_type": "code",
      "metadata": {
        "id": "FmyGPs_O9eoo"
      },
      "source": [
        "# Feature Scaling\n",
        "\n",
        "X_train = X_train / 255.0\n",
        "X_test = X_test / 255.0"
      ],
      "execution_count": 14,
      "outputs": []
    },
    {
      "cell_type": "code",
      "metadata": {
        "colab": {
          "base_uri": "https://localhost:8080/"
        },
        "id": "x_3ndBx59nCo",
        "outputId": "0d31afed-80f5-4081-c1e3-968b64179701"
      },
      "source": [
        "# Build simple artificial neural network for image classification\n",
        "\n",
        "ann = models.Sequential([\n",
        "        layers.Flatten(input_shape=(32,32,3)),\n",
        "        layers.Dense(3000, activation='relu'),\n",
        "        layers.Dense(1000, activation='relu'),\n",
        "        layers.Dense(10, activation='sigmoid')    \n",
        "    ])\n",
        "\n",
        "ann.compile(optimizer='SGD',\n",
        "              loss='sparse_categorical_crossentropy',\n",
        "              metrics=['accuracy'])\n",
        "\n",
        "ann.fit(X_train, y_train, epochs=5)"
      ],
      "execution_count": 15,
      "outputs": [
        {
          "output_type": "stream",
          "text": [
            "Epoch 1/5\n",
            "1563/1563 [==============================] - 62s 39ms/step - loss: 1.9325 - accuracy: 0.3057\n",
            "Epoch 2/5\n",
            "1563/1563 [==============================] - 61s 39ms/step - loss: 1.6389 - accuracy: 0.4198\n",
            "Epoch 3/5\n",
            "1563/1563 [==============================] - 61s 39ms/step - loss: 1.5466 - accuracy: 0.4556\n",
            "Epoch 4/5\n",
            "1563/1563 [==============================] - 61s 39ms/step - loss: 1.4888 - accuracy: 0.4789\n",
            "Epoch 5/5\n",
            "1563/1563 [==============================] - 61s 39ms/step - loss: 1.4287 - accuracy: 0.4970\n"
          ],
          "name": "stdout"
        },
        {
          "output_type": "execute_result",
          "data": {
            "text/plain": [
              "<tensorflow.python.keras.callbacks.History at 0x7f6511476d50>"
            ]
          },
          "metadata": {
            "tags": []
          },
          "execution_count": 15
        }
      ]
    },
    {
      "cell_type": "markdown",
      "metadata": {
        "id": "76BKv6f5_RLC"
      },
      "source": [
        "You can see that at the end of 5 epochs, accuracy is at around 49.70%\n",
        "\n"
      ]
    },
    {
      "cell_type": "code",
      "metadata": {
        "colab": {
          "base_uri": "https://localhost:8080/"
        },
        "id": "iQH-ifZc9row",
        "outputId": "8dd5a95e-ce10-4909-bbde-a6c1416cc5c1"
      },
      "source": [
        "from sklearn.metrics import confusion_matrix , classification_report\n",
        "import numpy as np\n",
        "y_pred = ann.predict(X_test)\n",
        "y_pred_classes = [np.argmax(element) for element in y_pred]\n",
        "\n",
        "print(\"Classification Report: \\n\", classification_report(y_test, y_pred_classes))"
      ],
      "execution_count": 16,
      "outputs": [
        {
          "output_type": "stream",
          "text": [
            "Classification Report: \n",
            "               precision    recall  f1-score   support\n",
            "\n",
            "           0       0.71      0.35      0.47      1000\n",
            "           1       0.72      0.46      0.56      1000\n",
            "           2       0.34      0.36      0.35      1000\n",
            "           3       0.34      0.39      0.36      1000\n",
            "           4       0.59      0.19      0.29      1000\n",
            "           5       0.44      0.32      0.37      1000\n",
            "           6       0.34      0.81      0.48      1000\n",
            "           7       0.62      0.49      0.55      1000\n",
            "           8       0.51      0.72      0.60      1000\n",
            "           9       0.56      0.55      0.56      1000\n",
            "\n",
            "    accuracy                           0.46     10000\n",
            "   macro avg       0.52      0.46      0.46     10000\n",
            "weighted avg       0.52      0.46      0.46     10000\n",
            "\n"
          ],
          "name": "stdout"
        }
      ]
    },
    {
      "cell_type": "markdown",
      "metadata": {
        "id": "ddN9-oVq_bW5"
      },
      "source": [
        "Now let us build a convolutional neural network to train our images"
      ]
    },
    {
      "cell_type": "code",
      "metadata": {
        "id": "KRzXrW1s_WtB"
      },
      "source": [
        "cnn = models.Sequential([\n",
        "    layers.Conv2D(filters=32, kernel_size=(3, 3), activation='relu', input_shape=(32, 32, 3)),\n",
        "    layers.MaxPooling2D((2, 2)),\n",
        "    \n",
        "    layers.Conv2D(filters=64, kernel_size=(3, 3), activation='relu'),\n",
        "    layers.MaxPooling2D((2, 2)),\n",
        "    \n",
        "    layers.Flatten(),\n",
        "    layers.Dense(64, activation='relu'),\n",
        "    layers.Dense(10, activation='softmax')\n",
        "])"
      ],
      "execution_count": 17,
      "outputs": []
    },
    {
      "cell_type": "code",
      "metadata": {
        "id": "FROQOFr7_d5A"
      },
      "source": [
        "cnn.compile(optimizer='adam',\n",
        "              loss='sparse_categorical_crossentropy',\n",
        "              metrics=['accuracy'])"
      ],
      "execution_count": 18,
      "outputs": []
    },
    {
      "cell_type": "code",
      "metadata": {
        "colab": {
          "base_uri": "https://localhost:8080/"
        },
        "id": "O1M0Bi0-_f4Q",
        "outputId": "91f53c1d-6025-47fc-946a-25156f6fad3e"
      },
      "source": [
        "cnn.fit(X_train, y_train, epochs=10)"
      ],
      "execution_count": 19,
      "outputs": [
        {
          "output_type": "stream",
          "text": [
            "Epoch 1/10\n",
            "1563/1563 [==============================] - 43s 28ms/step - loss: 1.6811 - accuracy: 0.3856\n",
            "Epoch 2/10\n",
            "1563/1563 [==============================] - 43s 27ms/step - loss: 1.1374 - accuracy: 0.6002\n",
            "Epoch 3/10\n",
            "1563/1563 [==============================] - 43s 27ms/step - loss: 0.9728 - accuracy: 0.6640\n",
            "Epoch 4/10\n",
            "1563/1563 [==============================] - 43s 27ms/step - loss: 0.8706 - accuracy: 0.6950\n",
            "Epoch 5/10\n",
            "1563/1563 [==============================] - 43s 27ms/step - loss: 0.7997 - accuracy: 0.7202\n",
            "Epoch 6/10\n",
            "1563/1563 [==============================] - 43s 27ms/step - loss: 0.7428 - accuracy: 0.7404\n",
            "Epoch 7/10\n",
            "1563/1563 [==============================] - 43s 27ms/step - loss: 0.6995 - accuracy: 0.7557\n",
            "Epoch 8/10\n",
            "1563/1563 [==============================] - 42s 27ms/step - loss: 0.6388 - accuracy: 0.7746\n",
            "Epoch 9/10\n",
            "1563/1563 [==============================] - 43s 27ms/step - loss: 0.5954 - accuracy: 0.7931\n",
            "Epoch 10/10\n",
            "1563/1563 [==============================] - 43s 27ms/step - loss: 0.5551 - accuracy: 0.8043\n"
          ],
          "name": "stdout"
        },
        {
          "output_type": "execute_result",
          "data": {
            "text/plain": [
              "<tensorflow.python.keras.callbacks.History at 0x7f6505c63f50>"
            ]
          },
          "metadata": {
            "tags": []
          },
          "execution_count": 19
        }
      ]
    },
    {
      "cell_type": "markdown",
      "metadata": {
        "id": "Sf6HG-NtBUQd"
      },
      "source": [
        "With CNN, at the end 5 epochs, accuracy was at around 72.02% which is a significant improvement over ANN. CNN's are best for image classification and gives superb accuracy. Also computation is much less compared to simple ANN as maxpooling reduces the image dimensions while still preserving the features"
      ]
    },
    {
      "cell_type": "code",
      "metadata": {
        "colab": {
          "base_uri": "https://localhost:8080/"
        },
        "id": "EE_C1pyQ_h75",
        "outputId": "ccce6de4-6b7c-4b8e-82ad-a445777cb5c8"
      },
      "source": [
        "cnn.evaluate(X_test,y_test)"
      ],
      "execution_count": 20,
      "outputs": [
        {
          "output_type": "stream",
          "text": [
            "313/313 [==============================] - 3s 9ms/step - loss: 0.9383 - accuracy: 0.6999\n"
          ],
          "name": "stdout"
        },
        {
          "output_type": "execute_result",
          "data": {
            "text/plain": [
              "[0.9382729530334473, 0.6998999714851379]"
            ]
          },
          "metadata": {
            "tags": []
          },
          "execution_count": 20
        }
      ]
    },
    {
      "cell_type": "code",
      "metadata": {
        "colab": {
          "base_uri": "https://localhost:8080/"
        },
        "id": "ZZTCY26zBZ6z",
        "outputId": "502710f1-b8b0-4ed5-91fe-f0b24382f864"
      },
      "source": [
        "y_pred = cnn.predict(X_test)\n",
        "y_pred[:5]"
      ],
      "execution_count": 21,
      "outputs": [
        {
          "output_type": "execute_result",
          "data": {
            "text/plain": [
              "array([[1.8602136e-03, 2.6721706e-05, 2.4089853e-05, 9.8806936e-01,\n",
              "        6.6052548e-06, 9.2576696e-03, 6.2819786e-04, 6.3117193e-07,\n",
              "        1.2213099e-04, 4.3348859e-06],\n",
              "       [4.1530791e-04, 3.7072338e-02, 4.0786476e-06, 3.4996600e-07,\n",
              "        4.0519677e-09, 7.7524005e-09, 1.2077852e-08, 7.8917743e-09,\n",
              "        9.5863867e-01, 3.8692995e-03],\n",
              "       [4.0618550e-02, 3.5735244e-01, 1.8211185e-04, 2.9862396e-04,\n",
              "        1.0737726e-03, 3.0277672e-04, 2.5117654e-06, 1.6137985e-04,\n",
              "        5.5351520e-01, 4.6492647e-02],\n",
              "       [9.7867966e-01, 1.3611939e-02, 1.7608766e-03, 1.9353164e-04,\n",
              "        2.4488688e-04, 9.3465869e-06, 3.3598937e-04, 4.0481509e-06,\n",
              "        3.6564309e-03, 1.5032769e-03],\n",
              "       [6.8368848e-07, 1.2756647e-04, 3.7722804e-02, 1.2991557e-01,\n",
              "        3.9897633e-01, 1.0269432e-02, 4.2278793e-01, 1.6132195e-05,\n",
              "        1.6527466e-04, 1.8249968e-05]], dtype=float32)"
            ]
          },
          "metadata": {
            "tags": []
          },
          "execution_count": 21
        }
      ]
    },
    {
      "cell_type": "code",
      "metadata": {
        "colab": {
          "base_uri": "https://localhost:8080/"
        },
        "id": "FZ_n8yfBBbmh",
        "outputId": "3f3606cf-7018-4303-cbb0-ab9638e60e3c"
      },
      "source": [
        "y_classes = [np.argmax(element) for element in y_pred]\n",
        "y_classes[:5]"
      ],
      "execution_count": 22,
      "outputs": [
        {
          "output_type": "execute_result",
          "data": {
            "text/plain": [
              "[3, 8, 8, 0, 6]"
            ]
          },
          "metadata": {
            "tags": []
          },
          "execution_count": 22
        }
      ]
    },
    {
      "cell_type": "code",
      "metadata": {
        "colab": {
          "base_uri": "https://localhost:8080/"
        },
        "id": "v51bG_gjBdYJ",
        "outputId": "aa525028-1677-4422-9fac-54aed8c07fae"
      },
      "source": [
        "y_test[:5]"
      ],
      "execution_count": 23,
      "outputs": [
        {
          "output_type": "execute_result",
          "data": {
            "text/plain": [
              "array([3, 8, 8, 0, 6], dtype=uint8)"
            ]
          },
          "metadata": {
            "tags": []
          },
          "execution_count": 23
        }
      ]
    },
    {
      "cell_type": "code",
      "metadata": {
        "colab": {
          "base_uri": "https://localhost:8080/",
          "height": 172
        },
        "id": "FwbEEDG7BfHB",
        "outputId": "cc89e134-d480-4b3a-93b6-4161e05bcd47"
      },
      "source": [
        "plot_sample(X_test, y_test,3)"
      ],
      "execution_count": 24,
      "outputs": [
        {
          "output_type": "display_data",
          "data": {
            "image/png": "[encoded data removed]",
            "text/plain": [
              "<Figure size 1080x144 with 1 Axes>"
            ]
          },
          "metadata": {
            "tags": [],
            "needs_background": "light"
          }
        }
      ]
    },
    {
      "cell_type": "code",
      "metadata": {
        "colab": {
          "base_uri": "https://localhost:8080/",
          "height": 33
        },
        "id": "Shw7N2c8Bi3h",
        "outputId": "62047352-ec50-4185-93d6-36e94e207d95"
      },
      "source": [
        "classes[y_classes[3]]"
      ],
      "execution_count": 25,
      "outputs": [
        {
          "output_type": "execute_result",
          "data": {
            "application/vnd.google.colaboratory.intrinsic+json": {
              "type": "string"
            },
            "text/plain": [
              "'airplane'"
            ]
          },
          "metadata": {
            "tags": []
          },
          "execution_count": 25
        }
      ]
    },
    {
      "cell_type": "code",
      "metadata": {
        "colab": {
          "base_uri": "https://localhost:8080/",
          "height": 172
        },
        "id": "fVMV0QV3BmkZ",
        "outputId": "7b258dc5-3fc8-432b-984c-cddd5c0cc90b"
      },
      "source": [
        "plot_sample(X_test, y_test,5)"
      ],
      "execution_count": 26,
      "outputs": [
        {
          "output_type": "display_data",
          "data": {
            "image/png": "[encoded data removed]",
            "text/plain": [
              "<Figure size 1080x144 with 1 Axes>"
            ]
          },
          "metadata": {
            "tags": [],
            "needs_background": "light"
          }
        }
      ]
    },
    {
      "cell_type": "code",
      "metadata": {
        "colab": {
          "base_uri": "https://localhost:8080/",
          "height": 35
        },
        "id": "cKaUTWyiBrQp",
        "outputId": "e7fa6ed4-22aa-4d91-d85f-c15dc37e6262"
      },
      "source": [
        "classes[y_classes[5]]"
      ],
      "execution_count": 27,
      "outputs": [
        {
          "output_type": "execute_result",
          "data": {
            "application/vnd.google.colaboratory.intrinsic+json": {
              "type": "string"
            },
            "text/plain": [
              "'frog'"
            ]
          },
          "metadata": {
            "tags": []
          },
          "execution_count": 27
        }
      ]
    },
    {
      "cell_type": "code",
      "metadata": {
        "colab": {
          "base_uri": "https://localhost:8080/",
          "height": 173
        },
        "id": "3TF3GYDVBu3Q",
        "outputId": "1897a8a7-ca26-4f93-9547-ef66ccfd8f12"
      },
      "source": [
        "plot_sample(X_test, y_test,25)"
      ],
      "execution_count": 35,
      "outputs": [
        {
          "output_type": "display_data",
          "data": {
            "image/png": "[encoded data removed]",
            "text/plain": [
              "<Figure size 1080x144 with 1 Axes>"
            ]
          },
          "metadata": {
            "tags": [],
            "needs_background": "light"
          }
        }
      ]
    },
    {
      "cell_type": "code",
      "metadata": {
        "colab": {
          "base_uri": "https://localhost:8080/",
          "height": 35
        },
        "id": "4QYNVW8MB6FA",
        "outputId": "c537c0f7-c21c-48bf-b095-586ae24e8237"
      },
      "source": [
        "classes[y_classes[25]]"
      ],
      "execution_count": 36,
      "outputs": [
        {
          "output_type": "execute_result",
          "data": {
            "application/vnd.google.colaboratory.intrinsic+json": {
              "type": "string"
            },
            "text/plain": [
              "'bird'"
            ]
          },
          "metadata": {
            "tags": []
          },
          "execution_count": 36
        }
      ]
    },
    {
      "cell_type": "code",
      "metadata": {
        "colab": {
          "base_uri": "https://localhost:8080/",
          "height": 173
        },
        "id": "MPtt52zJB0f4",
        "outputId": "a3dbd92c-4447-4ba1-86bb-2ce10320c9e6"
      },
      "source": [
        "plot_sample(X_test, y_test,15)"
      ],
      "execution_count": 29,
      "outputs": [
        {
          "output_type": "display_data",
          "data": {
            "image/png": "[encoded data removed]",
            "text/plain": [
              "<Figure size 1080x144 with 1 Axes>"
            ]
          },
          "metadata": {
            "tags": [],
            "needs_background": "light"
          }
        }
      ]
    },
    {
      "cell_type": "code",
      "metadata": {
        "colab": {
          "base_uri": "https://localhost:8080/",
          "height": 35
        },
        "id": "-6qAQO66B9be",
        "outputId": "d2433cde-bdf1-42ba-8869-ae3387f0658b"
      },
      "source": [
        "classes[y_classes[15]]"
      ],
      "execution_count": 32,
      "outputs": [
        {
          "output_type": "execute_result",
          "data": {
            "application/vnd.google.colaboratory.intrinsic+json": {
              "type": "string"
            },
            "text/plain": [
              "'ship'"
            ]
          },
          "metadata": {
            "tags": []
          },
          "execution_count": 32
        }
      ]
    },
    {
      "cell_type": "code",
      "metadata": {
        "colab": {
          "base_uri": "https://localhost:8080/",
          "height": 173
        },
        "id": "pbpz3pPdB2EY",
        "outputId": "226568d4-4674-4764-e27c-83283bc4a6ae"
      },
      "source": [
        "plot_sample(X_test, y_test,20)"
      ],
      "execution_count": 30,
      "outputs": [
        {
          "output_type": "display_data",
          "data": {
            "image/png": "[encoded data removed]",
            "text/plain": [
              "<Figure size 1080x144 with 1 Axes>"
            ]
          },
          "metadata": {
            "tags": [],
            "needs_background": "light"
          }
        }
      ]
    },
    {
      "cell_type": "code",
      "metadata": {
        "colab": {
          "base_uri": "https://localhost:8080/",
          "height": 35
        },
        "id": "VH4L-piHCATB",
        "outputId": "63bb36e0-aecb-4887-f555-1a5253a0797d"
      },
      "source": [
        "classes[y_classes[20]]"
      ],
      "execution_count": 33,
      "outputs": [
        {
          "output_type": "execute_result",
          "data": {
            "application/vnd.google.colaboratory.intrinsic+json": {
              "type": "string"
            },
            "text/plain": [
              "'horse'"
            ]
          },
          "metadata": {
            "tags": []
          },
          "execution_count": 33
        }
      ]
    },
    {
      "cell_type": "markdown",
      "metadata": {
        "id": "D7uN1iT6CdtU"
      },
      "source": [
        "## Exercise"
      ]
    },
    {
      "cell_type": "markdown",
      "metadata": {
        "id": "viM7uGmvCsCR"
      },
      "source": [
        "Use CNN to do handwritten digits classification using MNIST dataset.\n",
        "\n",
        "Above we used ANN for digits classification. You need to modify this code to use CNN instead. Check how accuracy improves fast with CNN and figure out how CNN can be a better choice for doing image classification compared to ANN."
      ]
    },
    {
      "cell_type": "code",
      "metadata": {
        "id": "Gr72WO47B3rY"
      },
      "source": [
        "# Import essential Libraries \n",
        "\n",
        "import tensorflow as tf\n",
        "from tensorflow import keras\n",
        "from tensorflow.keras import datasets, layers, models\n",
        "import matplotlib.pyplot as plt\n",
        "%matplotlib inline\n",
        "import numpy as np"
      ],
      "execution_count": 37,
      "outputs": []
    },
    {
      "cell_type": "code",
      "metadata": {
        "colab": {
          "base_uri": "https://localhost:8080/"
        },
        "id": "-QHBuV3gFlZa",
        "outputId": "2cfe919d-4c2f-416e-a556-68965862ae6c"
      },
      "source": [
        "(X_train, y_train) , (X_test, y_test) = keras.datasets.mnist.load_data()"
      ],
      "execution_count": 38,
      "outputs": [
        {
          "output_type": "stream",
          "text": [
            "Downloading data from https://storage.googleapis.com/tensorflow/tf-keras-datasets/mnist.npz\n",
            "11493376/11490434 [==============================] - 0s 0us/step\n"
          ],
          "name": "stdout"
        }
      ]
    },
    {
      "cell_type": "code",
      "metadata": {
        "colab": {
          "base_uri": "https://localhost:8080/"
        },
        "id": "gqrRiPlhFnpw",
        "outputId": "c12ed4ba-bf86-4c0e-a9a7-8cb18b68c2a6"
      },
      "source": [
        "X_train.shape"
      ],
      "execution_count": 39,
      "outputs": [
        {
          "output_type": "execute_result",
          "data": {
            "text/plain": [
              "(60000, 28, 28)"
            ]
          },
          "metadata": {
            "tags": []
          },
          "execution_count": 39
        }
      ]
    },
    {
      "cell_type": "code",
      "metadata": {
        "colab": {
          "base_uri": "https://localhost:8080/"
        },
        "id": "DJ3ZQw90FqZQ",
        "outputId": "dd505d75-123d-4eeb-ff47-6e93a029b1fa"
      },
      "source": [
        "X_test.shape"
      ],
      "execution_count": 40,
      "outputs": [
        {
          "output_type": "execute_result",
          "data": {
            "text/plain": [
              "(10000, 28, 28)"
            ]
          },
          "metadata": {
            "tags": []
          },
          "execution_count": 40
        }
      ]
    },
    {
      "cell_type": "code",
      "metadata": {
        "colab": {
          "base_uri": "https://localhost:8080/"
        },
        "id": "KNo7-z7HFslw",
        "outputId": "748eb27d-05fd-49c8-f550-6d158952f56c"
      },
      "source": [
        "X_train[0].shape"
      ],
      "execution_count": 41,
      "outputs": [
        {
          "output_type": "execute_result",
          "data": {
            "text/plain": [
              "(28, 28)"
            ]
          },
          "metadata": {
            "tags": []
          },
          "execution_count": 41
        }
      ]
    },
    {
      "cell_type": "code",
      "metadata": {
        "colab": {
          "base_uri": "https://localhost:8080/",
          "height": 292
        },
        "id": "8TQln9pBFvOR",
        "outputId": "757e8640-d300-4990-c593-9172fb4fad39"
      },
      "source": [
        "plt.matshow(X_train[0])"
      ],
      "execution_count": 42,
      "outputs": [
        {
          "output_type": "execute_result",
          "data": {
            "text/plain": [
              "<matplotlib.image.AxesImage at 0x7f64f9717810>"
            ]
          },
          "metadata": {
            "tags": []
          },
          "execution_count": 42
        },
        {
          "output_type": "display_data",
          "data": {
            "image/png": "[encoded data removed]",
            "text/plain": [
              "<Figure size 288x288 with 1 Axes>"
            ]
          },
          "metadata": {
            "tags": [],
            "needs_background": "light"
          }
        }
      ]
    },
    {
      "cell_type": "code",
      "metadata": {
        "colab": {
          "base_uri": "https://localhost:8080/"
        },
        "id": "aXqOEmA-Fw-Z",
        "outputId": "940d66e3-18e1-40c3-ddc8-2708980dddf4"
      },
      "source": [
        "y_train[0]"
      ],
      "execution_count": 43,
      "outputs": [
        {
          "output_type": "execute_result",
          "data": {
            "text/plain": [
              "5"
            ]
          },
          "metadata": {
            "tags": []
          },
          "execution_count": 43
        }
      ]
    },
    {
      "cell_type": "code",
      "metadata": {
        "id": "7H4FgO5YFypJ"
      },
      "source": [
        "# Feature Scaling\n",
        "\n",
        "X_train = X_train / 255\n",
        "X_test = X_test / 255"
      ],
      "execution_count": 44,
      "outputs": []
    },
    {
      "cell_type": "code",
      "metadata": {
        "id": "Oj_oCEpYF2AZ"
      },
      "source": [
        "# Using ANN for classification"
      ],
      "execution_count": 45,
      "outputs": []
    },
    {
      "cell_type": "code",
      "metadata": {
        "colab": {
          "base_uri": "https://localhost:8080/"
        },
        "id": "MsH4Z5sPF6Rx",
        "outputId": "5072437e-9cf4-4891-c18b-4bb51ff15083"
      },
      "source": [
        "model = keras.Sequential([\n",
        "    keras.layers.Flatten(input_shape=(28, 28)),\n",
        "    keras.layers.Dense(100, activation='relu'),\n",
        "    keras.layers.Dense(10, activation='sigmoid')\n",
        "])\n",
        "\n",
        "model.compile(optimizer='adam',\n",
        "              loss='sparse_categorical_crossentropy',\n",
        "              metrics=['accuracy'])\n",
        "\n",
        "model.fit(X_train, y_train, epochs=10)"
      ],
      "execution_count": 46,
      "outputs": [
        {
          "output_type": "stream",
          "text": [
            "Epoch 1/10\n",
            "1875/1875 [==============================] - 3s 1ms/step - loss: 0.4502 - accuracy: 0.8724\n",
            "Epoch 2/10\n",
            "1875/1875 [==============================] - 2s 1ms/step - loss: 0.1357 - accuracy: 0.9595\n",
            "Epoch 3/10\n",
            "1875/1875 [==============================] - 3s 1ms/step - loss: 0.0874 - accuracy: 0.9739\n",
            "Epoch 4/10\n",
            "1875/1875 [==============================] - 2s 1ms/step - loss: 0.0637 - accuracy: 0.9810\n",
            "Epoch 5/10\n",
            "1875/1875 [==============================] - 2s 1ms/step - loss: 0.0488 - accuracy: 0.9855\n",
            "Epoch 6/10\n",
            "1875/1875 [==============================] - 2s 1ms/step - loss: 0.0384 - accuracy: 0.9885\n",
            "Epoch 7/10\n",
            "1875/1875 [==============================] - 2s 1ms/step - loss: 0.0306 - accuracy: 0.9907\n",
            "Epoch 8/10\n",
            "1875/1875 [==============================] - 2s 1ms/step - loss: 0.0262 - accuracy: 0.9921\n",
            "Epoch 9/10\n",
            "1875/1875 [==============================] - 2s 1ms/step - loss: 0.0223 - accuracy: 0.9931\n",
            "Epoch 10/10\n",
            "1875/1875 [==============================] - 2s 1ms/step - loss: 0.0162 - accuracy: 0.9953\n"
          ],
          "name": "stdout"
        },
        {
          "output_type": "execute_result",
          "data": {
            "text/plain": [
              "<tensorflow.python.keras.callbacks.History at 0x7f64f9683a90>"
            ]
          },
          "metadata": {
            "tags": []
          },
          "execution_count": 46
        }
      ]
    },
    {
      "cell_type": "code",
      "metadata": {
        "colab": {
          "base_uri": "https://localhost:8080/"
        },
        "id": "_HjyFPunF8Ap",
        "outputId": "be6d5952-5a9f-49b5-8d64-356a03a8e02a"
      },
      "source": [
        "model.evaluate(X_test,y_test)"
      ],
      "execution_count": 47,
      "outputs": [
        {
          "output_type": "stream",
          "text": [
            "313/313 [==============================] - 0s 827us/step - loss: 0.0785 - accuracy: 0.9780\n"
          ],
          "name": "stdout"
        },
        {
          "output_type": "execute_result",
          "data": {
            "text/plain": [
              "[0.0785425677895546, 0.9779999852180481]"
            ]
          },
          "metadata": {
            "tags": []
          },
          "execution_count": 47
        }
      ]
    },
    {
      "cell_type": "code",
      "metadata": {
        "colab": {
          "base_uri": "https://localhost:8080/"
        },
        "id": "ZV_MMEf-GKEZ",
        "outputId": "e44e5a9b-b6ce-4151-bef3-0a8b6cfee823"
      },
      "source": [
        "X_train = X_train.reshape(-1,28,28,1)\n",
        "X_train.shape"
      ],
      "execution_count": 48,
      "outputs": [
        {
          "output_type": "execute_result",
          "data": {
            "text/plain": [
              "(60000, 28, 28, 1)"
            ]
          },
          "metadata": {
            "tags": []
          },
          "execution_count": 48
        }
      ]
    },
    {
      "cell_type": "code",
      "metadata": {
        "colab": {
          "base_uri": "https://localhost:8080/"
        },
        "id": "OFn_t1N3GM_B",
        "outputId": "ebd1dd7e-9c4a-45bc-a71f-d9bb6bbcb384"
      },
      "source": [
        "X_test = X_test.reshape(-1,28,28,1)\n",
        "X_test.shape"
      ],
      "execution_count": 49,
      "outputs": [
        {
          "output_type": "execute_result",
          "data": {
            "text/plain": [
              "(10000, 28, 28, 1)"
            ]
          },
          "metadata": {
            "tags": []
          },
          "execution_count": 49
        }
      ]
    },
    {
      "cell_type": "code",
      "metadata": {
        "id": "GDPfQWuJGOkp"
      },
      "source": [
        "# Using CNN for classification"
      ],
      "execution_count": 50,
      "outputs": []
    },
    {
      "cell_type": "code",
      "metadata": {
        "id": "KT0gstrpGT1p"
      },
      "source": [
        "model = keras.Sequential([\n",
        "    \n",
        "    layers.Conv2D(30, (3,3), activation='relu', input_shape=(28, 28, 1)),\n",
        "    layers.MaxPooling2D((2,2)),\n",
        " \n",
        "    layers.Flatten(),\n",
        "    layers.Dense(100, activation='relu'),\n",
        "    keras.layers.Dense(10, activation='sigmoid')\n",
        "])"
      ],
      "execution_count": 51,
      "outputs": []
    },
    {
      "cell_type": "code",
      "metadata": {
        "colab": {
          "base_uri": "https://localhost:8080/"
        },
        "id": "247auyjxGWC5",
        "outputId": "5221de8d-0362-4ddf-9e29-adec1bc46247"
      },
      "source": [
        "model.compile(optimizer='adam',\n",
        "              loss='sparse_categorical_crossentropy',\n",
        "              metrics=['accuracy'])\n",
        "\n",
        "model.fit(X_train, y_train, epochs=5)"
      ],
      "execution_count": 52,
      "outputs": [
        {
          "output_type": "stream",
          "text": [
            "Epoch 1/5\n",
            "1875/1875 [==============================] - 23s 12ms/step - loss: 0.2906 - accuracy: 0.9160\n",
            "Epoch 2/5\n",
            "1875/1875 [==============================] - 23s 12ms/step - loss: 0.0534 - accuracy: 0.9839\n",
            "Epoch 3/5\n",
            "1875/1875 [==============================] - 23s 12ms/step - loss: 0.0325 - accuracy: 0.9895\n",
            "Epoch 4/5\n",
            "1875/1875 [==============================] - 23s 12ms/step - loss: 0.0224 - accuracy: 0.9925\n",
            "Epoch 5/5\n",
            "1875/1875 [==============================] - 23s 12ms/step - loss: 0.0144 - accuracy: 0.9953\n"
          ],
          "name": "stdout"
        },
        {
          "output_type": "execute_result",
          "data": {
            "text/plain": [
              "<tensorflow.python.keras.callbacks.History at 0x7f64f9882e10>"
            ]
          },
          "metadata": {
            "tags": []
          },
          "execution_count": 52
        }
      ]
    },
    {
      "cell_type": "code",
      "metadata": {
        "colab": {
          "base_uri": "https://localhost:8080/"
        },
        "id": "1HH9NU7DGYFI",
        "outputId": "dd6376eb-df14-4b37-8ccd-45ecfa286300"
      },
      "source": [
        "y_train[:5]"
      ],
      "execution_count": 53,
      "outputs": [
        {
          "output_type": "execute_result",
          "data": {
            "text/plain": [
              "array([5, 0, 4, 1, 9], dtype=uint8)"
            ]
          },
          "metadata": {
            "tags": []
          },
          "execution_count": 53
        }
      ]
    },
    {
      "cell_type": "code",
      "metadata": {
        "colab": {
          "base_uri": "https://localhost:8080/"
        },
        "id": "hvNTB7ucHASp",
        "outputId": "b84f6f3b-6589-49e4-b574-7cb864c81dde"
      },
      "source": [
        "model.evaluate(X_test,y_test)"
      ],
      "execution_count": 54,
      "outputs": [
        {
          "output_type": "stream",
          "text": [
            "313/313 [==============================] - 2s 5ms/step - loss: 0.0423 - accuracy: 0.9866\n"
          ],
          "name": "stdout"
        },
        {
          "output_type": "execute_result",
          "data": {
            "text/plain": [
              "[0.04228837415575981, 0.9865999817848206]"
            ]
          },
          "metadata": {
            "tags": []
          },
          "execution_count": 54
        }
      ]
    },
    {
      "cell_type": "code",
      "metadata": {
        "id": "zdFNPZpaHCaB"
      },
      "source": [
        ""
      ],
      "execution_count": null,
      "outputs": []
    }
  ]
}