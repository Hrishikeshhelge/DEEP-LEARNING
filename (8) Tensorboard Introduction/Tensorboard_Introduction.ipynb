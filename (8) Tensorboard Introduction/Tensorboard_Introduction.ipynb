{
  "nbformat": 4,
  "nbformat_minor": 0,
  "metadata": {
    "colab": {
      "name": "Tensorboard Introduction.ipynb",
      "provenance": [],
      "collapsed_sections": []
    },
    "kernelspec": {
      "name": "python3",
      "display_name": "Python 3"
    },
    "language_info": {
      "name": "python"
    }
  },
  "cells": [
    {
      "cell_type": "markdown",
      "metadata": {
        "id": "RMtYKaixOSmZ"
      },
      "source": [
        "In this notebook we will classify handwritten digits using a simple neural network which has only input and output layers. We will than add a hidden layer and see how the performance of the model improves"
      ]
    },
    {
      "cell_type": "code",
      "metadata": {
        "id": "gua_52t_OG12"
      },
      "source": [
        "# Import essential Libraries \n",
        "\n",
        "import tensorflow as tf\n",
        "from tensorflow import keras\n",
        "import matplotlib.pyplot as plt\n",
        "%matplotlib inline\n",
        "import numpy as np"
      ],
      "execution_count": 1,
      "outputs": []
    },
    {
      "cell_type": "code",
      "metadata": {
        "id": "uODlJq07OZjB"
      },
      "source": [
        "# Loading handwritten dataset\n",
        "\n",
        "(X_train, y_train) , (X_test, y_test) = keras.datasets.mnist.load_data()"
      ],
      "execution_count": 5,
      "outputs": []
    },
    {
      "cell_type": "code",
      "metadata": {
        "colab": {
          "base_uri": "https://localhost:8080/"
        },
        "id": "TRbP5gIzObcf",
        "outputId": "f0ffee9f-946c-48a1-d4cd-4171809d9f51"
      },
      "source": [
        "len(X_train)"
      ],
      "execution_count": 6,
      "outputs": [
        {
          "output_type": "execute_result",
          "data": {
            "text/plain": [
              "60000"
            ]
          },
          "metadata": {
            "tags": []
          },
          "execution_count": 6
        }
      ]
    },
    {
      "cell_type": "code",
      "metadata": {
        "colab": {
          "base_uri": "https://localhost:8080/"
        },
        "id": "xscBOltSOpLQ",
        "outputId": "21257227-86f7-4814-eb13-b72c964d3196"
      },
      "source": [
        "len(X_test)"
      ],
      "execution_count": 7,
      "outputs": [
        {
          "output_type": "execute_result",
          "data": {
            "text/plain": [
              "10000"
            ]
          },
          "metadata": {
            "tags": []
          },
          "execution_count": 7
        }
      ]
    },
    {
      "cell_type": "code",
      "metadata": {
        "colab": {
          "base_uri": "https://localhost:8080/"
        },
        "id": "typLLy5mOygx",
        "outputId": "4237336f-634e-4e90-89ae-865c27ed7de7"
      },
      "source": [
        "X_train[0].shape"
      ],
      "execution_count": 8,
      "outputs": [
        {
          "output_type": "execute_result",
          "data": {
            "text/plain": [
              "(28, 28)"
            ]
          },
          "metadata": {
            "tags": []
          },
          "execution_count": 8
        }
      ]
    },
    {
      "cell_type": "code",
      "metadata": {
        "colab": {
          "base_uri": "https://localhost:8080/",
          "height": 292
        },
        "id": "TKv9uXqVO0EI",
        "outputId": "c437cbdf-a8d6-4ce6-c33b-fa85a1bd91ea"
      },
      "source": [
        "plt.matshow(X_train[0])"
      ],
      "execution_count": 9,
      "outputs": [
        {
          "output_type": "execute_result",
          "data": {
            "text/plain": [
              "<matplotlib.image.AxesImage at 0x7fc278a59610>"
            ]
          },
          "metadata": {
            "tags": []
          },
          "execution_count": 9
        },
        {
          "output_type": "display_data",
          "data": {
            "image/png": "[encoded data removed]",
            "text/plain": [
              "<Figure size 288x288 with 1 Axes>"
            ]
          },
          "metadata": {
            "tags": [],
            "needs_background": "light"
          }
        }
      ]
    },
    {
      "cell_type": "code",
      "metadata": {
        "colab": {
          "base_uri": "https://localhost:8080/"
        },
        "id": "y0ojbckFO2kA",
        "outputId": "f92dea9f-4de2-4c99-fd9e-d7bd1f271220"
      },
      "source": [
        "y_train[0]"
      ],
      "execution_count": 10,
      "outputs": [
        {
          "output_type": "execute_result",
          "data": {
            "text/plain": [
              "5"
            ]
          },
          "metadata": {
            "tags": []
          },
          "execution_count": 10
        }
      ]
    },
    {
      "cell_type": "code",
      "metadata": {
        "id": "6MYSUr9WO42I"
      },
      "source": [
        "# Feature scaling\n",
        "\n",
        "X_train = X_train / 255\n",
        "X_test = X_test / 255"
      ],
      "execution_count": 11,
      "outputs": []
    },
    {
      "cell_type": "code",
      "metadata": {
        "id": "dKAqbepiO9Zh"
      },
      "source": [
        "# Convertin into 1D array\n",
        "\n",
        "X_train_flattened = X_train.reshape(len(X_train), 28*28)\n",
        "X_test_flattened = X_test.reshape(len(X_test), 28*28)"
      ],
      "execution_count": 12,
      "outputs": []
    },
    {
      "cell_type": "code",
      "metadata": {
        "colab": {
          "base_uri": "https://localhost:8080/"
        },
        "id": "RhIAw1fEPHg4",
        "outputId": "d5c7c4e5-e146-4984-a6f8-dabd4e2b9402"
      },
      "source": [
        "X_train_flattened.shape"
      ],
      "execution_count": 13,
      "outputs": [
        {
          "output_type": "execute_result",
          "data": {
            "text/plain": [
              "(60000, 784)"
            ]
          },
          "metadata": {
            "tags": []
          },
          "execution_count": 13
        }
      ]
    },
    {
      "cell_type": "code",
      "metadata": {
        "colab": {
          "base_uri": "https://localhost:8080/"
        },
        "id": "52PC3-WqPKDw",
        "outputId": "af5ce6de-ab12-437b-9e0d-62a31732f483"
      },
      "source": [
        "# Model training\n",
        "\n",
        "model = keras.Sequential([\n",
        "    keras.layers.Flatten(input_shape=(28, 28)),\n",
        "    keras.layers.Dense(100, activation='relu'),\n",
        "    keras.layers.Dense(10, activation='sigmoid')\n",
        "])\n",
        "\n",
        "model.compile(optimizer='adam',\n",
        "              loss='sparse_categorical_crossentropy',\n",
        "              metrics=['accuracy'])\n",
        "\n",
        "tb_callback = tf.keras.callbacks.TensorBoard(log_dir=\"logs/\", histogram_freq=1)\n",
        "\n",
        "model.fit(X_train, y_train, epochs=5, callbacks=[tb_callback])"
      ],
      "execution_count": 14,
      "outputs": [
        {
          "output_type": "stream",
          "text": [
            "Epoch 1/5\n",
            "1875/1875 [==============================] - 3s 2ms/step - loss: 0.4513 - accuracy: 0.8719\n",
            "Epoch 2/5\n",
            "1875/1875 [==============================] - 3s 2ms/step - loss: 0.1262 - accuracy: 0.9636\n",
            "Epoch 3/5\n",
            "1875/1875 [==============================] - 3s 2ms/step - loss: 0.0869 - accuracy: 0.9728\n",
            "Epoch 4/5\n",
            "1875/1875 [==============================] - 3s 2ms/step - loss: 0.0630 - accuracy: 0.9807\n",
            "Epoch 5/5\n",
            "1875/1875 [==============================] - 3s 2ms/step - loss: 0.0488 - accuracy: 0.9852\n"
          ],
          "name": "stdout"
        },
        {
          "output_type": "execute_result",
          "data": {
            "text/plain": [
              "<tensorflow.python.keras.callbacks.History at 0x7fc2797738d0>"
            ]
          },
          "metadata": {
            "tags": []
          },
          "execution_count": 14
        }
      ]
    },
    {
      "cell_type": "code",
      "metadata": {
        "colab": {
          "base_uri": "https://localhost:8080/"
        },
        "id": "rlNjLY4HPWDH",
        "outputId": "069cb41e-4de3-41bb-a0da-ef577562edd5"
      },
      "source": [
        "model.get_weights()"
      ],
      "execution_count": 15,
      "outputs": [
        {
          "output_type": "execute_result",
          "data": {
            "text/plain": [
              "[array([[-0.06890165,  0.02131411, -0.07931593, ..., -0.07477474,\n",
              "         -0.05905729,  0.03803523],\n",
              "        [ 0.02737628,  0.01548739, -0.01320302, ...,  0.04897645,\n",
              "          0.07832439,  0.06520438],\n",
              "        [-0.0207638 ,  0.06412715, -0.02667054, ...,  0.06846103,\n",
              "         -0.00243229,  0.02635577],\n",
              "        ...,\n",
              "        [ 0.01841462,  0.05369574,  0.07368931, ..., -0.00532352,\n",
              "         -0.06926138, -0.05303757],\n",
              "        [ 0.0381889 , -0.04594757, -0.04350844, ...,  0.0716989 ,\n",
              "         -0.03100914,  0.06088656],\n",
              "        [ 0.00857691,  0.04550566,  0.05526742, ..., -0.06957624,\n",
              "          0.01501558, -0.03375331]], dtype=float32),\n",
              " array([-0.03065781, -0.04309368, -0.09024932,  0.02094034, -0.08826057,\n",
              "         0.17568542,  0.00489169,  0.00290978, -0.01242789, -0.16660881,\n",
              "         0.17966501, -0.05669148,  0.15714319, -0.03980241,  0.14232185,\n",
              "         0.03996404,  0.12087182,  0.16237448, -0.05824014,  0.11347961,\n",
              "         0.036507  ,  0.01249828, -0.01377697,  0.10895716, -0.01809051,\n",
              "         0.09068894,  0.08254378,  0.08099495,  0.0566791 ,  0.0774929 ,\n",
              "         0.07397939, -0.0066981 ,  0.0936194 , -0.00089271, -0.0148975 ,\n",
              "         0.03499779,  0.00591438, -0.07099943, -0.07539091,  0.13525164,\n",
              "        -0.00114642,  0.07789485, -0.077419  ,  0.01013337,  0.03602166,\n",
              "         0.03010591, -0.03910628, -0.06463721,  0.14777306,  0.07121831,\n",
              "         0.03331756,  0.01937122, -0.10745702, -0.08584774,  0.17791641,\n",
              "        -0.03134314,  0.007921  , -0.0925023 ,  0.08123545,  0.0373625 ,\n",
              "        -0.04535914,  0.21485075,  0.09521207, -0.00792994,  0.00755836,\n",
              "         0.11641429,  0.0870266 , -0.01653729,  0.06599156,  0.17498147,\n",
              "        -0.00618936,  0.1250856 ,  0.05997264,  0.03172982,  0.04519331,\n",
              "         0.13690561,  0.05226725,  0.1070126 ,  0.03440268,  0.20770495,\n",
              "         0.01475851,  0.03843125, -0.07261667,  0.09377361,  0.2128023 ,\n",
              "         0.02678034,  0.02706399, -0.14020006,  0.02301086,  0.06203756,\n",
              "         0.05970969,  0.02300735,  0.15538073,  0.07959709, -0.04053894,\n",
              "        -0.08621476,  0.0313875 , -0.066057  , -0.01266247,  0.13622874],\n",
              "       dtype=float32),\n",
              " array([[-2.75956601e-01,  4.45483550e-02,  2.32136562e-01,\n",
              "          6.04780726e-02, -4.66780335e-01, -2.84275949e-01,\n",
              "         -1.03155106e-01,  2.74531603e-01,  9.87903327e-02,\n",
              "         -9.65476155e-01],\n",
              "        [ 2.32032612e-01,  6.67635053e-02,  1.62493959e-01,\n",
              "          1.60621524e-01, -3.53630483e-01, -6.05446756e-01,\n",
              "         -5.76648355e-01,  2.55750388e-01, -2.08024845e-01,\n",
              "          3.33677322e-01],\n",
              "        [ 1.63093567e-01,  4.18172151e-01,  4.94307242e-02,\n",
              "         -2.75219917e-01, -1.57096133e-01, -2.10851520e-01,\n",
              "          1.14015080e-02, -2.58292654e-03, -6.34860575e-01,\n",
              "          3.29627037e-01],\n",
              "        [ 8.01909193e-02, -2.11198807e-01, -5.11027649e-02,\n",
              "         -1.88266742e-04, -2.05777332e-01, -3.79015207e-02,\n",
              "         -3.59444097e-02, -3.02216321e-01,  2.11239845e-01,\n",
              "         -1.11428306e-01],\n",
              "        [-5.74004874e-02, -9.62623954e-02,  1.84308872e-01,\n",
              "          2.02252999e-01, -8.58862977e-03, -2.36854419e-01,\n",
              "         -3.77209187e-01, -1.66074917e-01,  2.89753126e-03,\n",
              "          2.33058453e-01],\n",
              "        [-3.62084776e-01,  2.81760067e-01,  3.40431035e-01,\n",
              "         -2.81690180e-01,  2.49113917e-01,  3.48679110e-04,\n",
              "         -3.84620167e-02, -3.03838193e-01, -9.09102857e-02,\n",
              "         -4.25492644e-01],\n",
              "        [ 2.73027003e-01, -1.67899683e-01,  1.55454064e-02,\n",
              "          5.80352619e-02,  2.31094778e-01,  2.03171268e-01,\n",
              "          3.06096703e-01,  1.87081352e-01, -4.64426547e-01,\n",
              "          1.61916930e-02],\n",
              "        [-5.56116223e-01,  4.12718624e-01, -3.97289515e-01,\n",
              "          3.67483079e-01,  9.41224582e-03,  5.16699255e-01,\n",
              "         -8.66508186e-01, -3.39975715e-01, -4.90330130e-01,\n",
              "          3.95229816e-01],\n",
              "        [ 1.77720234e-01,  1.70218065e-01, -4.07059014e-01,\n",
              "         -3.80607784e-01, -4.00848210e-01,  3.15739214e-01,\n",
              "          3.93523544e-01, -9.51833725e-02, -1.70510411e-01,\n",
              "          1.42686233e-01],\n",
              "        [ 5.27832247e-02, -5.78574896e-01, -1.26490235e-01,\n",
              "          2.61778891e-01, -3.40024322e-01, -3.14553648e-01,\n",
              "          1.09570064e-01, -9.23340619e-02, -7.71438628e-02,\n",
              "          2.48377785e-01],\n",
              "        [-2.34877151e-02, -2.67713040e-01, -8.63801479e-01,\n",
              "         -7.51553625e-02, -2.76534081e-01,  4.84647065e-01,\n",
              "          7.05263019e-02, -1.08950704e-01,  2.72697750e-02,\n",
              "          1.72005862e-01],\n",
              "        [-4.00187165e-01,  2.00171873e-01, -8.38812068e-03,\n",
              "         -8.90358463e-02,  1.30371019e-01, -7.12575078e-01,\n",
              "         -5.40430963e-01, -1.93160713e-01,  2.83517018e-02,\n",
              "          1.20339774e-01],\n",
              "        [-1.82442233e-01, -2.75137693e-01,  3.58213633e-01,\n",
              "         -5.97462580e-02,  7.13518038e-02, -1.08653858e-01,\n",
              "          2.27694809e-01,  4.01337177e-01, -3.35221559e-01,\n",
              "         -2.66689420e-01],\n",
              "        [-4.28281695e-01, -1.07301004e-01, -1.46949068e-01,\n",
              "         -1.79523185e-01,  1.89619869e-01,  1.63169369e-01,\n",
              "         -2.16718167e-02, -2.69912601e-01,  2.51041025e-01,\n",
              "          2.10479185e-01],\n",
              "        [-1.73997343e-01, -1.90962866e-01,  6.74611107e-02,\n",
              "         -2.35401131e-02,  2.77093593e-02, -4.53479290e-02,\n",
              "          1.26486376e-01, -2.40027159e-01,  1.91590458e-01,\n",
              "         -1.10345177e-01],\n",
              "        [ 1.55064568e-01,  8.27028528e-02,  2.11911380e-01,\n",
              "         -6.65279329e-01,  2.52083987e-01, -5.03577054e-01,\n",
              "         -2.99148280e-02,  2.93407410e-01, -1.72713906e-01,\n",
              "          2.23875538e-01],\n",
              "        [-6.73569888e-02, -2.22552031e-01,  2.60092527e-01,\n",
              "          6.91074878e-02,  1.10085063e-01, -3.35462354e-02,\n",
              "          2.54735798e-01, -2.73753971e-01, -6.06189705e-02,\n",
              "         -3.83443624e-01],\n",
              "        [ 1.99603349e-01,  2.88549751e-01,  2.95202881e-01,\n",
              "         -2.39123508e-01, -5.11272371e-01,  3.50712150e-01,\n",
              "         -3.21600050e-01, -4.27742571e-01,  1.87908366e-01,\n",
              "          3.66446763e-01],\n",
              "        [-7.01075047e-02,  4.30893041e-02, -1.61452234e-01,\n",
              "          2.10403204e-01, -1.71209499e-01,  7.00393096e-02,\n",
              "         -2.44424284e-01,  1.27859354e-01,  2.21135706e-01,\n",
              "          2.41630241e-01],\n",
              "        [-3.58274221e-01,  4.82566476e-01,  1.87539533e-01,\n",
              "          4.22672093e-01, -3.65434647e-01,  7.74788037e-02,\n",
              "         -4.34775084e-01,  2.50655890e-01, -5.27769744e-01,\n",
              "         -9.29758046e-03],\n",
              "        [-3.28882456e-01,  3.68821055e-01,  3.52098495e-01,\n",
              "         -8.36891234e-02, -1.48107275e-01, -2.67425478e-01,\n",
              "         -3.72368768e-02,  4.51337010e-01, -3.00921381e-01,\n",
              "         -7.98979223e-01],\n",
              "        [ 2.35803142e-01,  1.44328818e-01,  1.95152655e-01,\n",
              "          2.98303545e-01, -1.89889655e-01,  1.97796613e-01,\n",
              "          1.65726632e-01, -3.29165906e-01, -9.86184180e-02,\n",
              "         -5.25572300e-01],\n",
              "        [ 3.20790738e-01, -2.48531163e-01,  2.11279169e-01,\n",
              "         -2.08707228e-01,  2.01224446e-01, -4.33022261e-01,\n",
              "         -1.03547245e-01,  2.52110243e-01, -5.16041160e-01,\n",
              "         -3.57011035e-02],\n",
              "        [ 1.45753042e-03, -6.24429226e-01,  5.11187650e-02,\n",
              "          1.57351641e-03,  9.00521502e-02,  2.34843686e-01,\n",
              "         -2.78227538e-01,  1.68587446e-01,  2.69005775e-01,\n",
              "          2.24353388e-01],\n",
              "        [-7.03456044e-01, -2.70069484e-02, -3.81180346e-01,\n",
              "          1.74358875e-01,  3.28854799e-01,  1.03093088e-01,\n",
              "         -4.77780819e-01, -4.91372287e-01,  3.08304399e-01,\n",
              "          9.10590515e-02],\n",
              "        [-6.03414536e-01, -4.08842623e-01,  5.83826564e-02,\n",
              "          3.24624151e-01,  1.45071805e-01,  2.25742146e-01,\n",
              "         -3.57295483e-01,  1.93830073e-01, -9.39755067e-02,\n",
              "          1.07873686e-01],\n",
              "        [-8.93502414e-01,  1.82423472e-01, -6.91015780e-01,\n",
              "          2.51362443e-01,  2.87856579e-01,  2.72993892e-01,\n",
              "         -1.83794364e-01, -1.33839533e-01,  4.39057909e-02,\n",
              "          3.26789580e-02],\n",
              "        [ 2.89946526e-01, -1.39265507e-01, -2.84173414e-02,\n",
              "         -3.20633709e-01, -4.70376713e-03,  9.10488367e-02,\n",
              "         -1.21911811e-02, -3.23211581e-01,  1.14479311e-01,\n",
              "         -7.01969787e-02],\n",
              "        [ 6.22923113e-02, -3.92998338e-01,  2.09333062e-01,\n",
              "         -1.19584754e-01, -3.44498932e-01, -6.77365959e-02,\n",
              "         -6.04711711e-01,  3.83040398e-01, -8.47787037e-02,\n",
              "         -4.18665648e-01],\n",
              "        [ 2.47027412e-01,  2.04405591e-01, -2.17928186e-01,\n",
              "         -3.83960783e-01,  3.42240632e-01,  2.53261596e-01,\n",
              "          3.63452405e-01,  4.30915385e-01, -1.91773191e-01,\n",
              "         -7.11171687e-01],\n",
              "        [-3.28807503e-01,  2.67125249e-01,  6.52199462e-02,\n",
              "         -1.98730528e-01,  3.37685496e-02, -2.55741954e-01,\n",
              "          2.00076297e-01, -7.17572793e-02, -6.69658929e-02,\n",
              "         -7.78770968e-02],\n",
              "        [-4.05247629e-01, -2.67420620e-01, -2.30252922e-01,\n",
              "         -1.42691821e-01, -3.30547839e-02, -3.30868304e-01,\n",
              "         -5.84917031e-02,  3.91525477e-01, -1.77713037e-01,\n",
              "         -8.34513307e-02],\n",
              "        [ 1.51691720e-01,  1.26427487e-01, -1.58962637e-01,\n",
              "         -6.39354229e-01,  4.71492261e-01,  2.21342400e-01,\n",
              "         -1.50762260e-01, -6.72238916e-02, -4.07903045e-01,\n",
              "         -2.66275823e-01],\n",
              "        [ 1.38803855e-01, -3.82442504e-01, -2.14014441e-01,\n",
              "          6.76733702e-02,  2.10457742e-01,  4.45038639e-02,\n",
              "          9.57603082e-02,  8.85560215e-02,  1.33733004e-01,\n",
              "          2.98036575e-01],\n",
              "        [ 1.80061281e-01, -1.37792863e-02, -5.43609299e-02,\n",
              "          9.84982997e-02, -5.39557040e-01,  5.47497347e-02,\n",
              "          1.08632900e-01, -3.93215448e-01,  1.52479813e-01,\n",
              "         -8.70121643e-02],\n",
              "        [-2.12138802e-01, -3.28007162e-01, -3.59837800e-01,\n",
              "          1.40635237e-01,  4.62449677e-02,  2.50402570e-01,\n",
              "          1.26812503e-01, -4.17145938e-01,  1.13793977e-01,\n",
              "         -8.39715637e-03],\n",
              "        [ 2.05356151e-01,  1.23717591e-01, -1.91968292e-01,\n",
              "         -1.54175535e-01,  2.30057150e-01,  6.82182461e-02,\n",
              "          2.15800330e-01,  5.41181788e-02, -4.35543150e-01,\n",
              "          1.75966918e-01],\n",
              "        [-1.46598712e-01,  2.40266845e-01, -1.28053859e-01,\n",
              "          2.32153282e-01,  2.80504614e-01, -8.33417952e-01,\n",
              "         -5.30117750e-01, -1.12525962e-01,  1.95646793e-01,\n",
              "          1.04489855e-01],\n",
              "        [ 1.90193057e-01, -2.77692556e-01, -2.36360177e-01,\n",
              "          1.22848069e-02,  1.20239325e-01, -2.88231760e-01,\n",
              "         -2.25303233e-01,  2.13336825e-01,  1.59589216e-01,\n",
              "          3.28775421e-02],\n",
              "        [-5.26467621e-01, -3.28404218e-01,  1.35316163e-01,\n",
              "          1.76197484e-01,  3.38171184e-01,  9.05842409e-02,\n",
              "         -7.70306528e-01,  1.98461995e-01, -6.15397431e-02,\n",
              "          1.85997024e-01],\n",
              "        [ 1.71955243e-01, -4.57111783e-02,  2.85975069e-01,\n",
              "          1.69626102e-01, -1.28050435e+00,  1.10245002e-02,\n",
              "         -2.37689227e-01,  2.32043251e-01, -1.71772316e-01,\n",
              "         -3.62593502e-01],\n",
              "        [-9.05147970e-01,  3.67948294e-01,  5.83474100e-01,\n",
              "         -8.66746306e-02, -1.48039684e-01, -2.58069158e-01,\n",
              "         -1.72519967e-01,  4.64414060e-01,  1.54263571e-01,\n",
              "         -5.48911095e-01],\n",
              "        [ 5.84777258e-02,  1.01593815e-01, -2.62388606e-02,\n",
              "          1.01620376e-01, -3.11092615e-01, -8.88938382e-02,\n",
              "          1.60283834e-01, -2.55809873e-01, -3.65218357e-03,\n",
              "         -1.84230030e-01],\n",
              "        [ 1.35207072e-01, -2.76823819e-01,  2.12506711e-01,\n",
              "          1.76917270e-01,  1.76211819e-01, -3.62020209e-02,\n",
              "         -1.33884609e-01, -9.55680162e-02, -4.44864541e-01,\n",
              "         -2.77309179e-01],\n",
              "        [-3.39556783e-01,  4.97470975e-01, -1.17041871e-01,\n",
              "          1.52833089e-01,  1.15762569e-01, -7.14315057e-01,\n",
              "          3.78610998e-01,  2.61830032e-01, -7.65636265e-02,\n",
              "          9.29054022e-02],\n",
              "        [-8.83841589e-02, -1.14423268e-01, -3.57581258e-01,\n",
              "          2.24108920e-02,  9.32093784e-02, -2.36720704e-02,\n",
              "         -1.99683920e-01,  9.36158970e-02,  1.74732968e-01,\n",
              "          1.13607861e-01],\n",
              "        [-1.13794412e-02,  3.85101438e-01, -3.60205144e-01,\n",
              "         -2.45376036e-01,  1.10861726e-01, -4.06653821e-01,\n",
              "         -5.81978381e-01,  1.39336318e-01, -8.01700130e-02,\n",
              "          2.23757520e-01],\n",
              "        [ 1.17112264e-01, -2.31028274e-01,  2.25197613e-01,\n",
              "          1.91077858e-01, -5.16352236e-01,  1.10030815e-01,\n",
              "         -6.16916865e-02, -1.53790385e-01,  2.87183195e-01,\n",
              "         -4.39199992e-02],\n",
              "        [-3.93550575e-01,  2.42153704e-01, -2.46641025e-01,\n",
              "         -8.26966345e-01,  3.41930389e-01,  9.16885734e-02,\n",
              "          6.49580359e-02, -2.42121056e-01,  4.83569540e-02,\n",
              "          2.19548121e-01],\n",
              "        [ 1.44677073e-01,  6.88887462e-02,  9.10065696e-02,\n",
              "         -2.25712776e-01,  5.59668802e-03, -6.65590465e-02,\n",
              "          2.82657832e-01, -5.06188214e-01,  8.24789852e-02,\n",
              "         -4.57058579e-01],\n",
              "        [-7.22994506e-02, -2.51599491e-01, -1.55797139e-01,\n",
              "          1.67631149e-01, -1.78073183e-01,  1.16577327e-01,\n",
              "         -3.56184512e-01, -8.56964588e-02,  1.86552390e-01,\n",
              "         -9.84756127e-02],\n",
              "        [-3.03595126e-01, -3.59801292e-01, -1.82678223e-01,\n",
              "          8.88834521e-02, -7.55359828e-01,  4.62032020e-01,\n",
              "          5.24446011e-01,  6.78011402e-02,  2.07157210e-02,\n",
              "         -3.07158798e-01],\n",
              "        [ 2.48487964e-01, -1.59201756e-01, -8.59251395e-02,\n",
              "          4.39123183e-01, -1.76933408e-02, -1.39288351e-01,\n",
              "          3.26399863e-01,  1.07831471e-01, -9.86402333e-02,\n",
              "         -5.48501968e-01],\n",
              "        [ 1.13951787e-02,  3.04424793e-01, -5.41739643e-01,\n",
              "          1.58665597e-01,  2.09565878e-01, -3.15173626e-01,\n",
              "          3.41010541e-01,  9.30470601e-02, -9.14700478e-02,\n",
              "         -4.29785326e-02],\n",
              "        [-1.00014575e-01,  3.90941709e-01,  1.69399977e-01,\n",
              "         -1.59488142e-01, -1.70632210e-02,  6.58543468e-01,\n",
              "         -4.49678063e-01,  9.68856961e-02, -7.77828276e-01,\n",
              "         -3.27311605e-02],\n",
              "        [-1.92036733e-01, -2.87960887e-01,  2.74127036e-01,\n",
              "          3.42380464e-01, -7.23854601e-01, -2.72610933e-01,\n",
              "          2.76501089e-01,  2.75129914e-01, -1.56068191e-01,\n",
              "          1.74559146e-01],\n",
              "        [-6.66517839e-02,  1.79391112e-02,  3.17374676e-01,\n",
              "          3.09807032e-01, -3.95175815e-02, -1.93694502e-01,\n",
              "         -5.10460198e-01,  7.64412135e-02, -3.30468923e-01,\n",
              "         -4.41802233e-01],\n",
              "        [-2.12488368e-01, -7.49110505e-02,  3.05631757e-01,\n",
              "          2.33953819e-01, -3.36973667e-01,  2.09863067e-01,\n",
              "         -7.67277479e-01, -4.17434201e-02,  2.10677497e-02,\n",
              "          2.22085163e-01],\n",
              "        [ 1.95258453e-01, -4.27762754e-02, -6.99828744e-01,\n",
              "         -1.38129309e-01,  5.08398592e-01,  2.38527119e-01,\n",
              "          2.34230347e-02,  3.66224982e-02, -1.69361189e-01,\n",
              "          1.08110480e-01],\n",
              "        [ 4.06236388e-02,  1.13397270e-01,  2.73228526e-01,\n",
              "         -3.86506230e-01, -1.12374984e-01, -3.56063992e-01,\n",
              "          1.55096427e-01,  2.69508958e-01, -4.74660784e-01,\n",
              "          1.66793212e-01],\n",
              "        [-4.84867990e-01, -1.04058012e-01, -3.05919588e-01,\n",
              "          3.25349748e-01,  4.46151912e-01, -4.26426560e-01,\n",
              "          8.23835060e-02,  3.35736722e-01,  4.01200615e-02,\n",
              "         -2.63529330e-01],\n",
              "        [ 3.21746111e-01,  1.08806789e-01, -1.77682146e-01,\n",
              "         -8.73946920e-02,  3.29452455e-01, -1.13470316e-01,\n",
              "          2.83298135e-01,  6.00702167e-01, -4.78218049e-01,\n",
              "         -7.06480145e-01],\n",
              "        [ 4.36588556e-01,  4.58764359e-02,  3.34795237e-01,\n",
              "         -2.24964581e-02,  1.72303647e-01,  2.77483556e-02,\n",
              "         -3.12978089e-01, -2.07297690e-02, -3.94119591e-01,\n",
              "         -1.26816053e-02],\n",
              "        [ 1.85397357e-01,  9.16328877e-02,  2.99055070e-01,\n",
              "         -2.07777783e-01,  2.30336445e-03, -3.34548593e-01,\n",
              "         -2.06644818e-01, -1.58101112e-01,  1.99960649e-01,\n",
              "          6.58700019e-02],\n",
              "        [-5.64085841e-01,  9.37538818e-02, -6.45365357e-01,\n",
              "         -1.77553952e-01, -8.17785263e-01,  6.95918739e-01,\n",
              "          1.64691031e-01, -2.05625132e-01, -1.48712069e-01,\n",
              "         -9.02217850e-02],\n",
              "        [ 1.15439393e-01, -4.14481431e-01, -4.74512465e-02,\n",
              "         -2.13295490e-01,  1.03119604e-01,  8.61635506e-02,\n",
              "         -6.28746301e-02,  2.09564984e-01,  1.77255496e-01,\n",
              "          1.08371548e-01],\n",
              "        [ 1.65686816e-01, -1.82303175e-01,  3.12500820e-02,\n",
              "          4.82090786e-02, -8.61178637e-01,  9.38828960e-02,\n",
              "          1.21701948e-01,  1.02885731e-01, -2.16754034e-01,\n",
              "         -1.66246697e-01],\n",
              "        [-8.48380506e-01, -2.34434437e-02, -3.46347481e-01,\n",
              "          3.34148020e-01,  1.76371485e-01,  3.80851924e-01,\n",
              "         -9.06662524e-01, -5.73620975e-01, -6.00565374e-01,\n",
              "          4.31687206e-01],\n",
              "        [-2.48065621e-01,  4.78020161e-01, -3.33748162e-01,\n",
              "         -9.49576139e-01,  3.26378256e-01, -3.39746207e-01,\n",
              "         -8.61034766e-02,  4.37319905e-01,  1.68902740e-01,\n",
              "         -1.65431201e-01],\n",
              "        [-1.34310782e-01, -3.16846728e-01, -2.90592220e-02,\n",
              "          4.34757806e-02, -3.97169031e-02,  2.38219842e-01,\n",
              "          2.60502458e-01,  3.57481427e-02,  1.75593659e-01,\n",
              "         -3.38054568e-01],\n",
              "        [-4.36758012e-01,  4.04688001e-01,  1.06127873e-01,\n",
              "         -6.65642738e-01,  4.96074826e-01,  7.73231909e-02,\n",
              "         -6.37372851e-01,  2.00304136e-01, -5.23500681e-01,\n",
              "         -4.37691808e-01],\n",
              "        [-3.08098406e-01,  6.21769987e-02,  1.94057271e-01,\n",
              "          9.00370628e-03,  1.45276170e-03, -9.96992216e-02,\n",
              "          1.79431871e-01, -4.35776310e-03,  1.48707181e-01,\n",
              "         -1.32399440e-01],\n",
              "        [-3.73106748e-01, -8.82968307e-04,  1.08786650e-01,\n",
              "          5.38777225e-02,  2.57147044e-01, -1.29382789e-01,\n",
              "         -8.99971426e-02, -2.32711002e-01,  6.22595251e-01,\n",
              "         -5.26627600e-01],\n",
              "        [ 7.75424689e-02,  3.11817825e-01,  5.29272139e-01,\n",
              "         -3.23432922e-01,  2.66089439e-01, -6.31881952e-01,\n",
              "          6.65182248e-02,  2.14420035e-01,  2.25782424e-01,\n",
              "         -3.50502849e-01],\n",
              "        [-2.64620632e-01,  2.60334581e-01,  4.04125415e-02,\n",
              "         -1.60641983e-01,  1.63425162e-01,  1.54747263e-01,\n",
              "          3.15234154e-01, -4.14570987e-01, -2.00633004e-01,\n",
              "         -5.03734052e-01],\n",
              "        [-3.63721102e-01,  2.81818390e-01,  2.96864092e-01,\n",
              "         -5.96910834e-01, -3.57053936e-01, -1.01974057e-02,\n",
              "          2.52074152e-01,  1.45412711e-02, -1.29522197e-02,\n",
              "         -1.37500644e-01],\n",
              "        [-4.62007791e-01, -4.71140563e-01, -6.76101208e-01,\n",
              "          1.37304753e-01,  2.70687222e-01,  1.43948808e-01,\n",
              "         -3.61964703e-01, -1.34386465e-01, -6.11490130e-01,\n",
              "          3.25156152e-01],\n",
              "        [ 5.90924099e-02,  8.83759856e-02,  1.01767719e-01,\n",
              "         -4.71510261e-01, -1.08255140e-01,  2.79991329e-01,\n",
              "          1.60350308e-01, -5.68958640e-01,  2.59205312e-01,\n",
              "         -2.52212852e-01],\n",
              "        [ 1.76596846e-02, -1.78402901e-01, -4.15796101e-01,\n",
              "          3.22371632e-01, -4.19067621e-01,  2.11306244e-01,\n",
              "         -6.56789094e-02,  1.80447996e-01,  1.74508184e-01,\n",
              "         -9.02424660e-03],\n",
              "        [ 2.23560795e-01, -5.53389966e-01,  3.12977850e-01,\n",
              "          2.89863274e-02, -1.51984006e-01,  2.52186656e-01,\n",
              "         -5.36197960e-01,  2.66987115e-01, -3.31173420e-01,\n",
              "          2.06256256e-01],\n",
              "        [ 2.35329688e-01, -6.20514333e-01, -1.29781127e-01,\n",
              "         -2.61805773e-01,  2.66029835e-01,  1.08163945e-01,\n",
              "          3.26205939e-01, -7.23940041e-03,  3.60999465e-01,\n",
              "          1.74373463e-01],\n",
              "        [ 1.59591481e-01,  2.60075241e-01,  2.80884683e-01,\n",
              "         -2.04016399e-02, -4.59413350e-01,  8.84884670e-02,\n",
              "          4.27507423e-02, -4.05369997e-01, -4.96117435e-02,\n",
              "         -4.18341219e-01],\n",
              "        [ 2.45928496e-01, -3.38904411e-01,  1.02480784e-01,\n",
              "          2.32272804e-01,  1.58602133e-01, -8.09972659e-02,\n",
              "          1.85677841e-01, -4.37133275e-02,  1.41097322e-01,\n",
              "          1.58577845e-01],\n",
              "        [-2.14471564e-01, -1.99151069e-01,  6.92047253e-02,\n",
              "          3.70451398e-02,  2.13867739e-01, -2.47903824e-01,\n",
              "          6.16311952e-02, -7.58574530e-02,  9.28002000e-02,\n",
              "         -8.70740414e-02],\n",
              "        [ 2.61247158e-01,  3.55751008e-01, -1.84778839e-01,\n",
              "          1.77051216e-01, -1.23954333e-01,  2.11995706e-01,\n",
              "          9.21397880e-02,  1.79428086e-01, -4.31802690e-01,\n",
              "         -4.09465134e-01],\n",
              "        [-2.97237247e-01,  3.56423110e-02,  1.63265526e-01,\n",
              "          1.09001160e-01, -3.31161320e-02,  1.76838621e-01,\n",
              "         -3.48525226e-01, -8.69336128e-02,  1.99926287e-01,\n",
              "          9.58735943e-02],\n",
              "        [-5.68674803e-01,  2.98572004e-01,  3.33786517e-01,\n",
              "         -2.96328992e-01, -1.79140508e-01,  2.72735536e-01,\n",
              "         -1.59937948e-01,  6.76945001e-02, -7.88509324e-02,\n",
              "         -5.81546605e-01],\n",
              "        [-1.10009737e-01, -3.74346495e-01,  2.20801622e-01,\n",
              "          7.00652897e-01, -4.26906645e-01, -2.04652354e-01,\n",
              "          2.26717487e-01, -5.74233711e-01,  1.05148777e-01,\n",
              "          3.92740339e-01],\n",
              "        [ 2.03424692e-01, -2.07542717e-01,  1.50376841e-01,\n",
              "         -4.70028669e-02, -2.80190378e-01,  3.67222816e-01,\n",
              "         -3.49540293e-01,  6.46215156e-02,  1.83606476e-01,\n",
              "          2.40408361e-01],\n",
              "        [-4.44020145e-02, -3.02028358e-01, -9.32312980e-02,\n",
              "         -1.85154855e-01,  2.00759936e-02, -1.91662714e-01,\n",
              "         -1.73913121e-01,  6.12716042e-02,  1.40540987e-01,\n",
              "          4.11951020e-02],\n",
              "        [ 4.38441634e-02,  9.13919508e-02, -3.03439677e-01,\n",
              "         -3.34201306e-02, -1.56751871e-02,  2.00434074e-01,\n",
              "          2.12180153e-01,  3.93789053e-01, -6.57962084e-01,\n",
              "         -4.26222533e-02],\n",
              "        [-3.43823671e-01,  3.48226309e-01, -5.65478683e-01,\n",
              "         -5.03889143e-01,  4.18884084e-02, -3.30992252e-01,\n",
              "          3.20602030e-01,  6.31295070e-02, -3.28006536e-01,\n",
              "          4.31633890e-01],\n",
              "        [-6.49486110e-02, -2.06574783e-01,  4.48406428e-01,\n",
              "         -4.72441874e-02,  2.29486093e-01,  1.01355717e-01,\n",
              "         -2.89771318e-01, -5.61280310e-01, -5.56750119e-01,\n",
              "          1.73309699e-01],\n",
              "        [-2.15839967e-02,  1.29747704e-01,  1.42591065e-02,\n",
              "          3.42626840e-01, -3.46651286e-01,  2.91220635e-01,\n",
              "          2.62611777e-01,  1.19702086e-01,  2.49247029e-01,\n",
              "         -5.18413186e-01],\n",
              "        [ 1.30730122e-01, -1.67386770e-01, -3.06643136e-02,\n",
              "         -1.12166032e-01, -1.04458004e-01, -1.41020268e-01,\n",
              "         -5.96494302e-02,  1.75117142e-03, -2.31074467e-01,\n",
              "         -1.23465225e-01],\n",
              "        [ 3.71647626e-01, -1.99819103e-01,  3.09248924e-01,\n",
              "          6.18632771e-02, -6.02802038e-01, -2.82742471e-01,\n",
              "          6.49344549e-02, -2.53692061e-01,  1.64002314e-01,\n",
              "          3.11415106e-01],\n",
              "        [-2.47127399e-01,  4.41660970e-01, -8.47919583e-02,\n",
              "          1.43646523e-01,  9.07595977e-02, -7.54794240e-01,\n",
              "         -3.19426179e-01, -1.48302853e-01, -3.55637997e-01,\n",
              "          2.29314521e-01],\n",
              "        [-1.70972601e-01, -1.03691086e-01,  2.15410646e-02,\n",
              "          4.62081939e-01, -2.51213193e-01, -3.27894449e-01,\n",
              "          7.62379616e-02,  4.05705452e-01, -2.84538567e-01,\n",
              "         -3.85578454e-01],\n",
              "        [-1.04896866e-01,  1.94779545e-01, -1.67718485e-01,\n",
              "         -3.89114380e-01, -5.80771565e-01,  5.17169237e-01,\n",
              "          5.92087150e-01, -1.37034908e-01, -2.12707281e-01,\n",
              "          3.44997495e-01],\n",
              "        [-3.29969704e-01, -6.92795873e-01, -2.57233493e-02,\n",
              "         -4.22228545e-01,  2.51536340e-01, -4.72024269e-02,\n",
              "          2.01511919e-01, -1.07882820e-01,  1.33786082e-01,\n",
              "          1.18099496e-01]], dtype=float32),\n",
              " array([-0.11355898, -0.04831642,  0.04398569, -0.08093386,  0.04040341,\n",
              "         0.08550406, -0.00464588, -0.02844017,  0.12983097, -0.08823606],\n",
              "       dtype=float32)]"
            ]
          },
          "metadata": {
            "tags": []
          },
          "execution_count": 15
        }
      ]
    },
    {
      "cell_type": "code",
      "metadata": {
        "id": "pj-eXfNWPdih"
      },
      "source": [
        ""
      ],
      "execution_count": null,
      "outputs": []
    }
  ]
}